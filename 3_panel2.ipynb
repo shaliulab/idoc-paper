{
 "cells": [
  {
   "cell_type": "code",
   "execution_count": 1,
   "id": "0f8fcedf-0683-4157-8e36-9c9ee2b46746",
   "metadata": {},
   "outputs": [
    {
     "name": "stderr",
     "output_type": "stream",
     "text": [
      "Loading required package: behavr\n",
      "\n"
     ]
    }
   ],
   "source": [
    "library(readxl)\n",
    "library(data.table)\n",
    "library(ggplot2)\n",
    "library(ggprism)\n",
    "library(ggforce)\n",
    "library(ggetho)\n",
    "library(ggsignif)\n",
    "source(\"library.R\", local = T)"
   ]
  },
  {
   "cell_type": "code",
   "execution_count": 2,
   "id": "0433c801-840a-4413-8a22-feee318c3d18",
   "metadata": {},
   "outputs": [],
   "source": [
    "# data_clean_long[Fly_group_experiment_treatment==\"ISO31'_STM(2hr)_OCT_CSplus_EShock_US_Paired_1X -Learning_ETHOSCOPE-NO\", experiment]"
   ]
  },
  {
   "cell_type": "code",
   "execution_count": 3,
   "id": "a645e4b8-3050-4e35-95b5-ae09e65e2278",
   "metadata": {},
   "outputs": [
    {
     "ename": "ERROR",
     "evalue": "Error in eval(expr, envir, enclos): object 'panel2_data' not found\n",
     "output_type": "error",
     "traceback": [
      "Error in eval(expr, envir, enclos): object 'panel2_data' not found\nTraceback:\n"
     ]
    }
   ],
   "source": [
    "panel2_data <- panel2_data[experiment != \"20min STM\" | User == \"CH\",]\n",
    "size_unit=2.5"
   ]
  },
  {
   "cell_type": "code",
   "execution_count": null,
   "id": "0ad6f57e-a768-4f38-a09c-524c93a51fa9",
   "metadata": {},
   "outputs": [],
   "source": [
    "ratio=2.5\n",
    "panel2A <- learning_plot(\n",
    "    panel2_data, \"experiment\", \"horizontal\", y_limits=y_limits_panel2,\n",
    "    colors=colors_panel2, test=paired_t_test,\n",
    "    map_signif_level=TRUE,\n",
    "    starsize=10, textsize=8,\n",
    "    hjust_text=0.25,\n",
    "    y_annotation=0.5\n",
    ")\n",
    "save_learning_plot(plot = panel2A, filename = \"figures/panel2A.svg\", ratio=ratio, size_unit=size_unit)\n",
    "options(repr.plot.height=size_unit*ratio, repr.plot.width=size_unit*panel2A$n_facets)\n",
    "panel2A"
   ]
  },
  {
   "cell_type": "code",
   "execution_count": null,
   "id": "3668f55c-a4a5-4393-92ed-c8158feefa5a",
   "metadata": {},
   "outputs": [],
   "source": [
    "ratio=7\n",
    "size_unit=1\n",
    "panel2B <- summary_plot(\n",
    "    data=panel2_data,\n",
    "    group = \"experiment\", \n",
    "    comparisons = list(\n",
    "        c(\"20min STM\", \"3hr STM\"),\n",
    "        c(\"1hr STM\", \"3hr STM\")\n",
    "    ),\n",
    "    map_signif_level=T,\n",
    "    annotation_y=c(0.44, .27),\n",
    "    test=unpaired_t_test,\n",
    "    colors=colors_panel2,\n",
    "    x_labels_angle=45,\n",
    "    y_limits=y_limits_panel2,\n",
    "    starsize=10,\n",
    "    text_y_size=20,\n",
    "    title_y_size=25\n",
    ")\n",
    "panel2B$gg <- panel2B$gg + theme(\n",
    "    axis.text.x=element_blank(),\n",
    "    axis.ticks.x=element_blank()\n",
    ")\n",
    "options(repr.plot.width=panel2B$n_facets*size_unit, repr.plot.height=size_unit*ratio )\n",
    "panel2B\n",
    "save_summ_plot(plot=panel2B, filename = \"figures/panel2B.svg\", size_unit=size_unit, ratio=ratio)"
   ]
  },
  {
   "cell_type": "code",
   "execution_count": null,
   "id": "06e6c6f3-03cf-4a35-ab5a-3841e8a357cf",
   "metadata": {},
   "outputs": [],
   "source": []
  },
  {
   "cell_type": "code",
   "execution_count": null,
   "id": "8b0767ed-a1c4-4b78-9d18-de34e1fcd114",
   "metadata": {},
   "outputs": [],
   "source": []
  }
 ],
 "metadata": {
  "kernelspec": {
   "display_name": "R42",
   "language": "R",
   "name": "r42"
  },
  "language_info": {
   "codemirror_mode": "r",
   "file_extension": ".r",
   "mimetype": "text/x-r-source",
   "name": "R",
   "pygments_lexer": "r",
   "version": "4.2.3"
  }
 },
 "nbformat": 4,
 "nbformat_minor": 5
}
