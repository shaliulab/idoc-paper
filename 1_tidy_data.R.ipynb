{
 "cells": [
  {
   "cell_type": "code",
   "execution_count": 401,
   "id": "0f8fcedf-0683-4157-8e36-9c9ee2b46746",
   "metadata": {},
   "outputs": [],
   "source": [
    "library(readxl)\n",
    "library(data.table)\n",
    "library(ggplot2)\n",
    "library(ggprism)\n",
    "library(ggforce)\n",
    "library(ggetho)\n",
    "library(ggsignif)\n",
    "library(zoo)\n",
    "theme_set(theme_prism(base_size=20))\n",
    "options(repr.plot.width=15, repr.plot.height=15)"
   ]
  },
  {
   "cell_type": "code",
   "execution_count": 402,
   "id": "cbba2e53-e7b1-4c90-bf6b-2e9070b685f5",
   "metadata": {},
   "outputs": [],
   "source": [
    "idoc_dir <- \"/idoc_data/results/IDOC_001/\"\n",
    "xlsx_file <- \"IDOC_METHODS_PAPER_METADATA.xlsx\""
   ]
  },
  {
   "cell_type": "code",
   "execution_count": 403,
   "id": "cb86a69f-544e-45aa-9e66-3f2f61ce46e6",
   "metadata": {
    "tags": []
   },
   "outputs": [],
   "source": [
    "sheets <- c(\"20min STM\", \"1hr STM\", \"2hr STM\", \"3hr STM\")\n",
    "zts <- paste0(\"ZT\", as.character(round(seq(4, 30, .5), 1)))\n",
    "\n",
    "dts <- lapply(sheets, function(sheet) {\n",
    "    x <- cbind(\n",
    "            as.data.table(suppressMessages(readxl::read_xlsx(xlsx_file, sheet = sheet, skip = 2)))[, .(Fly_group_experiment_treatment, fly_name_reference, Genotype = \"Iso31\", PRE, POST)],\n",
    "            experiment = sheet,\n",
    "            `Training-session` = \"1X\"\n",
    "        )\n",
    "    for (zt in zts) {\n",
    "        x[[zt]] <- NA_real_\n",
    "    } \n",
    "    for (zt in zts) {\n",
    "        x[[paste0(zt, \"_interactions\")]] <- NA_real_\n",
    "    }\n",
    "\n",
    "    x\n",
    "    \n",
    "\n",
    "})\n",
    "names(dts) <- sheets"
   ]
  },
  {
   "cell_type": "code",
   "execution_count": 404,
   "id": "d8d6ed7a-8fde-44fd-856c-65e9c2154836",
   "metadata": {
    "tags": []
   },
   "outputs": [],
   "source": [
    "# idoc_folders <- list.files(idoc_dir, full.names = T)\n",
    "# # idoc_folders <- idoc_folders[grep(pattern = \"2021\", x = idoc_folders)]\n",
    "# # print(idoc_folders)\n",
    "# ltm_chx_folders <- c(\"2021-11-27 (CH1)\", \"2021-11-28 (CH)\", \"2021-11-30 (CH)\", \"2021-12-02 (CH)\", \"2021-11-17 (CH)\", \"2021-12-22 (CH)\", \"2021-11-28 (CH)\")\n",
    "# ltm_chx_folders <- names(sapply(ltm_chx_folders, function(folder) {idoc_folders[grep(x = idoc_folders, pattern = folder)]}))\n",
    "\n",
    "# ltm_chx_folders <- sapply(ltm_chx_folders, function(folder) {file.path(idoc_dir,folder)})\n",
    "\n",
    "\n",
    "\n",
    "# ltm_chx <-lapply(\n",
    "#     ltm_chx_folders,\n",
    "#     function(idoc_folder) {\n",
    "#         exp_date <- substr(basename(idoc_folder), 1, 10)\n",
    "#         subexperiments <- sort(list.files(idoc_folder, full.names = T))\n",
    "\n",
    "#         # print(idoc_folder)\n",
    "#         # print(exp_date)\n",
    "#         # print(subexperiments)\n",
    "#         if ((substr(basename(subexperiments[7]), 1, 10) != exp_date) | (substr(basename(subexperiments[8]), 1, 10) == exp_date)) {\n",
    "#             print(subexperiments[7])\n",
    "#             print(exp_date)\n",
    "#             stop(paste0(idoc_folder, \" is corruped\"))\n",
    "#         }\n",
    "\n",
    "#         paths <- list.files(subexperiments[1], full.names = T)\n",
    "#         csv_file <- paths[grep(pattern = \"_PI.csv\", x = paths)]\n",
    "#         data1 <- data.table::fread(csv_file)\n",
    "#         data1 <- cbind(exp_folder=basename(idoc_folder), data1)\n",
    "#         colnames(data1)[colnames(data1) == \"preference_index\"] <- \"PRE\"\n",
    "#         data1[, apetitive:=NULL]\n",
    "#         data1[, aversive:=NULL]\n",
    "        \n",
    "        \n",
    "        \n",
    "#         paths <- list.files(subexperiments[8], full.names = T)\n",
    "#         csv_file <- paths[grep(pattern = \"_PI.csv\", x = paths)]\n",
    "#         data2 <- data.table::fread(csv_file)\n",
    "#         data2 <- cbind(exp_folder=basename(idoc_folder), data2)\n",
    "#         colnames(data2)[colnames(data2) == \"preference_index\"] <- \"POST\"\n",
    "#         data2[, apetitive:=NULL]\n",
    "#         data2[, aversive:=NULL]\n",
    "        \n",
    "#         data <- merge(data1, data2, by=c(\"exp_folder\", \"region_id\"))\n",
    "        \n",
    "#         data[, Fly_group_experiment_treatment := \"ISO31\\'_LTM(24hr)_OCT_CSplus_EShock_US_Paired_6X_Spaced_ETHOSCOPE-NO_CHX\"]\n",
    "#         data[, fly_name_reference := paste0(basename(idoc_folder), \"_ROI_\", region_id)]\n",
    "#         data[, region_id := NULL]\n",
    "#         data[, exp_folder := NULL]\n",
    "#         data[, experiment := \"LTM_CHX\"]\n",
    "#         data[, `Training-session` := \"6X_Spaced\"]\n",
    "#         for (zt in zts) {\n",
    "#             data[[zt]] <- NA_real_\n",
    "#         } \n",
    "#         data\n",
    "        \n",
    "# })\n",
    "# ltm_chx <- do.call(rbind, ltm_chx)\n",
    "# ltm_chx <- ltm_chx[, c(\"Fly_group_experiment_treatment\", \"fly_name_reference\", \"PRE\", \"POST\", \"experiment\", \"Training-session\", zts), with=F]"
   ]
  },
  {
   "cell_type": "code",
   "execution_count": 405,
   "id": "e2f4cf3b-30a6-4f70-b95a-235e432339b9",
   "metadata": {},
   "outputs": [],
   "source": [
    "ltm <- as.data.table(suppressMessages(readxl::read_xlsx(xlsx_file, sheet = \"LTM experiments\", skip = 2)))\n",
    "ltm$experiment <- \"LTM\""
   ]
  },
  {
   "cell_type": "code",
   "execution_count": 406,
   "id": "0f3eff9d-b41a-47c6-a0d5-5173a1b10368",
   "metadata": {},
   "outputs": [],
   "source": [
    "ltm <- ltm[!is.na(folder_name),]\n"
   ]
  },
  {
   "cell_type": "code",
   "execution_count": 407,
   "id": "7dcf0c51-e4f1-49e3-8bcb-e2bc92e798d2",
   "metadata": {},
   "outputs": [],
   "source": [
    "ltm[is.na(`Training-session`), `Training-session` := \"NONE\"]"
   ]
  },
  {
   "cell_type": "code",
   "execution_count": 408,
   "id": "3cdc95f5-4f51-45e1-804c-78bc2e077d4a",
   "metadata": {},
   "outputs": [
    {
     "data": {
      "text/html": [
       "319"
      ],
      "text/latex": [
       "319"
      ],
      "text/markdown": [
       "319"
      ],
      "text/plain": [
       "[1] 319"
      ]
     },
     "metadata": {},
     "output_type": "display_data"
    }
   ],
   "source": [
    "\n",
    "ltm <- ltm[!is.na(`Training-session`),]\n",
    "ltm <- ltm[SD_quality %in% c(\"No_sleep_depriver\", \"good\") & SD_quality_second_eye %in% c(\"No_sleep_depriver\", \"good\"),]\n",
    "nrow(ltm)\n",
    "ltm<-ltm[ substr(fly_name_reference, 1, 10) !=\"2023-09-12\",]\n",
    "ltm<-ltm[ substr(fly_name_reference, 1, 10) !=\"2023-09-13\",]\n",
    "ltm$Genotype <- \"Iso31\"\n",
    "ltm <- ltm[, c(\"Fly_group_experiment_treatment\", \"fly_name_reference\", \"Genotype\", \"PRE\", \"POST\", \"experiment\",\"Training-session\", zts), with=F]\n",
    "for (col in paste0(zts, \"_interactions\")) {\n",
    "    ltm[[col]] <- NA\n",
    "}"
   ]
  },
  {
   "cell_type": "code",
   "execution_count": 409,
   "id": "21262505-25dc-4186-ade8-d2286a6e0dd3",
   "metadata": {},
   "outputs": [],
   "source": [
    "gtacr <- as.data.table(suppressMessages(readxl::read_xlsx(xlsx_file, sheet = \"LTM_GTACRS2_Sleep\", skip = 2)))"
   ]
  },
  {
   "cell_type": "code",
   "execution_count": 410,
   "id": "8a016adc-7c28-4444-8cfa-18323126c07f",
   "metadata": {},
   "outputs": [
    {
     "data": {
      "text/html": [
       "1"
      ],
      "text/latex": [
       "1"
      ],
      "text/markdown": [
       "1"
      ],
      "text/plain": [
       "[1] 1"
      ]
     },
     "metadata": {},
     "output_type": "display_data"
    }
   ],
   "source": [
    "sum(colnames(gtacr) == \"POST\")"
   ]
  },
  {
   "cell_type": "code",
   "execution_count": null,
   "id": "277dd88a-13c3-45bd-8968-73e07b0e9a85",
   "metadata": {},
   "outputs": [],
   "source": []
  },
  {
   "cell_type": "code",
   "execution_count": 411,
   "id": "d3080825-4f75-408a-b433-52f98012573c",
   "metadata": {
    "tags": []
   },
   "outputs": [],
   "source": [
    "gtacr <- gtacr[, c(\"Fly_group_experiment_treatment\", \"fly_name_reference\", \"Fly_genotype\", \"PRE\", \"POST\", \"Test\", \"comment on SD\", \"interactor_time_window\", \"Training-session\", zts, paste0(zts, \"_interactions\")), with=F]"
   ]
  },
  {
   "cell_type": "code",
   "execution_count": 412,
   "id": "9b6a4cd1-bbcc-4cbb-b6ac-c766c211204b",
   "metadata": {},
   "outputs": [],
   "source": [
    "gtacr[, Genotype := Fly_genotype]\n",
    "gtacr[, Fly_genotype := NULL]"
   ]
  },
  {
   "cell_type": "code",
   "execution_count": 413,
   "id": "3555286d-a262-4231-a0d6-ef15b2c7624c",
   "metadata": {},
   "outputs": [],
   "source": [
    "gtacr[substr(Genotype, 1, 5) == \"ISO31\", Genotype := \"Iso31\"]"
   ]
  },
  {
   "cell_type": "code",
   "execution_count": 414,
   "id": "8f35fc5f-88c0-440d-89d3-b1e947f5f2f4",
   "metadata": {},
   "outputs": [],
   "source": [
    "gtacr[, color := NA_character_]\n",
    "gtacr[, voltage := NA_real_]\n",
    "gtacr[, stimulator := NA_character_]"
   ]
  },
  {
   "cell_type": "code",
   "execution_count": 415,
   "id": "7dbf9390-e124-4218-930d-5c8d8aa2c954",
   "metadata": {},
   "outputs": [],
   "source": [
    "gtacr[grep(pattern = \"Blue\", x = gtacr$`comment on SD`), color := \"Blue\"]"
   ]
  },
  {
   "cell_type": "code",
   "execution_count": 416,
   "id": "99a877d4-aef3-48b5-a382-7d460a752e72",
   "metadata": {},
   "outputs": [],
   "source": [
    "gtacr[grep(pattern = \"3.5V\", x = gtacr$`comment on SD`), voltage := 3.5]\n",
    "gtacr[grep(pattern = \"4V\", x = gtacr$`comment on SD`), voltage := 4]\n",
    "gtacr[grep(pattern = \"4.5V\", x = gtacr$`comment on SD`), voltage := 4.5]"
   ]
  },
  {
   "cell_type": "code",
   "execution_count": 417,
   "id": "ed8d89e0-8865-44bb-be37-4fc6aa8f9648",
   "metadata": {},
   "outputs": [],
   "source": [
    "gtacr[grep(pattern = \"SleepStimulator\", x = gtacr$Fly_group_experiment_treatment), stimulator := \"SleepStimulator\"]\n",
    "gtacr[grep(pattern = \"AwakeStimulator\", x = gtacr$Fly_group_experiment_treatment), stimulator := \"AwakeStimulator\"]"
   ]
  },
  {
   "cell_type": "code",
   "execution_count": 418,
   "id": "e3ad4382-fb35-4a6d-a579-b669ff1021d8",
   "metadata": {},
   "outputs": [],
   "source": [
    "gtacr[, experiment := paste0(\"LTM GTACR \", color, \" \", voltage, \" \", stimulator)]"
   ]
  },
  {
   "cell_type": "code",
   "execution_count": 419,
   "id": "b44131ec-766f-4692-ac7e-a53c3e7a9a3c",
   "metadata": {
    "tags": []
   },
   "outputs": [],
   "source": [
    "gtacr <- gtacr[, c(\"Fly_group_experiment_treatment\", \"fly_name_reference\", \"Genotype\", \"PRE\", \"POST\", \"experiment\", \"Training-session\", zts, paste0(zts, \"_interactions\")), with=F]"
   ]
  },
  {
   "cell_type": "code",
   "execution_count": 420,
   "id": "5b662d29-84f1-4460-a259-b12b4aca4a76",
   "metadata": {},
   "outputs": [
    {
     "data": {
      "text/html": [
       "<style>\n",
       ".list-inline {list-style: none; margin:0; padding: 0}\n",
       ".list-inline>li {display: inline-block}\n",
       ".list-inline>li:not(:last-child)::after {content: \"\\00b7\"; padding: 0 .5ex}\n",
       "</style>\n",
       "<ol class=list-inline><li>TRUE</li><li>TRUE</li><li>TRUE</li><li>TRUE</li><li>TRUE</li><li>TRUE</li><li>TRUE</li><li>TRUE</li><li>TRUE</li><li>TRUE</li><li>TRUE</li><li>TRUE</li><li>TRUE</li><li>TRUE</li><li>TRUE</li><li>TRUE</li><li>TRUE</li><li>TRUE</li><li>TRUE</li><li>TRUE</li><li>TRUE</li><li>TRUE</li><li>TRUE</li><li>TRUE</li><li>TRUE</li><li>TRUE</li><li>TRUE</li><li>TRUE</li><li>TRUE</li><li>TRUE</li><li>TRUE</li><li>TRUE</li><li>TRUE</li><li>TRUE</li><li>TRUE</li><li>TRUE</li><li>TRUE</li><li>TRUE</li><li>TRUE</li><li>TRUE</li><li>TRUE</li><li>TRUE</li><li>TRUE</li><li>TRUE</li><li>TRUE</li><li>TRUE</li><li>TRUE</li><li>TRUE</li><li>TRUE</li><li>TRUE</li><li>TRUE</li><li>TRUE</li><li>TRUE</li><li>TRUE</li><li>TRUE</li><li>TRUE</li><li>TRUE</li><li>TRUE</li><li>TRUE</li><li>TRUE</li><li>TRUE</li><li>TRUE</li><li>TRUE</li><li>TRUE</li><li>TRUE</li><li>TRUE</li><li>TRUE</li><li>TRUE</li><li>TRUE</li><li>TRUE</li><li>TRUE</li><li>TRUE</li><li>TRUE</li><li>TRUE</li><li>TRUE</li><li>TRUE</li><li>TRUE</li><li>TRUE</li><li>TRUE</li><li>TRUE</li><li>TRUE</li><li>TRUE</li><li>TRUE</li><li>TRUE</li><li>TRUE</li><li>TRUE</li><li>TRUE</li><li>TRUE</li><li>TRUE</li><li>TRUE</li><li>TRUE</li><li>TRUE</li><li>TRUE</li><li>TRUE</li><li>TRUE</li><li>TRUE</li><li>TRUE</li><li>TRUE</li><li>TRUE</li><li>TRUE</li><li>TRUE</li><li>TRUE</li><li>TRUE</li><li>TRUE</li><li>TRUE</li><li>TRUE</li><li>TRUE</li><li>TRUE</li><li>TRUE</li><li>TRUE</li><li>TRUE</li><li>TRUE</li><li>TRUE</li></ol>\n"
      ],
      "text/latex": [
       "\\begin{enumerate*}\n",
       "\\item TRUE\n",
       "\\item TRUE\n",
       "\\item TRUE\n",
       "\\item TRUE\n",
       "\\item TRUE\n",
       "\\item TRUE\n",
       "\\item TRUE\n",
       "\\item TRUE\n",
       "\\item TRUE\n",
       "\\item TRUE\n",
       "\\item TRUE\n",
       "\\item TRUE\n",
       "\\item TRUE\n",
       "\\item TRUE\n",
       "\\item TRUE\n",
       "\\item TRUE\n",
       "\\item TRUE\n",
       "\\item TRUE\n",
       "\\item TRUE\n",
       "\\item TRUE\n",
       "\\item TRUE\n",
       "\\item TRUE\n",
       "\\item TRUE\n",
       "\\item TRUE\n",
       "\\item TRUE\n",
       "\\item TRUE\n",
       "\\item TRUE\n",
       "\\item TRUE\n",
       "\\item TRUE\n",
       "\\item TRUE\n",
       "\\item TRUE\n",
       "\\item TRUE\n",
       "\\item TRUE\n",
       "\\item TRUE\n",
       "\\item TRUE\n",
       "\\item TRUE\n",
       "\\item TRUE\n",
       "\\item TRUE\n",
       "\\item TRUE\n",
       "\\item TRUE\n",
       "\\item TRUE\n",
       "\\item TRUE\n",
       "\\item TRUE\n",
       "\\item TRUE\n",
       "\\item TRUE\n",
       "\\item TRUE\n",
       "\\item TRUE\n",
       "\\item TRUE\n",
       "\\item TRUE\n",
       "\\item TRUE\n",
       "\\item TRUE\n",
       "\\item TRUE\n",
       "\\item TRUE\n",
       "\\item TRUE\n",
       "\\item TRUE\n",
       "\\item TRUE\n",
       "\\item TRUE\n",
       "\\item TRUE\n",
       "\\item TRUE\n",
       "\\item TRUE\n",
       "\\item TRUE\n",
       "\\item TRUE\n",
       "\\item TRUE\n",
       "\\item TRUE\n",
       "\\item TRUE\n",
       "\\item TRUE\n",
       "\\item TRUE\n",
       "\\item TRUE\n",
       "\\item TRUE\n",
       "\\item TRUE\n",
       "\\item TRUE\n",
       "\\item TRUE\n",
       "\\item TRUE\n",
       "\\item TRUE\n",
       "\\item TRUE\n",
       "\\item TRUE\n",
       "\\item TRUE\n",
       "\\item TRUE\n",
       "\\item TRUE\n",
       "\\item TRUE\n",
       "\\item TRUE\n",
       "\\item TRUE\n",
       "\\item TRUE\n",
       "\\item TRUE\n",
       "\\item TRUE\n",
       "\\item TRUE\n",
       "\\item TRUE\n",
       "\\item TRUE\n",
       "\\item TRUE\n",
       "\\item TRUE\n",
       "\\item TRUE\n",
       "\\item TRUE\n",
       "\\item TRUE\n",
       "\\item TRUE\n",
       "\\item TRUE\n",
       "\\item TRUE\n",
       "\\item TRUE\n",
       "\\item TRUE\n",
       "\\item TRUE\n",
       "\\item TRUE\n",
       "\\item TRUE\n",
       "\\item TRUE\n",
       "\\item TRUE\n",
       "\\item TRUE\n",
       "\\item TRUE\n",
       "\\item TRUE\n",
       "\\item TRUE\n",
       "\\item TRUE\n",
       "\\item TRUE\n",
       "\\item TRUE\n",
       "\\item TRUE\n",
       "\\item TRUE\n",
       "\\item TRUE\n",
       "\\end{enumerate*}\n"
      ],
      "text/markdown": [
       "1. TRUE\n",
       "2. TRUE\n",
       "3. TRUE\n",
       "4. TRUE\n",
       "5. TRUE\n",
       "6. TRUE\n",
       "7. TRUE\n",
       "8. TRUE\n",
       "9. TRUE\n",
       "10. TRUE\n",
       "11. TRUE\n",
       "12. TRUE\n",
       "13. TRUE\n",
       "14. TRUE\n",
       "15. TRUE\n",
       "16. TRUE\n",
       "17. TRUE\n",
       "18. TRUE\n",
       "19. TRUE\n",
       "20. TRUE\n",
       "21. TRUE\n",
       "22. TRUE\n",
       "23. TRUE\n",
       "24. TRUE\n",
       "25. TRUE\n",
       "26. TRUE\n",
       "27. TRUE\n",
       "28. TRUE\n",
       "29. TRUE\n",
       "30. TRUE\n",
       "31. TRUE\n",
       "32. TRUE\n",
       "33. TRUE\n",
       "34. TRUE\n",
       "35. TRUE\n",
       "36. TRUE\n",
       "37. TRUE\n",
       "38. TRUE\n",
       "39. TRUE\n",
       "40. TRUE\n",
       "41. TRUE\n",
       "42. TRUE\n",
       "43. TRUE\n",
       "44. TRUE\n",
       "45. TRUE\n",
       "46. TRUE\n",
       "47. TRUE\n",
       "48. TRUE\n",
       "49. TRUE\n",
       "50. TRUE\n",
       "51. TRUE\n",
       "52. TRUE\n",
       "53. TRUE\n",
       "54. TRUE\n",
       "55. TRUE\n",
       "56. TRUE\n",
       "57. TRUE\n",
       "58. TRUE\n",
       "59. TRUE\n",
       "60. TRUE\n",
       "61. TRUE\n",
       "62. TRUE\n",
       "63. TRUE\n",
       "64. TRUE\n",
       "65. TRUE\n",
       "66. TRUE\n",
       "67. TRUE\n",
       "68. TRUE\n",
       "69. TRUE\n",
       "70. TRUE\n",
       "71. TRUE\n",
       "72. TRUE\n",
       "73. TRUE\n",
       "74. TRUE\n",
       "75. TRUE\n",
       "76. TRUE\n",
       "77. TRUE\n",
       "78. TRUE\n",
       "79. TRUE\n",
       "80. TRUE\n",
       "81. TRUE\n",
       "82. TRUE\n",
       "83. TRUE\n",
       "84. TRUE\n",
       "85. TRUE\n",
       "86. TRUE\n",
       "87. TRUE\n",
       "88. TRUE\n",
       "89. TRUE\n",
       "90. TRUE\n",
       "91. TRUE\n",
       "92. TRUE\n",
       "93. TRUE\n",
       "94. TRUE\n",
       "95. TRUE\n",
       "96. TRUE\n",
       "97. TRUE\n",
       "98. TRUE\n",
       "99. TRUE\n",
       "100. TRUE\n",
       "101. TRUE\n",
       "102. TRUE\n",
       "103. TRUE\n",
       "104. TRUE\n",
       "105. TRUE\n",
       "106. TRUE\n",
       "107. TRUE\n",
       "108. TRUE\n",
       "109. TRUE\n",
       "110. TRUE\n",
       "111. TRUE\n",
       "112. TRUE\n",
       "113. TRUE\n",
       "\n",
       "\n"
      ],
      "text/plain": [
       "  [1] TRUE TRUE TRUE TRUE TRUE TRUE TRUE TRUE TRUE TRUE TRUE TRUE TRUE TRUE TRUE\n",
       " [16] TRUE TRUE TRUE TRUE TRUE TRUE TRUE TRUE TRUE TRUE TRUE TRUE TRUE TRUE TRUE\n",
       " [31] TRUE TRUE TRUE TRUE TRUE TRUE TRUE TRUE TRUE TRUE TRUE TRUE TRUE TRUE TRUE\n",
       " [46] TRUE TRUE TRUE TRUE TRUE TRUE TRUE TRUE TRUE TRUE TRUE TRUE TRUE TRUE TRUE\n",
       " [61] TRUE TRUE TRUE TRUE TRUE TRUE TRUE TRUE TRUE TRUE TRUE TRUE TRUE TRUE TRUE\n",
       " [76] TRUE TRUE TRUE TRUE TRUE TRUE TRUE TRUE TRUE TRUE TRUE TRUE TRUE TRUE TRUE\n",
       " [91] TRUE TRUE TRUE TRUE TRUE TRUE TRUE TRUE TRUE TRUE TRUE TRUE TRUE TRUE TRUE\n",
       "[106] TRUE TRUE TRUE TRUE TRUE TRUE TRUE TRUE"
      ]
     },
     "metadata": {},
     "output_type": "display_data"
    }
   ],
   "source": [
    "colnames(gtacr) == colnames(ltm)"
   ]
  },
  {
   "cell_type": "code",
   "execution_count": 421,
   "id": "ed292af4-66e2-4a7a-94ac-bc839f4fe819",
   "metadata": {},
   "outputs": [],
   "source": [
    "ltm <- rbind(ltm, gtacr)"
   ]
  },
  {
   "cell_type": "code",
   "execution_count": 422,
   "id": "358988e1-72c0-473f-b4a2-010635569209",
   "metadata": {},
   "outputs": [
    {
     "data": {
      "text/plain": [
       "\n",
       "  6X_Massed   6X_Spaced No_training        NONE \n",
       "         50         266          10          31 "
      ]
     },
     "metadata": {},
     "output_type": "display_data"
    }
   ],
   "source": [
    "table(ltm$`Training-session`)"
   ]
  },
  {
   "cell_type": "code",
   "execution_count": 423,
   "id": "c9cf3313-3fe8-4189-8def-dd72d1988fc0",
   "metadata": {},
   "outputs": [],
   "source": [
    "dts$LTM <- ltm"
   ]
  },
  {
   "cell_type": "code",
   "execution_count": 424,
   "id": "1f51ff0d-ce41-4ee3-96b4-5b5eb0ec3f15",
   "metadata": {
    "tags": []
   },
   "outputs": [],
   "source": [
    "data <- do.call(rbind, dts)"
   ]
  },
  {
   "cell_type": "code",
   "execution_count": 425,
   "id": "2ab929cd-065b-4d87-b76c-cf2604cfb44f",
   "metadata": {},
   "outputs": [],
   "source": [
    "# data[, table(Fly_group_experiment_treatment)]"
   ]
  },
  {
   "cell_type": "code",
   "execution_count": 478,
   "id": "8226dc9a-e3c9-4293-a18b-a87c10e9833b",
   "metadata": {},
   "outputs": [],
   "source": [
    "data_clean <- data[!is.na(PRE) & !is.na(POST) & PRE != \"NA\" & POST != \"NA\" & PRE != \"#VALUE!\" & POST != \"#VALUE!\",]"
   ]
  },
  {
   "cell_type": "code",
   "execution_count": 479,
   "id": "152aea8c-fbc3-4f97-b836-075396356289",
   "metadata": {},
   "outputs": [
    {
     "name": "stderr",
     "output_type": "stream",
     "text": [
      "Warning message in eval(expr, envir, enclos):\n",
      "“NAs introduced by coercion”\n",
      "Warning message in eval(expr, envir, enclos):\n",
      "“NAs introduced by coercion”\n"
     ]
    }
   ],
   "source": [
    "data_clean$PRE <- as.numeric(data_clean$PRE)\n",
    "data_clean$POST <- as.numeric(data_clean$POST)"
   ]
  },
  {
   "cell_type": "code",
   "execution_count": 480,
   "id": "aa38bbe0-d336-488c-bede-152fceeea3b4",
   "metadata": {},
   "outputs": [
    {
     "data": {
      "text/plain": [
       "\n",
       "FALSE  TRUE \n",
       "   33   304 "
      ]
     },
     "metadata": {},
     "output_type": "display_data"
    }
   ],
   "source": [
    "data_clean[, table(abs(PRE) < 0.2)]"
   ]
  },
  {
   "cell_type": "code",
   "execution_count": 481,
   "id": "937b856f-173e-4746-ad9e-39feaaa661bf",
   "metadata": {},
   "outputs": [
    {
     "data": {
      "text/plain": [
       "Training-session\n",
       "       1X 6X_Massed 6X_Spaced      NONE \n",
       "      169        29       140        31 "
      ]
     },
     "metadata": {},
     "output_type": "display_data"
    }
   ],
   "source": [
    "data_clean[, table(`Training-session`)]"
   ]
  },
  {
   "cell_type": "code",
   "execution_count": 482,
   "id": "b537d0d9-4dcf-4f81-bd89-44ad2c464146",
   "metadata": {},
   "outputs": [],
   "source": [
    "# data_clean[`Training-session`==\"6X_Massed\"]"
   ]
  },
  {
   "cell_type": "code",
   "execution_count": 483,
   "id": "fa622cd8-376b-4960-a964-dba8ff7674d6",
   "metadata": {},
   "outputs": [],
   "source": [
    "data_clean <- data_clean[(abs(PRE) < 0.2) | `Training-session` == \"NONE\" ,]"
   ]
  },
  {
   "cell_type": "code",
   "execution_count": 484,
   "id": "34e5a7ce-5330-4819-a7ab-0510bfbf20c1",
   "metadata": {},
   "outputs": [
    {
     "data": {
      "text/plain": [
       "Training-session\n",
       "       1X 6X_Massed 6X_Spaced      NONE \n",
       "      146        26       132        31 "
      ]
     },
     "metadata": {},
     "output_type": "display_data"
    }
   ],
   "source": [
    "data_clean[, table(`Training-session`)]"
   ]
  },
  {
   "cell_type": "code",
   "execution_count": 485,
   "id": "b0fd6f96-161b-431c-b1c4-c67fdad2b87e",
   "metadata": {},
   "outputs": [],
   "source": [
    "data_clean$id <- 1:nrow(data_clean)"
   ]
  },
  {
   "cell_type": "code",
   "execution_count": 486,
   "id": "d066c9dd-b724-4c76-ba99-01f0b90b5593",
   "metadata": {},
   "outputs": [],
   "source": [
    "data_clean[fly_name_reference %in% data_clean[duplicated(fly_name_reference), unique(fly_name_reference)], fly_name_reference := paste0(fly_name_reference, \"_\", 1:.N), by=fly_name_reference]"
   ]
  },
  {
   "cell_type": "code",
   "execution_count": 487,
   "id": "293f070a-edb4-461e-b1c8-6da2b8b90f3e",
   "metadata": {
    "tags": []
   },
   "outputs": [],
   "source": [
    "data_clean[`Training-session` == \"NONE\", PRE := 0]\n",
    "data_clean[`Training-session` == \"NONE\", POST := 0]"
   ]
  },
  {
   "cell_type": "code",
   "execution_count": 488,
   "id": "b307ed29-c916-4cdc-8b9b-0a70d112682a",
   "metadata": {},
   "outputs": [
    {
     "data": {
      "text/html": [
       "0"
      ],
      "text/latex": [
       "0"
      ],
      "text/markdown": [
       "0"
      ],
      "text/plain": [
       "[1] 0"
      ]
     },
     "metadata": {},
     "output_type": "display_data"
    }
   ],
   "source": [
    "sum(duplicated(data_clean$fly_name_reference))"
   ]
  },
  {
   "cell_type": "code",
   "execution_count": 489,
   "id": "486009aa-6751-4cf6-af30-d9c77292ae05",
   "metadata": {},
   "outputs": [
    {
     "data": {
      "text/html": [
       "0"
      ],
      "text/latex": [
       "0"
      ],
      "text/markdown": [
       "0"
      ],
      "text/plain": [
       "[1] 0"
      ]
     },
     "metadata": {},
     "output_type": "display_data"
    }
   ],
   "source": [
    "sum(is.na(data_clean$fly_name_reference))"
   ]
  },
  {
   "cell_type": "code",
   "execution_count": 490,
   "id": "8cc57271-47fe-4121-8587-5b41f6918cc8",
   "metadata": {},
   "outputs": [],
   "source": [
    "columns <- c(\"Fly_group_experiment_treatment\", \"fly_name_reference\", \"experiment\", \"id\", \"PRE\", \"POST\", \"Training-session\", \"Genotype\", zts, paste0(zts, \"_interactions\"))"
   ]
  },
  {
   "cell_type": "code",
   "execution_count": 491,
   "id": "9a7446b2-6f76-4a96-babb-54845140e9e7",
   "metadata": {},
   "outputs": [],
   "source": [
    "data_clean_long <- melt(data = data_clean[, columns, with=F], measure.vars = c(\"PRE\", \"POST\"), value.name = \"PI\", variable.name = \"test\")"
   ]
  },
  {
   "cell_type": "code",
   "execution_count": 492,
   "id": "45212d18-45ce-4af5-9280-615c02a973cd",
   "metadata": {
    "tags": []
   },
   "outputs": [],
   "source": [
    "data_clean_long<-data_clean_long[!is.na(PI),]\n"
   ]
  },
  {
   "cell_type": "code",
   "execution_count": 493,
   "id": "8f2cc60b-a33e-45c3-98f4-a9454b5ad3aa",
   "metadata": {},
   "outputs": [],
   "source": [
    "data_clean_long$test <- factor(as.character(data_clean_long$test), c(\"PRE\", \"POST\"))"
   ]
  },
  {
   "cell_type": "code",
   "execution_count": 494,
   "id": "f1655696-7b9b-4540-9f86-8441e97b200b",
   "metadata": {},
   "outputs": [],
   "source": [
    "gtacr_experiments <- unique(data_clean_long$experiment)[substr(unique(data_clean_long$experiment), 1, 9) == \"LTM GTACR\"]\n",
    "data_clean_long$experiment <- factor(data_clean_long$experiment, levels=c(sheets, \"LTM\", \"LTM CHX\", gtacr_experiments))"
   ]
  },
  {
   "cell_type": "code",
   "execution_count": null,
   "id": "27266d6f-9558-4a0f-a2f0-10edb728d677",
   "metadata": {},
   "outputs": [],
   "source": []
  },
  {
   "cell_type": "code",
   "execution_count": 495,
   "id": "776db89b-8c1d-46c5-bfbe-57639be15ed5",
   "metadata": {},
   "outputs": [
    {
     "data": {
      "text/plain": [
       "\n",
       "                         20min STM                            1hr STM \n",
       "                                98                                 60 \n",
       "                           2hr STM                            3hr STM \n",
       "                                24                                110 \n",
       "                               LTM                            LTM CHX \n",
       "                               284                                  0 \n",
       "LTM GTACR Blue 4.5 SleepStimulator   LTM GTACR Blue 4 SleepStimulator \n",
       "                                36                                 34 \n",
       "LTM GTACR Blue 3.5 SleepStimulator \n",
       "                                24 "
      ]
     },
     "metadata": {},
     "output_type": "display_data"
    }
   ],
   "source": [
    "table(data_clean_long$experiment)"
   ]
  },
  {
   "cell_type": "code",
   "execution_count": 496,
   "id": "71d0e3c5-d6b4-4ff6-8803-f9df2254faff",
   "metadata": {},
   "outputs": [],
   "source": [
    "learning <- sapply(1:nrow(data_clean_long), function(x) {\"NONE\"})\n",
    "learning[grep(pattern = \"1X\", x = data_clean_long$Fly_group_experiment_treatment)] <- \"1X\"\n",
    "learning[grep(pattern = \"6X_Spaced\", x = data_clean_long$Fly_group_experiment_treatment)] <- \"6X_Spaced\"\n",
    "data_clean_long$learning <- learning"
   ]
  },
  {
   "cell_type": "code",
   "execution_count": 497,
   "id": "be859414-a285-4110-bcd6-1b6263fc36cc",
   "metadata": {},
   "outputs": [],
   "source": [
    "interval <- sapply(1:nrow(data_clean_long), function(x) {\"NONE\"})\n",
    "interval[grep(pattern = \"ZT05-ZT24\", x = data_clean_long$Fly_group_experiment_treatment)] <- \"ZT05-ZT24\"\n",
    "interval[grep(pattern = \"ZT05-ZT11\", x = data_clean_long$Fly_group_experiment_treatment)] <- \"ZT05-ZT11\"\n",
    "interval[grep(pattern = \"ZT12-ZT18\", x = data_clean_long$Fly_group_experiment_treatment)] <- \"ZT12-ZT18\"\n",
    "\n",
    "data_clean_long$interval <- factor(interval, levels=c(\"ZT05-ZT11\", \"ZT12-ZT18\", \"ZT05-ZT24\", \"NONE\"))"
   ]
  },
  {
   "cell_type": "code",
   "execution_count": 498,
   "id": "b1beaa79-3bb0-4267-940e-218bbd9d6239",
   "metadata": {},
   "outputs": [],
   "source": [
    "data_clean_long[, Training_session :=  `Training-session`]"
   ]
  },
  {
   "cell_type": "code",
   "execution_count": 499,
   "id": "e3433a2b-c76d-48e2-9822-e3ebf251451b",
   "metadata": {},
   "outputs": [
    {
     "data": {
      "text/plain": [
       "\n",
       "       1X 6X_Massed 6X_Spaced      NONE \n",
       "      292        52       264        62 "
      ]
     },
     "metadata": {},
     "output_type": "display_data"
    }
   ],
   "source": [
    "table(data_clean_long$Training_session)"
   ]
  },
  {
   "cell_type": "code",
   "execution_count": 500,
   "id": "a6b8b1a7-8398-4642-be16-5aae38075e7d",
   "metadata": {},
   "outputs": [],
   "source": [
    "data_clean_long[, `Training-session` := NULL]"
   ]
  },
  {
   "cell_type": "code",
   "execution_count": 501,
   "id": "cf4be606-5695-4f48-8ad9-01f33aa1d72a",
   "metadata": {},
   "outputs": [],
   "source": [
    "data_clean_long <- data_clean_long[, c(\"Fly_group_experiment_treatment\", \"fly_name_reference\",\t\"experiment\", \"id\", \"test\", \"PI\", \"Training_session\", \"Genotype\", \"interval\", zts, paste0(zts, \"_interactions\")), with=F]"
   ]
  },
  {
   "cell_type": "code",
   "execution_count": 502,
   "id": "c779a29d-1219-4b75-961f-921656263508",
   "metadata": {},
   "outputs": [
    {
     "data": {
      "text/plain": [
       "\n",
       "       1X 6X_Massed 6X_Spaced      NONE \n",
       "      292        52       264        62 "
      ]
     },
     "metadata": {},
     "output_type": "display_data"
    }
   ],
   "source": [
    "table(data_clean_long$Training_session)"
   ]
  },
  {
   "cell_type": "code",
   "execution_count": 503,
   "id": "c0a5b088-66e1-4a6c-86d1-a85cd8fdb03f",
   "metadata": {},
   "outputs": [],
   "source": [
    "chui_data <- data.table::fread(file = \"chui_tidy_data.csv\")"
   ]
  },
  {
   "cell_type": "code",
   "execution_count": 505,
   "id": "5c191fc3-7663-4711-a2b0-8550b848ef08",
   "metadata": {},
   "outputs": [
    {
     "data": {
      "text/plain": [
       "\n",
       "         20min STM 20min STM unpaired                LTM            LTM CHX \n",
       "               238                108                164                126 "
      ]
     },
     "metadata": {},
     "output_type": "display_data"
    }
   ],
   "source": [
    "table(chui_data$experiment)"
   ]
  },
  {
   "cell_type": "code",
   "execution_count": 506,
   "id": "f4bcad3f-974c-42b2-9087-6a94898f6a52",
   "metadata": {},
   "outputs": [],
   "source": [
    "chui_data$User <- \"CH\"\n",
    "data_clean_long[grep(x=fly_name_reference, pattern=\"ESB\"), User := \"ESB\"]\n",
    "data_clean_long[grep(x=fly_name_reference, pattern=\"ET\"), User := \"ET\"]\n",
    "data_clean_long[grep(x=fly_name_reference, pattern=\"AOJ\"), User := \"AOJ\"]"
   ]
  },
  {
   "cell_type": "code",
   "execution_count": 507,
   "id": "7981178f-7a0a-4f33-a81a-7ac84e61620a",
   "metadata": {},
   "outputs": [],
   "source": [
    "all_data <- rbind(data_clean_long, chui_data)"
   ]
  },
  {
   "cell_type": "code",
   "execution_count": 508,
   "id": "09565527-96fb-43be-bc81-1cefd715ba26",
   "metadata": {},
   "outputs": [
    {
     "data": {
      "text/plain": [
       "\n",
       "       1X 6X_Massed 6X_Spaced      NONE \n",
       "      638        52       554        62 "
      ]
     },
     "metadata": {},
     "output_type": "display_data"
    }
   ],
   "source": [
    "table(all_data$Training_session)"
   ]
  },
  {
   "cell_type": "code",
   "execution_count": 509,
   "id": "be4f7683-60bf-4aed-b45d-145a1a5177cb",
   "metadata": {},
   "outputs": [
    {
     "data": {
      "text/plain": [
       "User\n",
       "AOJ  CH ESB  ET \n",
       " 38 636 180 390 "
      ]
     },
     "metadata": {},
     "output_type": "display_data"
    }
   ],
   "source": [
    "all_data[, table(User)]"
   ]
  },
  {
   "cell_type": "code",
   "execution_count": 512,
   "id": "2d5fd9c4-4a2e-43ff-af3d-0267b1f9a4b7",
   "metadata": {
    "collapsed": true,
    "jupyter": {
     "outputs_hidden": true
    },
    "tags": []
   },
   "outputs": [
    {
     "data": {
      "text/html": [
       "<table class=\"dataframe\">\n",
       "<caption>A data.table: 52 × 116</caption>\n",
       "<thead>\n",
       "\t<tr><th scope=col>Fly_group_experiment_treatment</th><th scope=col>fly_name_reference</th><th scope=col>experiment</th><th scope=col>id</th><th scope=col>test</th><th scope=col>PI</th><th scope=col>Training_session</th><th scope=col>Genotype</th><th scope=col>interval</th><th scope=col>ZT4</th><th scope=col>⋯</th><th scope=col>ZT26_interactions</th><th scope=col>ZT26.5_interactions</th><th scope=col>ZT27_interactions</th><th scope=col>ZT27.5_interactions</th><th scope=col>ZT28_interactions</th><th scope=col>ZT28.5_interactions</th><th scope=col>ZT29_interactions</th><th scope=col>ZT29.5_interactions</th><th scope=col>ZT30_interactions</th><th scope=col>User</th></tr>\n",
       "\t<tr><th scope=col>&lt;chr&gt;</th><th scope=col>&lt;chr&gt;</th><th scope=col>&lt;fct&gt;</th><th scope=col>&lt;int&gt;</th><th scope=col>&lt;fct&gt;</th><th scope=col>&lt;dbl&gt;</th><th scope=col>&lt;chr&gt;</th><th scope=col>&lt;chr&gt;</th><th scope=col>&lt;fct&gt;</th><th scope=col>&lt;chr&gt;</th><th scope=col>⋯</th><th scope=col>&lt;dbl&gt;</th><th scope=col>&lt;dbl&gt;</th><th scope=col>&lt;dbl&gt;</th><th scope=col>&lt;dbl&gt;</th><th scope=col>&lt;dbl&gt;</th><th scope=col>&lt;dbl&gt;</th><th scope=col>&lt;dbl&gt;</th><th scope=col>&lt;dbl&gt;</th><th scope=col>&lt;dbl&gt;</th><th scope=col>&lt;chr&gt;</th></tr>\n",
       "</thead>\n",
       "<tbody>\n",
       "\t<tr><td>ISO31'_LTM(24hr)_OCT_CSplus_EShock_US_Paired_6X_Massed_DefaultStimulator _No_stimulatorETHOSCOPE-YES</td><td>2023-07-23_16-20-43(ESB-massed)_ROI_2      </td><td>LTM</td><td>187</td><td>PRE </td><td> 0.09523810</td><td>6X_Massed</td><td>Iso31</td><td>NONE</td><td>0.0  </td><td>⋯</td><td>NA</td><td>NA</td><td>NA</td><td>NA</td><td>NA</td><td>NA</td><td>NA</td><td>NA</td><td>NA</td><td>ESB</td></tr>\n",
       "\t<tr><td>ISO31'_LTM(24hr)_OCT_CSplus_EShock_US_Paired_6X_Massed_DefaultStimulator _No_stimulatorETHOSCOPE-YES</td><td>2023-07-23_16-20-43(ESB-massed)_ROI_3      </td><td>LTM</td><td>188</td><td>PRE </td><td>-0.01587302</td><td>6X_Massed</td><td>Iso31</td><td>NONE</td><td>0.0  </td><td>⋯</td><td>NA</td><td>NA</td><td>NA</td><td>NA</td><td>NA</td><td>NA</td><td>NA</td><td>NA</td><td>NA</td><td>ESB</td></tr>\n",
       "\t<tr><td>ISO31'_LTM(24hr)_OCT_CSplus_EShock_US_Paired_6X_Massed_DefaultStimulator _No_stimulatorETHOSCOPE-YES</td><td>2023-07-23_16-20-43(ESB-massed)_ROI_4      </td><td>LTM</td><td>189</td><td>PRE </td><td> 0.10000000</td><td>6X_Massed</td><td>Iso31</td><td>NONE</td><td>0.0  </td><td>⋯</td><td>NA</td><td>NA</td><td>NA</td><td>NA</td><td>NA</td><td>NA</td><td>NA</td><td>NA</td><td>NA</td><td>ESB</td></tr>\n",
       "\t<tr><td>ISO31'_LTM(24hr)_OCT_CSplus_EShock_US_Paired_6X_Massed_DefaultStimulator _No_stimulatorETHOSCOPE-YES</td><td>2023-07-23_16-20-43(ESB-massed)_ROI_5      </td><td>LTM</td><td>190</td><td>PRE </td><td> 0.10000000</td><td>6X_Massed</td><td>Iso31</td><td>NONE</td><td>0.0  </td><td>⋯</td><td>NA</td><td>NA</td><td>NA</td><td>NA</td><td>NA</td><td>NA</td><td>NA</td><td>NA</td><td>NA</td><td>ESB</td></tr>\n",
       "\t<tr><td>ISO31'_LTM(24hr)_OCT_CSplus_EShock_US_Paired_6X_Massed_DefaultStimulator _No_stimulatorETHOSCOPE-YES</td><td>2023-07-23_16-20-43(ESB-massed)_ROI_7      </td><td>LTM</td><td>191</td><td>PRE </td><td>-0.06666667</td><td>6X_Massed</td><td>Iso31</td><td>NONE</td><td>0.0  </td><td>⋯</td><td>NA</td><td>NA</td><td>NA</td><td>NA</td><td>NA</td><td>NA</td><td>NA</td><td>NA</td><td>NA</td><td>ESB</td></tr>\n",
       "\t<tr><td>ISO31'_LTM(24hr)_OCT_CSplus_EShock_US_Paired_6X_Massed_DefaultStimulator _No_stimulatorETHOSCOPE-YES</td><td>2023-07-23_16-20-43(ESB-massed)_ROI_8      </td><td>LTM</td><td>192</td><td>PRE </td><td> 0.00000000</td><td>6X_Massed</td><td>Iso31</td><td>NONE</td><td>0.0  </td><td>⋯</td><td>NA</td><td>NA</td><td>NA</td><td>NA</td><td>NA</td><td>NA</td><td>NA</td><td>NA</td><td>NA</td><td>ESB</td></tr>\n",
       "\t<tr><td>ISO31'_LTM(24hr)_OCT_CSplus_EShock_US_Paired_6X_Massed_DefaultStimulator _No_stimulatorETHOSCOPE-YES</td><td>2023-07-23_16-20-43(ESB-massed)_ROI_9      </td><td>LTM</td><td>193</td><td>PRE </td><td>-0.10000000</td><td>6X_Massed</td><td>Iso31</td><td>NONE</td><td>0.0  </td><td>⋯</td><td>NA</td><td>NA</td><td>NA</td><td>NA</td><td>NA</td><td>NA</td><td>NA</td><td>NA</td><td>NA</td><td>ESB</td></tr>\n",
       "\t<tr><td>ISO31'_LTM(24hr)_OCT_CSplus_EShock_US_Paired_6X_Massed_DefaultStimulator _No_stimulatorETHOSCOPE-YES</td><td>2023-07-23_16-20-43(ESB-massed)_ROI_10     </td><td>LTM</td><td>194</td><td>PRE </td><td> 0.05555556</td><td>6X_Massed</td><td>Iso31</td><td>NONE</td><td>0.0  </td><td>⋯</td><td>NA</td><td>NA</td><td>NA</td><td>NA</td><td>NA</td><td>NA</td><td>NA</td><td>NA</td><td>NA</td><td>ESB</td></tr>\n",
       "\t<tr><td>ISO31'_LTM(24hr)_OCT_CSplus_EShock_US_Paired_6X_Massed_DefaultStimulator _No_stimulatorETHOSCOPE-YES</td><td>2023-07-23_16-20-43(ESB-massed)_ROI_11     </td><td>LTM</td><td>195</td><td>PRE </td><td>-0.12500000</td><td>6X_Massed</td><td>Iso31</td><td>NONE</td><td>0.0  </td><td>⋯</td><td>NA</td><td>NA</td><td>NA</td><td>NA</td><td>NA</td><td>NA</td><td>NA</td><td>NA</td><td>NA</td><td>ESB</td></tr>\n",
       "\t<tr><td>ISO31'_LTM(24hr)_OCT_CSplus_EShock_US_Paired_6X_Massed_DefaultStimulator _No_stimulatorETHOSCOPE-YES</td><td>2023-07-23_16-20-43(ESB-massed)_ROI_14     </td><td>LTM</td><td>196</td><td>PRE </td><td> 0.16666667</td><td>6X_Massed</td><td>Iso31</td><td>NONE</td><td>0.0  </td><td>⋯</td><td>NA</td><td>NA</td><td>NA</td><td>NA</td><td>NA</td><td>NA</td><td>NA</td><td>NA</td><td>NA</td><td>ESB</td></tr>\n",
       "\t<tr><td>ISO31'_LTM(24hr)_OCT_CSplus_EShock_US_Paired_6X_Massed_DefaultStimulator _No_stimulatorETHOSCOPE-YES</td><td>2023-07-23_16-20-43(ESB-massed)_ROI_15     </td><td>LTM</td><td>197</td><td>PRE </td><td>-0.10000000</td><td>6X_Massed</td><td>Iso31</td><td>NONE</td><td>0.0  </td><td>⋯</td><td>NA</td><td>NA</td><td>NA</td><td>NA</td><td>NA</td><td>NA</td><td>NA</td><td>NA</td><td>NA</td><td>ESB</td></tr>\n",
       "\t<tr><td>ISO31'_LTM(24hr)_OCT_CSplus_EShock_US_Paired_6X_Massed_DefaultStimulator _No_stimulatorETHOSCOPE-YES</td><td>2023-07-23_16-20-43(ESB-massed)_ROI_16     </td><td>LTM</td><td>198</td><td>PRE </td><td> 0.00000000</td><td>6X_Massed</td><td>Iso31</td><td>NONE</td><td>0.0  </td><td>⋯</td><td>NA</td><td>NA</td><td>NA</td><td>NA</td><td>NA</td><td>NA</td><td>NA</td><td>NA</td><td>NA</td><td>ESB</td></tr>\n",
       "\t<tr><td>ISO31'_LTM(24hr)_OCT_CSplus_EShock_US_Paired_6X_Massed_DefaultStimulator _No_stimulatorETHOSCOPE-YES</td><td>2023-07-23_16-20-43(ESB-massed)_ROI_17     </td><td>LTM</td><td>199</td><td>PRE </td><td> 0.00000000</td><td>6X_Massed</td><td>Iso31</td><td>NONE</td><td>0.0  </td><td>⋯</td><td>NA</td><td>NA</td><td>NA</td><td>NA</td><td>NA</td><td>NA</td><td>NA</td><td>NA</td><td>NA</td><td>ESB</td></tr>\n",
       "\t<tr><td>ISO31'_LTM(24hr)_OCT_CSplus_EShock_US_Paired_6X_Massed_DefaultStimulator _No_stimulatorETHOSCOPE-YES</td><td>2023-07-24_16-19-01(ESB-massed)_ROI_2      </td><td>LTM</td><td>200</td><td>PRE </td><td>-0.10000000</td><td>6X_Massed</td><td>Iso31</td><td>NONE</td><td>0.0  </td><td>⋯</td><td>NA</td><td>NA</td><td>NA</td><td>NA</td><td>NA</td><td>NA</td><td>NA</td><td>NA</td><td>NA</td><td>ESB</td></tr>\n",
       "\t<tr><td>ISO31'_LTM(24hr)_OCT_CSplus_EShock_US_Paired_6X_Massed_DefaultStimulator _No_stimulatorETHOSCOPE-YES</td><td>2023-07-24_16-19-01(ESB-massed)_ROI_4      </td><td>LTM</td><td>201</td><td>PRE </td><td> 0.00000000</td><td>6X_Massed</td><td>Iso31</td><td>NONE</td><td>0.0  </td><td>⋯</td><td>NA</td><td>NA</td><td>NA</td><td>NA</td><td>NA</td><td>NA</td><td>NA</td><td>NA</td><td>NA</td><td>ESB</td></tr>\n",
       "\t<tr><td>ISO31'_LTM(24hr)_OCT_CSplus_EShock_US_Paired_6X_Massed_DefaultStimulator _No_stimulatorETHOSCOPE-YES</td><td>2023-07-24_16-19-01(ESB-massed)_ROI_5      </td><td>LTM</td><td>202</td><td>PRE </td><td> 0.07142857</td><td>6X_Massed</td><td>Iso31</td><td>NONE</td><td>0.0  </td><td>⋯</td><td>NA</td><td>NA</td><td>NA</td><td>NA</td><td>NA</td><td>NA</td><td>NA</td><td>NA</td><td>NA</td><td>ESB</td></tr>\n",
       "\t<tr><td>ISO31'_LTM(24hr)_OCT_CSplus_EShock_US_Paired_6X_Massed_DefaultStimulator _No_stimulatorETHOSCOPE-YES</td><td>2023-07-24_16-19-01(ESB-massed)_ROI_6      </td><td>LTM</td><td>203</td><td>PRE </td><td> 0.07142857</td><td>6X_Massed</td><td>Iso31</td><td>NONE</td><td>0.0  </td><td>⋯</td><td>NA</td><td>NA</td><td>NA</td><td>NA</td><td>NA</td><td>NA</td><td>NA</td><td>NA</td><td>NA</td><td>ESB</td></tr>\n",
       "\t<tr><td>ISO31'_LTM(24hr)_OCT_CSplus_EShock_US_Paired_6X_Massed_DefaultStimulator _No_stimulatorETHOSCOPE-YES</td><td>2023-07-24_16-19-01(ESB-massed)_ROI_9      </td><td>LTM</td><td>204</td><td>PRE </td><td> 0.00000000</td><td>6X_Massed</td><td>Iso31</td><td>NONE</td><td>0.0  </td><td>⋯</td><td>NA</td><td>NA</td><td>NA</td><td>NA</td><td>NA</td><td>NA</td><td>NA</td><td>NA</td><td>NA</td><td>ESB</td></tr>\n",
       "\t<tr><td>ISO31'_LTM(24hr)_OCT_CSplus_EShock_US_Paired_6X_Massed_DefaultStimulator _No_stimulatorETHOSCOPE-YES</td><td>2023-07-24_16-19-01(ESB-massed)_ROI_10     </td><td>LTM</td><td>205</td><td>PRE </td><td> 0.16666667</td><td>6X_Massed</td><td>Iso31</td><td>NONE</td><td>0.0  </td><td>⋯</td><td>NA</td><td>NA</td><td>NA</td><td>NA</td><td>NA</td><td>NA</td><td>NA</td><td>NA</td><td>NA</td><td>ESB</td></tr>\n",
       "\t<tr><td>ISO31'_LTM(24hr)_OCT_CSplus_EShock_US_Paired_6X_Massed_DefaultStimulator _No_stimulatorETHOSCOPE-YES</td><td>2023-07-24_16-19-01(ESB-massed)_ROI_14     </td><td>LTM</td><td>206</td><td>PRE </td><td> 0.16666667</td><td>6X_Massed</td><td>Iso31</td><td>NONE</td><td>0.0  </td><td>⋯</td><td>NA</td><td>NA</td><td>NA</td><td>NA</td><td>NA</td><td>NA</td><td>NA</td><td>NA</td><td>NA</td><td>ESB</td></tr>\n",
       "\t<tr><td>ISO31'_LTM(24hr)_OCT_CSplus_EShock_US_Paired_6X_Massed_DefaultStimulator _No_stimulatorETHOSCOPE-YES</td><td>2023-07-24_16-19-01(ESB-massed)_ROI_16     </td><td>LTM</td><td>207</td><td>PRE </td><td> 0.00000000</td><td>6X_Massed</td><td>Iso31</td><td>NONE</td><td>0.616</td><td>⋯</td><td>NA</td><td>NA</td><td>NA</td><td>NA</td><td>NA</td><td>NA</td><td>NA</td><td>NA</td><td>NA</td><td>ESB</td></tr>\n",
       "\t<tr><td>ISO31'_LTM(24hr)_OCT_CSplus_EShock_US_Paired_6X_Massed_DefaultStimulator _No_stimulatorETHOSCOPE-YES</td><td>2023-07-24_16-19-01(ESB-massed)_ROI_17     </td><td>LTM</td><td>208</td><td>PRE </td><td>-0.16666667</td><td>6X_Massed</td><td>Iso31</td><td>NONE</td><td>0.0  </td><td>⋯</td><td>NA</td><td>NA</td><td>NA</td><td>NA</td><td>NA</td><td>NA</td><td>NA</td><td>NA</td><td>NA</td><td>ESB</td></tr>\n",
       "\t<tr><td>ISO31'_LTM(24hr)_OCT_CSplus_EShock_US_Paired_6X_Massed_DefaultStimulator _No_stimulatorETHOSCOPE-YES</td><td>2023-07-24_16-19-01(ESB-massed)_ROI_19     </td><td>LTM</td><td>209</td><td>PRE </td><td>-0.10000000</td><td>6X_Massed</td><td>Iso31</td><td>NONE</td><td>0.0  </td><td>⋯</td><td>NA</td><td>NA</td><td>NA</td><td>NA</td><td>NA</td><td>NA</td><td>NA</td><td>NA</td><td>NA</td><td>ESB</td></tr>\n",
       "\t<tr><td>ISO31'_LTM(24hr)_OCT_CSplus_EShock_US_Paired_6X_Massed_DefaultStimulator _No_stimulatorETHOSCOPE-YES</td><td>2023-07-24_16-19-01(ESB-massed)_ROI_20     </td><td>LTM</td><td>210</td><td>PRE </td><td> 0.00000000</td><td>6X_Massed</td><td>Iso31</td><td>NONE</td><td>0.0  </td><td>⋯</td><td>NA</td><td>NA</td><td>NA</td><td>NA</td><td>NA</td><td>NA</td><td>NA</td><td>NA</td><td>NA</td><td>ESB</td></tr>\n",
       "\t<tr><td>ISO31'_LTM(24hr)_OCT_CSplus_EShock_US_Paired_6X_Massed_DefaultStimulator _No_stimulatorETHOSCOPE-YES</td><td>2023-09-14_15-13-25_AOJ_6XMASSED_LTM_ROI_18</td><td>LTM</td><td>268</td><td>PRE </td><td>-0.07142857</td><td>6X_Massed</td><td>Iso31</td><td>NONE</td><td>0.206</td><td>⋯</td><td>NA</td><td>NA</td><td>NA</td><td>NA</td><td>NA</td><td>NA</td><td>NA</td><td>NA</td><td>NA</td><td>AOJ</td></tr>\n",
       "\t<tr><td>ISO31'_LTM(24hr)_OCT_CSplus_EShock_US_Paired_6X_Massed_DefaultStimulator _No_stimulatorETHOSCOPE-YES</td><td>2023-09-14_15-13-25_AOJ_6XMASSED_LTM_ROI_20</td><td>LTM</td><td>269</td><td>PRE </td><td>-0.17142857</td><td>6X_Massed</td><td>Iso31</td><td>NONE</td><td>0.0  </td><td>⋯</td><td>NA</td><td>NA</td><td>NA</td><td>NA</td><td>NA</td><td>NA</td><td>NA</td><td>NA</td><td>NA</td><td>AOJ</td></tr>\n",
       "\t<tr><td>ISO31'_LTM(24hr)_OCT_CSplus_EShock_US_Paired_6X_Massed_DefaultStimulator _No_stimulatorETHOSCOPE-YES</td><td>2023-07-23_16-20-43(ESB-massed)_ROI_2      </td><td>LTM</td><td>187</td><td>POST</td><td>-0.09523810</td><td>6X_Massed</td><td>Iso31</td><td>NONE</td><td>0.0  </td><td>⋯</td><td>NA</td><td>NA</td><td>NA</td><td>NA</td><td>NA</td><td>NA</td><td>NA</td><td>NA</td><td>NA</td><td>ESB</td></tr>\n",
       "\t<tr><td>ISO31'_LTM(24hr)_OCT_CSplus_EShock_US_Paired_6X_Massed_DefaultStimulator _No_stimulatorETHOSCOPE-YES</td><td>2023-07-23_16-20-43(ESB-massed)_ROI_3      </td><td>LTM</td><td>188</td><td>POST</td><td>-0.35000000</td><td>6X_Massed</td><td>Iso31</td><td>NONE</td><td>0.0  </td><td>⋯</td><td>NA</td><td>NA</td><td>NA</td><td>NA</td><td>NA</td><td>NA</td><td>NA</td><td>NA</td><td>NA</td><td>ESB</td></tr>\n",
       "\t<tr><td>ISO31'_LTM(24hr)_OCT_CSplus_EShock_US_Paired_6X_Massed_DefaultStimulator _No_stimulatorETHOSCOPE-YES</td><td>2023-07-23_16-20-43(ESB-massed)_ROI_4      </td><td>LTM</td><td>189</td><td>POST</td><td>-0.11100000</td><td>6X_Massed</td><td>Iso31</td><td>NONE</td><td>0.0  </td><td>⋯</td><td>NA</td><td>NA</td><td>NA</td><td>NA</td><td>NA</td><td>NA</td><td>NA</td><td>NA</td><td>NA</td><td>ESB</td></tr>\n",
       "\t<tr><td>ISO31'_LTM(24hr)_OCT_CSplus_EShock_US_Paired_6X_Massed_DefaultStimulator _No_stimulatorETHOSCOPE-YES</td><td>2023-07-23_16-20-43(ESB-massed)_ROI_5      </td><td>LTM</td><td>190</td><td>POST</td><td> 0.00000000</td><td>6X_Massed</td><td>Iso31</td><td>NONE</td><td>0.0  </td><td>⋯</td><td>NA</td><td>NA</td><td>NA</td><td>NA</td><td>NA</td><td>NA</td><td>NA</td><td>NA</td><td>NA</td><td>ESB</td></tr>\n",
       "\t<tr><td>ISO31'_LTM(24hr)_OCT_CSplus_EShock_US_Paired_6X_Massed_DefaultStimulator _No_stimulatorETHOSCOPE-YES</td><td>2023-07-23_16-20-43(ESB-massed)_ROI_7      </td><td>LTM</td><td>191</td><td>POST</td><td>-0.80000000</td><td>6X_Massed</td><td>Iso31</td><td>NONE</td><td>0.0  </td><td>⋯</td><td>NA</td><td>NA</td><td>NA</td><td>NA</td><td>NA</td><td>NA</td><td>NA</td><td>NA</td><td>NA</td><td>ESB</td></tr>\n",
       "\t<tr><td>ISO31'_LTM(24hr)_OCT_CSplus_EShock_US_Paired_6X_Massed_DefaultStimulator _No_stimulatorETHOSCOPE-YES</td><td>2023-07-23_16-20-43(ESB-massed)_ROI_8      </td><td>LTM</td><td>192</td><td>POST</td><td> 0.25000000</td><td>6X_Massed</td><td>Iso31</td><td>NONE</td><td>0.0  </td><td>⋯</td><td>NA</td><td>NA</td><td>NA</td><td>NA</td><td>NA</td><td>NA</td><td>NA</td><td>NA</td><td>NA</td><td>ESB</td></tr>\n",
       "\t<tr><td>ISO31'_LTM(24hr)_OCT_CSplus_EShock_US_Paired_6X_Massed_DefaultStimulator _No_stimulatorETHOSCOPE-YES</td><td>2023-07-23_16-20-43(ESB-massed)_ROI_9      </td><td>LTM</td><td>193</td><td>POST</td><td>-0.50000000</td><td>6X_Massed</td><td>Iso31</td><td>NONE</td><td>0.0  </td><td>⋯</td><td>NA</td><td>NA</td><td>NA</td><td>NA</td><td>NA</td><td>NA</td><td>NA</td><td>NA</td><td>NA</td><td>ESB</td></tr>\n",
       "\t<tr><td>ISO31'_LTM(24hr)_OCT_CSplus_EShock_US_Paired_6X_Massed_DefaultStimulator _No_stimulatorETHOSCOPE-YES</td><td>2023-07-23_16-20-43(ESB-massed)_ROI_10     </td><td>LTM</td><td>194</td><td>POST</td><td>-0.16666667</td><td>6X_Massed</td><td>Iso31</td><td>NONE</td><td>0.0  </td><td>⋯</td><td>NA</td><td>NA</td><td>NA</td><td>NA</td><td>NA</td><td>NA</td><td>NA</td><td>NA</td><td>NA</td><td>ESB</td></tr>\n",
       "\t<tr><td>ISO31'_LTM(24hr)_OCT_CSplus_EShock_US_Paired_6X_Massed_DefaultStimulator _No_stimulatorETHOSCOPE-YES</td><td>2023-07-23_16-20-43(ESB-massed)_ROI_11     </td><td>LTM</td><td>195</td><td>POST</td><td>-0.20833333</td><td>6X_Massed</td><td>Iso31</td><td>NONE</td><td>0.0  </td><td>⋯</td><td>NA</td><td>NA</td><td>NA</td><td>NA</td><td>NA</td><td>NA</td><td>NA</td><td>NA</td><td>NA</td><td>ESB</td></tr>\n",
       "\t<tr><td>ISO31'_LTM(24hr)_OCT_CSplus_EShock_US_Paired_6X_Massed_DefaultStimulator _No_stimulatorETHOSCOPE-YES</td><td>2023-07-23_16-20-43(ESB-massed)_ROI_14     </td><td>LTM</td><td>196</td><td>POST</td><td> 0.06666667</td><td>6X_Massed</td><td>Iso31</td><td>NONE</td><td>0.0  </td><td>⋯</td><td>NA</td><td>NA</td><td>NA</td><td>NA</td><td>NA</td><td>NA</td><td>NA</td><td>NA</td><td>NA</td><td>ESB</td></tr>\n",
       "\t<tr><td>ISO31'_LTM(24hr)_OCT_CSplus_EShock_US_Paired_6X_Massed_DefaultStimulator _No_stimulatorETHOSCOPE-YES</td><td>2023-07-23_16-20-43(ESB-massed)_ROI_15     </td><td>LTM</td><td>197</td><td>POST</td><td>-0.17045455</td><td>6X_Massed</td><td>Iso31</td><td>NONE</td><td>0.0  </td><td>⋯</td><td>NA</td><td>NA</td><td>NA</td><td>NA</td><td>NA</td><td>NA</td><td>NA</td><td>NA</td><td>NA</td><td>ESB</td></tr>\n",
       "\t<tr><td>ISO31'_LTM(24hr)_OCT_CSplus_EShock_US_Paired_6X_Massed_DefaultStimulator _No_stimulatorETHOSCOPE-YES</td><td>2023-07-23_16-20-43(ESB-massed)_ROI_16     </td><td>LTM</td><td>198</td><td>POST</td><td> 0.05555556</td><td>6X_Massed</td><td>Iso31</td><td>NONE</td><td>0.0  </td><td>⋯</td><td>NA</td><td>NA</td><td>NA</td><td>NA</td><td>NA</td><td>NA</td><td>NA</td><td>NA</td><td>NA</td><td>ESB</td></tr>\n",
       "\t<tr><td>ISO31'_LTM(24hr)_OCT_CSplus_EShock_US_Paired_6X_Massed_DefaultStimulator _No_stimulatorETHOSCOPE-YES</td><td>2023-07-23_16-20-43(ESB-massed)_ROI_17     </td><td>LTM</td><td>199</td><td>POST</td><td>-0.10000000</td><td>6X_Massed</td><td>Iso31</td><td>NONE</td><td>0.0  </td><td>⋯</td><td>NA</td><td>NA</td><td>NA</td><td>NA</td><td>NA</td><td>NA</td><td>NA</td><td>NA</td><td>NA</td><td>ESB</td></tr>\n",
       "\t<tr><td>ISO31'_LTM(24hr)_OCT_CSplus_EShock_US_Paired_6X_Massed_DefaultStimulator _No_stimulatorETHOSCOPE-YES</td><td>2023-07-24_16-19-01(ESB-massed)_ROI_2      </td><td>LTM</td><td>200</td><td>POST</td><td> 0.00000000</td><td>6X_Massed</td><td>Iso31</td><td>NONE</td><td>0.0  </td><td>⋯</td><td>NA</td><td>NA</td><td>NA</td><td>NA</td><td>NA</td><td>NA</td><td>NA</td><td>NA</td><td>NA</td><td>ESB</td></tr>\n",
       "\t<tr><td>ISO31'_LTM(24hr)_OCT_CSplus_EShock_US_Paired_6X_Massed_DefaultStimulator _No_stimulatorETHOSCOPE-YES</td><td>2023-07-24_16-19-01(ESB-massed)_ROI_4      </td><td>LTM</td><td>201</td><td>POST</td><td>-0.09100000</td><td>6X_Massed</td><td>Iso31</td><td>NONE</td><td>0.0  </td><td>⋯</td><td>NA</td><td>NA</td><td>NA</td><td>NA</td><td>NA</td><td>NA</td><td>NA</td><td>NA</td><td>NA</td><td>ESB</td></tr>\n",
       "\t<tr><td>ISO31'_LTM(24hr)_OCT_CSplus_EShock_US_Paired_6X_Massed_DefaultStimulator _No_stimulatorETHOSCOPE-YES</td><td>2023-07-24_16-19-01(ESB-massed)_ROI_5      </td><td>LTM</td><td>202</td><td>POST</td><td>-0.09523810</td><td>6X_Massed</td><td>Iso31</td><td>NONE</td><td>0.0  </td><td>⋯</td><td>NA</td><td>NA</td><td>NA</td><td>NA</td><td>NA</td><td>NA</td><td>NA</td><td>NA</td><td>NA</td><td>ESB</td></tr>\n",
       "\t<tr><td>ISO31'_LTM(24hr)_OCT_CSplus_EShock_US_Paired_6X_Massed_DefaultStimulator _No_stimulatorETHOSCOPE-YES</td><td>2023-07-24_16-19-01(ESB-massed)_ROI_6      </td><td>LTM</td><td>203</td><td>POST</td><td>-0.33000000</td><td>6X_Massed</td><td>Iso31</td><td>NONE</td><td>0.0  </td><td>⋯</td><td>NA</td><td>NA</td><td>NA</td><td>NA</td><td>NA</td><td>NA</td><td>NA</td><td>NA</td><td>NA</td><td>ESB</td></tr>\n",
       "\t<tr><td>ISO31'_LTM(24hr)_OCT_CSplus_EShock_US_Paired_6X_Massed_DefaultStimulator _No_stimulatorETHOSCOPE-YES</td><td>2023-07-24_16-19-01(ESB-massed)_ROI_9      </td><td>LTM</td><td>204</td><td>POST</td><td>-0.09523810</td><td>6X_Massed</td><td>Iso31</td><td>NONE</td><td>0.0  </td><td>⋯</td><td>NA</td><td>NA</td><td>NA</td><td>NA</td><td>NA</td><td>NA</td><td>NA</td><td>NA</td><td>NA</td><td>ESB</td></tr>\n",
       "\t<tr><td>ISO31'_LTM(24hr)_OCT_CSplus_EShock_US_Paired_6X_Massed_DefaultStimulator _No_stimulatorETHOSCOPE-YES</td><td>2023-07-24_16-19-01(ESB-massed)_ROI_10     </td><td>LTM</td><td>205</td><td>POST</td><td>-0.06666667</td><td>6X_Massed</td><td>Iso31</td><td>NONE</td><td>0.0  </td><td>⋯</td><td>NA</td><td>NA</td><td>NA</td><td>NA</td><td>NA</td><td>NA</td><td>NA</td><td>NA</td><td>NA</td><td>ESB</td></tr>\n",
       "\t<tr><td>ISO31'_LTM(24hr)_OCT_CSplus_EShock_US_Paired_6X_Massed_DefaultStimulator _No_stimulatorETHOSCOPE-YES</td><td>2023-07-24_16-19-01(ESB-massed)_ROI_14     </td><td>LTM</td><td>206</td><td>POST</td><td>-0.66666667</td><td>6X_Massed</td><td>Iso31</td><td>NONE</td><td>0.0  </td><td>⋯</td><td>NA</td><td>NA</td><td>NA</td><td>NA</td><td>NA</td><td>NA</td><td>NA</td><td>NA</td><td>NA</td><td>ESB</td></tr>\n",
       "\t<tr><td>ISO31'_LTM(24hr)_OCT_CSplus_EShock_US_Paired_6X_Massed_DefaultStimulator _No_stimulatorETHOSCOPE-YES</td><td>2023-07-24_16-19-01(ESB-massed)_ROI_16     </td><td>LTM</td><td>207</td><td>POST</td><td> 0.00000000</td><td>6X_Massed</td><td>Iso31</td><td>NONE</td><td>0.616</td><td>⋯</td><td>NA</td><td>NA</td><td>NA</td><td>NA</td><td>NA</td><td>NA</td><td>NA</td><td>NA</td><td>NA</td><td>ESB</td></tr>\n",
       "\t<tr><td>ISO31'_LTM(24hr)_OCT_CSplus_EShock_US_Paired_6X_Massed_DefaultStimulator _No_stimulatorETHOSCOPE-YES</td><td>2023-07-24_16-19-01(ESB-massed)_ROI_17     </td><td>LTM</td><td>208</td><td>POST</td><td>-0.05555556</td><td>6X_Massed</td><td>Iso31</td><td>NONE</td><td>0.0  </td><td>⋯</td><td>NA</td><td>NA</td><td>NA</td><td>NA</td><td>NA</td><td>NA</td><td>NA</td><td>NA</td><td>NA</td><td>ESB</td></tr>\n",
       "\t<tr><td>ISO31'_LTM(24hr)_OCT_CSplus_EShock_US_Paired_6X_Massed_DefaultStimulator _No_stimulatorETHOSCOPE-YES</td><td>2023-07-24_16-19-01(ESB-massed)_ROI_19     </td><td>LTM</td><td>209</td><td>POST</td><td> 0.14300000</td><td>6X_Massed</td><td>Iso31</td><td>NONE</td><td>0.0  </td><td>⋯</td><td>NA</td><td>NA</td><td>NA</td><td>NA</td><td>NA</td><td>NA</td><td>NA</td><td>NA</td><td>NA</td><td>ESB</td></tr>\n",
       "\t<tr><td>ISO31'_LTM(24hr)_OCT_CSplus_EShock_US_Paired_6X_Massed_DefaultStimulator _No_stimulatorETHOSCOPE-YES</td><td>2023-07-24_16-19-01(ESB-massed)_ROI_20     </td><td>LTM</td><td>210</td><td>POST</td><td> 0.10000000</td><td>6X_Massed</td><td>Iso31</td><td>NONE</td><td>0.0  </td><td>⋯</td><td>NA</td><td>NA</td><td>NA</td><td>NA</td><td>NA</td><td>NA</td><td>NA</td><td>NA</td><td>NA</td><td>ESB</td></tr>\n",
       "\t<tr><td>ISO31'_LTM(24hr)_OCT_CSplus_EShock_US_Paired_6X_Massed_DefaultStimulator _No_stimulatorETHOSCOPE-YES</td><td>2023-09-14_15-13-25_AOJ_6XMASSED_LTM_ROI_18</td><td>LTM</td><td>268</td><td>POST</td><td> 0.00000000</td><td>6X_Massed</td><td>Iso31</td><td>NONE</td><td>0.206</td><td>⋯</td><td>NA</td><td>NA</td><td>NA</td><td>NA</td><td>NA</td><td>NA</td><td>NA</td><td>NA</td><td>NA</td><td>AOJ</td></tr>\n",
       "\t<tr><td>ISO31'_LTM(24hr)_OCT_CSplus_EShock_US_Paired_6X_Massed_DefaultStimulator _No_stimulatorETHOSCOPE-YES</td><td>2023-09-14_15-13-25_AOJ_6XMASSED_LTM_ROI_20</td><td>LTM</td><td>269</td><td>POST</td><td>-0.16666667</td><td>6X_Massed</td><td>Iso31</td><td>NONE</td><td>0.0  </td><td>⋯</td><td>NA</td><td>NA</td><td>NA</td><td>NA</td><td>NA</td><td>NA</td><td>NA</td><td>NA</td><td>NA</td><td>AOJ</td></tr>\n",
       "</tbody>\n",
       "</table>\n"
      ],
      "text/latex": [
       "A data.table: 52 × 116\n",
       "\\begin{tabular}{lllllllllllllllllllll}\n",
       " Fly\\_group\\_experiment\\_treatment & fly\\_name\\_reference & experiment & id & test & PI & Training\\_session & Genotype & interval & ZT4 & ⋯ & ZT26\\_interactions & ZT26.5\\_interactions & ZT27\\_interactions & ZT27.5\\_interactions & ZT28\\_interactions & ZT28.5\\_interactions & ZT29\\_interactions & ZT29.5\\_interactions & ZT30\\_interactions & User\\\\\n",
       " <chr> & <chr> & <fct> & <int> & <fct> & <dbl> & <chr> & <chr> & <fct> & <chr> & ⋯ & <dbl> & <dbl> & <dbl> & <dbl> & <dbl> & <dbl> & <dbl> & <dbl> & <dbl> & <chr>\\\\\n",
       "\\hline\n",
       "\t ISO31'\\_LTM(24hr)\\_OCT\\_CSplus\\_EShock\\_US\\_Paired\\_6X\\_Massed\\_DefaultStimulator \\_No\\_stimulatorETHOSCOPE-YES & 2023-07-23\\_16-20-43(ESB-massed)\\_ROI\\_2       & LTM & 187 & PRE  &  0.09523810 & 6X\\_Massed & Iso31 & NONE & 0.0   & ⋯ & NA & NA & NA & NA & NA & NA & NA & NA & NA & ESB\\\\\n",
       "\t ISO31'\\_LTM(24hr)\\_OCT\\_CSplus\\_EShock\\_US\\_Paired\\_6X\\_Massed\\_DefaultStimulator \\_No\\_stimulatorETHOSCOPE-YES & 2023-07-23\\_16-20-43(ESB-massed)\\_ROI\\_3       & LTM & 188 & PRE  & -0.01587302 & 6X\\_Massed & Iso31 & NONE & 0.0   & ⋯ & NA & NA & NA & NA & NA & NA & NA & NA & NA & ESB\\\\\n",
       "\t ISO31'\\_LTM(24hr)\\_OCT\\_CSplus\\_EShock\\_US\\_Paired\\_6X\\_Massed\\_DefaultStimulator \\_No\\_stimulatorETHOSCOPE-YES & 2023-07-23\\_16-20-43(ESB-massed)\\_ROI\\_4       & LTM & 189 & PRE  &  0.10000000 & 6X\\_Massed & Iso31 & NONE & 0.0   & ⋯ & NA & NA & NA & NA & NA & NA & NA & NA & NA & ESB\\\\\n",
       "\t ISO31'\\_LTM(24hr)\\_OCT\\_CSplus\\_EShock\\_US\\_Paired\\_6X\\_Massed\\_DefaultStimulator \\_No\\_stimulatorETHOSCOPE-YES & 2023-07-23\\_16-20-43(ESB-massed)\\_ROI\\_5       & LTM & 190 & PRE  &  0.10000000 & 6X\\_Massed & Iso31 & NONE & 0.0   & ⋯ & NA & NA & NA & NA & NA & NA & NA & NA & NA & ESB\\\\\n",
       "\t ISO31'\\_LTM(24hr)\\_OCT\\_CSplus\\_EShock\\_US\\_Paired\\_6X\\_Massed\\_DefaultStimulator \\_No\\_stimulatorETHOSCOPE-YES & 2023-07-23\\_16-20-43(ESB-massed)\\_ROI\\_7       & LTM & 191 & PRE  & -0.06666667 & 6X\\_Massed & Iso31 & NONE & 0.0   & ⋯ & NA & NA & NA & NA & NA & NA & NA & NA & NA & ESB\\\\\n",
       "\t ISO31'\\_LTM(24hr)\\_OCT\\_CSplus\\_EShock\\_US\\_Paired\\_6X\\_Massed\\_DefaultStimulator \\_No\\_stimulatorETHOSCOPE-YES & 2023-07-23\\_16-20-43(ESB-massed)\\_ROI\\_8       & LTM & 192 & PRE  &  0.00000000 & 6X\\_Massed & Iso31 & NONE & 0.0   & ⋯ & NA & NA & NA & NA & NA & NA & NA & NA & NA & ESB\\\\\n",
       "\t ISO31'\\_LTM(24hr)\\_OCT\\_CSplus\\_EShock\\_US\\_Paired\\_6X\\_Massed\\_DefaultStimulator \\_No\\_stimulatorETHOSCOPE-YES & 2023-07-23\\_16-20-43(ESB-massed)\\_ROI\\_9       & LTM & 193 & PRE  & -0.10000000 & 6X\\_Massed & Iso31 & NONE & 0.0   & ⋯ & NA & NA & NA & NA & NA & NA & NA & NA & NA & ESB\\\\\n",
       "\t ISO31'\\_LTM(24hr)\\_OCT\\_CSplus\\_EShock\\_US\\_Paired\\_6X\\_Massed\\_DefaultStimulator \\_No\\_stimulatorETHOSCOPE-YES & 2023-07-23\\_16-20-43(ESB-massed)\\_ROI\\_10      & LTM & 194 & PRE  &  0.05555556 & 6X\\_Massed & Iso31 & NONE & 0.0   & ⋯ & NA & NA & NA & NA & NA & NA & NA & NA & NA & ESB\\\\\n",
       "\t ISO31'\\_LTM(24hr)\\_OCT\\_CSplus\\_EShock\\_US\\_Paired\\_6X\\_Massed\\_DefaultStimulator \\_No\\_stimulatorETHOSCOPE-YES & 2023-07-23\\_16-20-43(ESB-massed)\\_ROI\\_11      & LTM & 195 & PRE  & -0.12500000 & 6X\\_Massed & Iso31 & NONE & 0.0   & ⋯ & NA & NA & NA & NA & NA & NA & NA & NA & NA & ESB\\\\\n",
       "\t ISO31'\\_LTM(24hr)\\_OCT\\_CSplus\\_EShock\\_US\\_Paired\\_6X\\_Massed\\_DefaultStimulator \\_No\\_stimulatorETHOSCOPE-YES & 2023-07-23\\_16-20-43(ESB-massed)\\_ROI\\_14      & LTM & 196 & PRE  &  0.16666667 & 6X\\_Massed & Iso31 & NONE & 0.0   & ⋯ & NA & NA & NA & NA & NA & NA & NA & NA & NA & ESB\\\\\n",
       "\t ISO31'\\_LTM(24hr)\\_OCT\\_CSplus\\_EShock\\_US\\_Paired\\_6X\\_Massed\\_DefaultStimulator \\_No\\_stimulatorETHOSCOPE-YES & 2023-07-23\\_16-20-43(ESB-massed)\\_ROI\\_15      & LTM & 197 & PRE  & -0.10000000 & 6X\\_Massed & Iso31 & NONE & 0.0   & ⋯ & NA & NA & NA & NA & NA & NA & NA & NA & NA & ESB\\\\\n",
       "\t ISO31'\\_LTM(24hr)\\_OCT\\_CSplus\\_EShock\\_US\\_Paired\\_6X\\_Massed\\_DefaultStimulator \\_No\\_stimulatorETHOSCOPE-YES & 2023-07-23\\_16-20-43(ESB-massed)\\_ROI\\_16      & LTM & 198 & PRE  &  0.00000000 & 6X\\_Massed & Iso31 & NONE & 0.0   & ⋯ & NA & NA & NA & NA & NA & NA & NA & NA & NA & ESB\\\\\n",
       "\t ISO31'\\_LTM(24hr)\\_OCT\\_CSplus\\_EShock\\_US\\_Paired\\_6X\\_Massed\\_DefaultStimulator \\_No\\_stimulatorETHOSCOPE-YES & 2023-07-23\\_16-20-43(ESB-massed)\\_ROI\\_17      & LTM & 199 & PRE  &  0.00000000 & 6X\\_Massed & Iso31 & NONE & 0.0   & ⋯ & NA & NA & NA & NA & NA & NA & NA & NA & NA & ESB\\\\\n",
       "\t ISO31'\\_LTM(24hr)\\_OCT\\_CSplus\\_EShock\\_US\\_Paired\\_6X\\_Massed\\_DefaultStimulator \\_No\\_stimulatorETHOSCOPE-YES & 2023-07-24\\_16-19-01(ESB-massed)\\_ROI\\_2       & LTM & 200 & PRE  & -0.10000000 & 6X\\_Massed & Iso31 & NONE & 0.0   & ⋯ & NA & NA & NA & NA & NA & NA & NA & NA & NA & ESB\\\\\n",
       "\t ISO31'\\_LTM(24hr)\\_OCT\\_CSplus\\_EShock\\_US\\_Paired\\_6X\\_Massed\\_DefaultStimulator \\_No\\_stimulatorETHOSCOPE-YES & 2023-07-24\\_16-19-01(ESB-massed)\\_ROI\\_4       & LTM & 201 & PRE  &  0.00000000 & 6X\\_Massed & Iso31 & NONE & 0.0   & ⋯ & NA & NA & NA & NA & NA & NA & NA & NA & NA & ESB\\\\\n",
       "\t ISO31'\\_LTM(24hr)\\_OCT\\_CSplus\\_EShock\\_US\\_Paired\\_6X\\_Massed\\_DefaultStimulator \\_No\\_stimulatorETHOSCOPE-YES & 2023-07-24\\_16-19-01(ESB-massed)\\_ROI\\_5       & LTM & 202 & PRE  &  0.07142857 & 6X\\_Massed & Iso31 & NONE & 0.0   & ⋯ & NA & NA & NA & NA & NA & NA & NA & NA & NA & ESB\\\\\n",
       "\t ISO31'\\_LTM(24hr)\\_OCT\\_CSplus\\_EShock\\_US\\_Paired\\_6X\\_Massed\\_DefaultStimulator \\_No\\_stimulatorETHOSCOPE-YES & 2023-07-24\\_16-19-01(ESB-massed)\\_ROI\\_6       & LTM & 203 & PRE  &  0.07142857 & 6X\\_Massed & Iso31 & NONE & 0.0   & ⋯ & NA & NA & NA & NA & NA & NA & NA & NA & NA & ESB\\\\\n",
       "\t ISO31'\\_LTM(24hr)\\_OCT\\_CSplus\\_EShock\\_US\\_Paired\\_6X\\_Massed\\_DefaultStimulator \\_No\\_stimulatorETHOSCOPE-YES & 2023-07-24\\_16-19-01(ESB-massed)\\_ROI\\_9       & LTM & 204 & PRE  &  0.00000000 & 6X\\_Massed & Iso31 & NONE & 0.0   & ⋯ & NA & NA & NA & NA & NA & NA & NA & NA & NA & ESB\\\\\n",
       "\t ISO31'\\_LTM(24hr)\\_OCT\\_CSplus\\_EShock\\_US\\_Paired\\_6X\\_Massed\\_DefaultStimulator \\_No\\_stimulatorETHOSCOPE-YES & 2023-07-24\\_16-19-01(ESB-massed)\\_ROI\\_10      & LTM & 205 & PRE  &  0.16666667 & 6X\\_Massed & Iso31 & NONE & 0.0   & ⋯ & NA & NA & NA & NA & NA & NA & NA & NA & NA & ESB\\\\\n",
       "\t ISO31'\\_LTM(24hr)\\_OCT\\_CSplus\\_EShock\\_US\\_Paired\\_6X\\_Massed\\_DefaultStimulator \\_No\\_stimulatorETHOSCOPE-YES & 2023-07-24\\_16-19-01(ESB-massed)\\_ROI\\_14      & LTM & 206 & PRE  &  0.16666667 & 6X\\_Massed & Iso31 & NONE & 0.0   & ⋯ & NA & NA & NA & NA & NA & NA & NA & NA & NA & ESB\\\\\n",
       "\t ISO31'\\_LTM(24hr)\\_OCT\\_CSplus\\_EShock\\_US\\_Paired\\_6X\\_Massed\\_DefaultStimulator \\_No\\_stimulatorETHOSCOPE-YES & 2023-07-24\\_16-19-01(ESB-massed)\\_ROI\\_16      & LTM & 207 & PRE  &  0.00000000 & 6X\\_Massed & Iso31 & NONE & 0.616 & ⋯ & NA & NA & NA & NA & NA & NA & NA & NA & NA & ESB\\\\\n",
       "\t ISO31'\\_LTM(24hr)\\_OCT\\_CSplus\\_EShock\\_US\\_Paired\\_6X\\_Massed\\_DefaultStimulator \\_No\\_stimulatorETHOSCOPE-YES & 2023-07-24\\_16-19-01(ESB-massed)\\_ROI\\_17      & LTM & 208 & PRE  & -0.16666667 & 6X\\_Massed & Iso31 & NONE & 0.0   & ⋯ & NA & NA & NA & NA & NA & NA & NA & NA & NA & ESB\\\\\n",
       "\t ISO31'\\_LTM(24hr)\\_OCT\\_CSplus\\_EShock\\_US\\_Paired\\_6X\\_Massed\\_DefaultStimulator \\_No\\_stimulatorETHOSCOPE-YES & 2023-07-24\\_16-19-01(ESB-massed)\\_ROI\\_19      & LTM & 209 & PRE  & -0.10000000 & 6X\\_Massed & Iso31 & NONE & 0.0   & ⋯ & NA & NA & NA & NA & NA & NA & NA & NA & NA & ESB\\\\\n",
       "\t ISO31'\\_LTM(24hr)\\_OCT\\_CSplus\\_EShock\\_US\\_Paired\\_6X\\_Massed\\_DefaultStimulator \\_No\\_stimulatorETHOSCOPE-YES & 2023-07-24\\_16-19-01(ESB-massed)\\_ROI\\_20      & LTM & 210 & PRE  &  0.00000000 & 6X\\_Massed & Iso31 & NONE & 0.0   & ⋯ & NA & NA & NA & NA & NA & NA & NA & NA & NA & ESB\\\\\n",
       "\t ISO31'\\_LTM(24hr)\\_OCT\\_CSplus\\_EShock\\_US\\_Paired\\_6X\\_Massed\\_DefaultStimulator \\_No\\_stimulatorETHOSCOPE-YES & 2023-09-14\\_15-13-25\\_AOJ\\_6XMASSED\\_LTM\\_ROI\\_18 & LTM & 268 & PRE  & -0.07142857 & 6X\\_Massed & Iso31 & NONE & 0.206 & ⋯ & NA & NA & NA & NA & NA & NA & NA & NA & NA & AOJ\\\\\n",
       "\t ISO31'\\_LTM(24hr)\\_OCT\\_CSplus\\_EShock\\_US\\_Paired\\_6X\\_Massed\\_DefaultStimulator \\_No\\_stimulatorETHOSCOPE-YES & 2023-09-14\\_15-13-25\\_AOJ\\_6XMASSED\\_LTM\\_ROI\\_20 & LTM & 269 & PRE  & -0.17142857 & 6X\\_Massed & Iso31 & NONE & 0.0   & ⋯ & NA & NA & NA & NA & NA & NA & NA & NA & NA & AOJ\\\\\n",
       "\t ISO31'\\_LTM(24hr)\\_OCT\\_CSplus\\_EShock\\_US\\_Paired\\_6X\\_Massed\\_DefaultStimulator \\_No\\_stimulatorETHOSCOPE-YES & 2023-07-23\\_16-20-43(ESB-massed)\\_ROI\\_2       & LTM & 187 & POST & -0.09523810 & 6X\\_Massed & Iso31 & NONE & 0.0   & ⋯ & NA & NA & NA & NA & NA & NA & NA & NA & NA & ESB\\\\\n",
       "\t ISO31'\\_LTM(24hr)\\_OCT\\_CSplus\\_EShock\\_US\\_Paired\\_6X\\_Massed\\_DefaultStimulator \\_No\\_stimulatorETHOSCOPE-YES & 2023-07-23\\_16-20-43(ESB-massed)\\_ROI\\_3       & LTM & 188 & POST & -0.35000000 & 6X\\_Massed & Iso31 & NONE & 0.0   & ⋯ & NA & NA & NA & NA & NA & NA & NA & NA & NA & ESB\\\\\n",
       "\t ISO31'\\_LTM(24hr)\\_OCT\\_CSplus\\_EShock\\_US\\_Paired\\_6X\\_Massed\\_DefaultStimulator \\_No\\_stimulatorETHOSCOPE-YES & 2023-07-23\\_16-20-43(ESB-massed)\\_ROI\\_4       & LTM & 189 & POST & -0.11100000 & 6X\\_Massed & Iso31 & NONE & 0.0   & ⋯ & NA & NA & NA & NA & NA & NA & NA & NA & NA & ESB\\\\\n",
       "\t ISO31'\\_LTM(24hr)\\_OCT\\_CSplus\\_EShock\\_US\\_Paired\\_6X\\_Massed\\_DefaultStimulator \\_No\\_stimulatorETHOSCOPE-YES & 2023-07-23\\_16-20-43(ESB-massed)\\_ROI\\_5       & LTM & 190 & POST &  0.00000000 & 6X\\_Massed & Iso31 & NONE & 0.0   & ⋯ & NA & NA & NA & NA & NA & NA & NA & NA & NA & ESB\\\\\n",
       "\t ISO31'\\_LTM(24hr)\\_OCT\\_CSplus\\_EShock\\_US\\_Paired\\_6X\\_Massed\\_DefaultStimulator \\_No\\_stimulatorETHOSCOPE-YES & 2023-07-23\\_16-20-43(ESB-massed)\\_ROI\\_7       & LTM & 191 & POST & -0.80000000 & 6X\\_Massed & Iso31 & NONE & 0.0   & ⋯ & NA & NA & NA & NA & NA & NA & NA & NA & NA & ESB\\\\\n",
       "\t ISO31'\\_LTM(24hr)\\_OCT\\_CSplus\\_EShock\\_US\\_Paired\\_6X\\_Massed\\_DefaultStimulator \\_No\\_stimulatorETHOSCOPE-YES & 2023-07-23\\_16-20-43(ESB-massed)\\_ROI\\_8       & LTM & 192 & POST &  0.25000000 & 6X\\_Massed & Iso31 & NONE & 0.0   & ⋯ & NA & NA & NA & NA & NA & NA & NA & NA & NA & ESB\\\\\n",
       "\t ISO31'\\_LTM(24hr)\\_OCT\\_CSplus\\_EShock\\_US\\_Paired\\_6X\\_Massed\\_DefaultStimulator \\_No\\_stimulatorETHOSCOPE-YES & 2023-07-23\\_16-20-43(ESB-massed)\\_ROI\\_9       & LTM & 193 & POST & -0.50000000 & 6X\\_Massed & Iso31 & NONE & 0.0   & ⋯ & NA & NA & NA & NA & NA & NA & NA & NA & NA & ESB\\\\\n",
       "\t ISO31'\\_LTM(24hr)\\_OCT\\_CSplus\\_EShock\\_US\\_Paired\\_6X\\_Massed\\_DefaultStimulator \\_No\\_stimulatorETHOSCOPE-YES & 2023-07-23\\_16-20-43(ESB-massed)\\_ROI\\_10      & LTM & 194 & POST & -0.16666667 & 6X\\_Massed & Iso31 & NONE & 0.0   & ⋯ & NA & NA & NA & NA & NA & NA & NA & NA & NA & ESB\\\\\n",
       "\t ISO31'\\_LTM(24hr)\\_OCT\\_CSplus\\_EShock\\_US\\_Paired\\_6X\\_Massed\\_DefaultStimulator \\_No\\_stimulatorETHOSCOPE-YES & 2023-07-23\\_16-20-43(ESB-massed)\\_ROI\\_11      & LTM & 195 & POST & -0.20833333 & 6X\\_Massed & Iso31 & NONE & 0.0   & ⋯ & NA & NA & NA & NA & NA & NA & NA & NA & NA & ESB\\\\\n",
       "\t ISO31'\\_LTM(24hr)\\_OCT\\_CSplus\\_EShock\\_US\\_Paired\\_6X\\_Massed\\_DefaultStimulator \\_No\\_stimulatorETHOSCOPE-YES & 2023-07-23\\_16-20-43(ESB-massed)\\_ROI\\_14      & LTM & 196 & POST &  0.06666667 & 6X\\_Massed & Iso31 & NONE & 0.0   & ⋯ & NA & NA & NA & NA & NA & NA & NA & NA & NA & ESB\\\\\n",
       "\t ISO31'\\_LTM(24hr)\\_OCT\\_CSplus\\_EShock\\_US\\_Paired\\_6X\\_Massed\\_DefaultStimulator \\_No\\_stimulatorETHOSCOPE-YES & 2023-07-23\\_16-20-43(ESB-massed)\\_ROI\\_15      & LTM & 197 & POST & -0.17045455 & 6X\\_Massed & Iso31 & NONE & 0.0   & ⋯ & NA & NA & NA & NA & NA & NA & NA & NA & NA & ESB\\\\\n",
       "\t ISO31'\\_LTM(24hr)\\_OCT\\_CSplus\\_EShock\\_US\\_Paired\\_6X\\_Massed\\_DefaultStimulator \\_No\\_stimulatorETHOSCOPE-YES & 2023-07-23\\_16-20-43(ESB-massed)\\_ROI\\_16      & LTM & 198 & POST &  0.05555556 & 6X\\_Massed & Iso31 & NONE & 0.0   & ⋯ & NA & NA & NA & NA & NA & NA & NA & NA & NA & ESB\\\\\n",
       "\t ISO31'\\_LTM(24hr)\\_OCT\\_CSplus\\_EShock\\_US\\_Paired\\_6X\\_Massed\\_DefaultStimulator \\_No\\_stimulatorETHOSCOPE-YES & 2023-07-23\\_16-20-43(ESB-massed)\\_ROI\\_17      & LTM & 199 & POST & -0.10000000 & 6X\\_Massed & Iso31 & NONE & 0.0   & ⋯ & NA & NA & NA & NA & NA & NA & NA & NA & NA & ESB\\\\\n",
       "\t ISO31'\\_LTM(24hr)\\_OCT\\_CSplus\\_EShock\\_US\\_Paired\\_6X\\_Massed\\_DefaultStimulator \\_No\\_stimulatorETHOSCOPE-YES & 2023-07-24\\_16-19-01(ESB-massed)\\_ROI\\_2       & LTM & 200 & POST &  0.00000000 & 6X\\_Massed & Iso31 & NONE & 0.0   & ⋯ & NA & NA & NA & NA & NA & NA & NA & NA & NA & ESB\\\\\n",
       "\t ISO31'\\_LTM(24hr)\\_OCT\\_CSplus\\_EShock\\_US\\_Paired\\_6X\\_Massed\\_DefaultStimulator \\_No\\_stimulatorETHOSCOPE-YES & 2023-07-24\\_16-19-01(ESB-massed)\\_ROI\\_4       & LTM & 201 & POST & -0.09100000 & 6X\\_Massed & Iso31 & NONE & 0.0   & ⋯ & NA & NA & NA & NA & NA & NA & NA & NA & NA & ESB\\\\\n",
       "\t ISO31'\\_LTM(24hr)\\_OCT\\_CSplus\\_EShock\\_US\\_Paired\\_6X\\_Massed\\_DefaultStimulator \\_No\\_stimulatorETHOSCOPE-YES & 2023-07-24\\_16-19-01(ESB-massed)\\_ROI\\_5       & LTM & 202 & POST & -0.09523810 & 6X\\_Massed & Iso31 & NONE & 0.0   & ⋯ & NA & NA & NA & NA & NA & NA & NA & NA & NA & ESB\\\\\n",
       "\t ISO31'\\_LTM(24hr)\\_OCT\\_CSplus\\_EShock\\_US\\_Paired\\_6X\\_Massed\\_DefaultStimulator \\_No\\_stimulatorETHOSCOPE-YES & 2023-07-24\\_16-19-01(ESB-massed)\\_ROI\\_6       & LTM & 203 & POST & -0.33000000 & 6X\\_Massed & Iso31 & NONE & 0.0   & ⋯ & NA & NA & NA & NA & NA & NA & NA & NA & NA & ESB\\\\\n",
       "\t ISO31'\\_LTM(24hr)\\_OCT\\_CSplus\\_EShock\\_US\\_Paired\\_6X\\_Massed\\_DefaultStimulator \\_No\\_stimulatorETHOSCOPE-YES & 2023-07-24\\_16-19-01(ESB-massed)\\_ROI\\_9       & LTM & 204 & POST & -0.09523810 & 6X\\_Massed & Iso31 & NONE & 0.0   & ⋯ & NA & NA & NA & NA & NA & NA & NA & NA & NA & ESB\\\\\n",
       "\t ISO31'\\_LTM(24hr)\\_OCT\\_CSplus\\_EShock\\_US\\_Paired\\_6X\\_Massed\\_DefaultStimulator \\_No\\_stimulatorETHOSCOPE-YES & 2023-07-24\\_16-19-01(ESB-massed)\\_ROI\\_10      & LTM & 205 & POST & -0.06666667 & 6X\\_Massed & Iso31 & NONE & 0.0   & ⋯ & NA & NA & NA & NA & NA & NA & NA & NA & NA & ESB\\\\\n",
       "\t ISO31'\\_LTM(24hr)\\_OCT\\_CSplus\\_EShock\\_US\\_Paired\\_6X\\_Massed\\_DefaultStimulator \\_No\\_stimulatorETHOSCOPE-YES & 2023-07-24\\_16-19-01(ESB-massed)\\_ROI\\_14      & LTM & 206 & POST & -0.66666667 & 6X\\_Massed & Iso31 & NONE & 0.0   & ⋯ & NA & NA & NA & NA & NA & NA & NA & NA & NA & ESB\\\\\n",
       "\t ISO31'\\_LTM(24hr)\\_OCT\\_CSplus\\_EShock\\_US\\_Paired\\_6X\\_Massed\\_DefaultStimulator \\_No\\_stimulatorETHOSCOPE-YES & 2023-07-24\\_16-19-01(ESB-massed)\\_ROI\\_16      & LTM & 207 & POST &  0.00000000 & 6X\\_Massed & Iso31 & NONE & 0.616 & ⋯ & NA & NA & NA & NA & NA & NA & NA & NA & NA & ESB\\\\\n",
       "\t ISO31'\\_LTM(24hr)\\_OCT\\_CSplus\\_EShock\\_US\\_Paired\\_6X\\_Massed\\_DefaultStimulator \\_No\\_stimulatorETHOSCOPE-YES & 2023-07-24\\_16-19-01(ESB-massed)\\_ROI\\_17      & LTM & 208 & POST & -0.05555556 & 6X\\_Massed & Iso31 & NONE & 0.0   & ⋯ & NA & NA & NA & NA & NA & NA & NA & NA & NA & ESB\\\\\n",
       "\t ISO31'\\_LTM(24hr)\\_OCT\\_CSplus\\_EShock\\_US\\_Paired\\_6X\\_Massed\\_DefaultStimulator \\_No\\_stimulatorETHOSCOPE-YES & 2023-07-24\\_16-19-01(ESB-massed)\\_ROI\\_19      & LTM & 209 & POST &  0.14300000 & 6X\\_Massed & Iso31 & NONE & 0.0   & ⋯ & NA & NA & NA & NA & NA & NA & NA & NA & NA & ESB\\\\\n",
       "\t ISO31'\\_LTM(24hr)\\_OCT\\_CSplus\\_EShock\\_US\\_Paired\\_6X\\_Massed\\_DefaultStimulator \\_No\\_stimulatorETHOSCOPE-YES & 2023-07-24\\_16-19-01(ESB-massed)\\_ROI\\_20      & LTM & 210 & POST &  0.10000000 & 6X\\_Massed & Iso31 & NONE & 0.0   & ⋯ & NA & NA & NA & NA & NA & NA & NA & NA & NA & ESB\\\\\n",
       "\t ISO31'\\_LTM(24hr)\\_OCT\\_CSplus\\_EShock\\_US\\_Paired\\_6X\\_Massed\\_DefaultStimulator \\_No\\_stimulatorETHOSCOPE-YES & 2023-09-14\\_15-13-25\\_AOJ\\_6XMASSED\\_LTM\\_ROI\\_18 & LTM & 268 & POST &  0.00000000 & 6X\\_Massed & Iso31 & NONE & 0.206 & ⋯ & NA & NA & NA & NA & NA & NA & NA & NA & NA & AOJ\\\\\n",
       "\t ISO31'\\_LTM(24hr)\\_OCT\\_CSplus\\_EShock\\_US\\_Paired\\_6X\\_Massed\\_DefaultStimulator \\_No\\_stimulatorETHOSCOPE-YES & 2023-09-14\\_15-13-25\\_AOJ\\_6XMASSED\\_LTM\\_ROI\\_20 & LTM & 269 & POST & -0.16666667 & 6X\\_Massed & Iso31 & NONE & 0.0   & ⋯ & NA & NA & NA & NA & NA & NA & NA & NA & NA & AOJ\\\\\n",
       "\\end{tabular}\n"
      ],
      "text/markdown": [
       "\n",
       "A data.table: 52 × 116\n",
       "\n",
       "| Fly_group_experiment_treatment &lt;chr&gt; | fly_name_reference &lt;chr&gt; | experiment &lt;fct&gt; | id &lt;int&gt; | test &lt;fct&gt; | PI &lt;dbl&gt; | Training_session &lt;chr&gt; | Genotype &lt;chr&gt; | interval &lt;fct&gt; | ZT4 &lt;chr&gt; | ⋯ ⋯ | ZT26_interactions &lt;dbl&gt; | ZT26.5_interactions &lt;dbl&gt; | ZT27_interactions &lt;dbl&gt; | ZT27.5_interactions &lt;dbl&gt; | ZT28_interactions &lt;dbl&gt; | ZT28.5_interactions &lt;dbl&gt; | ZT29_interactions &lt;dbl&gt; | ZT29.5_interactions &lt;dbl&gt; | ZT30_interactions &lt;dbl&gt; | User &lt;chr&gt; |\n",
       "|---|---|---|---|---|---|---|---|---|---|---|---|---|---|---|---|---|---|---|---|---|\n",
       "| ISO31'_LTM(24hr)_OCT_CSplus_EShock_US_Paired_6X_Massed_DefaultStimulator _No_stimulatorETHOSCOPE-YES | 2023-07-23_16-20-43(ESB-massed)_ROI_2       | LTM | 187 | PRE  |  0.09523810 | 6X_Massed | Iso31 | NONE | 0.0   | ⋯ | NA | NA | NA | NA | NA | NA | NA | NA | NA | ESB |\n",
       "| ISO31'_LTM(24hr)_OCT_CSplus_EShock_US_Paired_6X_Massed_DefaultStimulator _No_stimulatorETHOSCOPE-YES | 2023-07-23_16-20-43(ESB-massed)_ROI_3       | LTM | 188 | PRE  | -0.01587302 | 6X_Massed | Iso31 | NONE | 0.0   | ⋯ | NA | NA | NA | NA | NA | NA | NA | NA | NA | ESB |\n",
       "| ISO31'_LTM(24hr)_OCT_CSplus_EShock_US_Paired_6X_Massed_DefaultStimulator _No_stimulatorETHOSCOPE-YES | 2023-07-23_16-20-43(ESB-massed)_ROI_4       | LTM | 189 | PRE  |  0.10000000 | 6X_Massed | Iso31 | NONE | 0.0   | ⋯ | NA | NA | NA | NA | NA | NA | NA | NA | NA | ESB |\n",
       "| ISO31'_LTM(24hr)_OCT_CSplus_EShock_US_Paired_6X_Massed_DefaultStimulator _No_stimulatorETHOSCOPE-YES | 2023-07-23_16-20-43(ESB-massed)_ROI_5       | LTM | 190 | PRE  |  0.10000000 | 6X_Massed | Iso31 | NONE | 0.0   | ⋯ | NA | NA | NA | NA | NA | NA | NA | NA | NA | ESB |\n",
       "| ISO31'_LTM(24hr)_OCT_CSplus_EShock_US_Paired_6X_Massed_DefaultStimulator _No_stimulatorETHOSCOPE-YES | 2023-07-23_16-20-43(ESB-massed)_ROI_7       | LTM | 191 | PRE  | -0.06666667 | 6X_Massed | Iso31 | NONE | 0.0   | ⋯ | NA | NA | NA | NA | NA | NA | NA | NA | NA | ESB |\n",
       "| ISO31'_LTM(24hr)_OCT_CSplus_EShock_US_Paired_6X_Massed_DefaultStimulator _No_stimulatorETHOSCOPE-YES | 2023-07-23_16-20-43(ESB-massed)_ROI_8       | LTM | 192 | PRE  |  0.00000000 | 6X_Massed | Iso31 | NONE | 0.0   | ⋯ | NA | NA | NA | NA | NA | NA | NA | NA | NA | ESB |\n",
       "| ISO31'_LTM(24hr)_OCT_CSplus_EShock_US_Paired_6X_Massed_DefaultStimulator _No_stimulatorETHOSCOPE-YES | 2023-07-23_16-20-43(ESB-massed)_ROI_9       | LTM | 193 | PRE  | -0.10000000 | 6X_Massed | Iso31 | NONE | 0.0   | ⋯ | NA | NA | NA | NA | NA | NA | NA | NA | NA | ESB |\n",
       "| ISO31'_LTM(24hr)_OCT_CSplus_EShock_US_Paired_6X_Massed_DefaultStimulator _No_stimulatorETHOSCOPE-YES | 2023-07-23_16-20-43(ESB-massed)_ROI_10      | LTM | 194 | PRE  |  0.05555556 | 6X_Massed | Iso31 | NONE | 0.0   | ⋯ | NA | NA | NA | NA | NA | NA | NA | NA | NA | ESB |\n",
       "| ISO31'_LTM(24hr)_OCT_CSplus_EShock_US_Paired_6X_Massed_DefaultStimulator _No_stimulatorETHOSCOPE-YES | 2023-07-23_16-20-43(ESB-massed)_ROI_11      | LTM | 195 | PRE  | -0.12500000 | 6X_Massed | Iso31 | NONE | 0.0   | ⋯ | NA | NA | NA | NA | NA | NA | NA | NA | NA | ESB |\n",
       "| ISO31'_LTM(24hr)_OCT_CSplus_EShock_US_Paired_6X_Massed_DefaultStimulator _No_stimulatorETHOSCOPE-YES | 2023-07-23_16-20-43(ESB-massed)_ROI_14      | LTM | 196 | PRE  |  0.16666667 | 6X_Massed | Iso31 | NONE | 0.0   | ⋯ | NA | NA | NA | NA | NA | NA | NA | NA | NA | ESB |\n",
       "| ISO31'_LTM(24hr)_OCT_CSplus_EShock_US_Paired_6X_Massed_DefaultStimulator _No_stimulatorETHOSCOPE-YES | 2023-07-23_16-20-43(ESB-massed)_ROI_15      | LTM | 197 | PRE  | -0.10000000 | 6X_Massed | Iso31 | NONE | 0.0   | ⋯ | NA | NA | NA | NA | NA | NA | NA | NA | NA | ESB |\n",
       "| ISO31'_LTM(24hr)_OCT_CSplus_EShock_US_Paired_6X_Massed_DefaultStimulator _No_stimulatorETHOSCOPE-YES | 2023-07-23_16-20-43(ESB-massed)_ROI_16      | LTM | 198 | PRE  |  0.00000000 | 6X_Massed | Iso31 | NONE | 0.0   | ⋯ | NA | NA | NA | NA | NA | NA | NA | NA | NA | ESB |\n",
       "| ISO31'_LTM(24hr)_OCT_CSplus_EShock_US_Paired_6X_Massed_DefaultStimulator _No_stimulatorETHOSCOPE-YES | 2023-07-23_16-20-43(ESB-massed)_ROI_17      | LTM | 199 | PRE  |  0.00000000 | 6X_Massed | Iso31 | NONE | 0.0   | ⋯ | NA | NA | NA | NA | NA | NA | NA | NA | NA | ESB |\n",
       "| ISO31'_LTM(24hr)_OCT_CSplus_EShock_US_Paired_6X_Massed_DefaultStimulator _No_stimulatorETHOSCOPE-YES | 2023-07-24_16-19-01(ESB-massed)_ROI_2       | LTM | 200 | PRE  | -0.10000000 | 6X_Massed | Iso31 | NONE | 0.0   | ⋯ | NA | NA | NA | NA | NA | NA | NA | NA | NA | ESB |\n",
       "| ISO31'_LTM(24hr)_OCT_CSplus_EShock_US_Paired_6X_Massed_DefaultStimulator _No_stimulatorETHOSCOPE-YES | 2023-07-24_16-19-01(ESB-massed)_ROI_4       | LTM | 201 | PRE  |  0.00000000 | 6X_Massed | Iso31 | NONE | 0.0   | ⋯ | NA | NA | NA | NA | NA | NA | NA | NA | NA | ESB |\n",
       "| ISO31'_LTM(24hr)_OCT_CSplus_EShock_US_Paired_6X_Massed_DefaultStimulator _No_stimulatorETHOSCOPE-YES | 2023-07-24_16-19-01(ESB-massed)_ROI_5       | LTM | 202 | PRE  |  0.07142857 | 6X_Massed | Iso31 | NONE | 0.0   | ⋯ | NA | NA | NA | NA | NA | NA | NA | NA | NA | ESB |\n",
       "| ISO31'_LTM(24hr)_OCT_CSplus_EShock_US_Paired_6X_Massed_DefaultStimulator _No_stimulatorETHOSCOPE-YES | 2023-07-24_16-19-01(ESB-massed)_ROI_6       | LTM | 203 | PRE  |  0.07142857 | 6X_Massed | Iso31 | NONE | 0.0   | ⋯ | NA | NA | NA | NA | NA | NA | NA | NA | NA | ESB |\n",
       "| ISO31'_LTM(24hr)_OCT_CSplus_EShock_US_Paired_6X_Massed_DefaultStimulator _No_stimulatorETHOSCOPE-YES | 2023-07-24_16-19-01(ESB-massed)_ROI_9       | LTM | 204 | PRE  |  0.00000000 | 6X_Massed | Iso31 | NONE | 0.0   | ⋯ | NA | NA | NA | NA | NA | NA | NA | NA | NA | ESB |\n",
       "| ISO31'_LTM(24hr)_OCT_CSplus_EShock_US_Paired_6X_Massed_DefaultStimulator _No_stimulatorETHOSCOPE-YES | 2023-07-24_16-19-01(ESB-massed)_ROI_10      | LTM | 205 | PRE  |  0.16666667 | 6X_Massed | Iso31 | NONE | 0.0   | ⋯ | NA | NA | NA | NA | NA | NA | NA | NA | NA | ESB |\n",
       "| ISO31'_LTM(24hr)_OCT_CSplus_EShock_US_Paired_6X_Massed_DefaultStimulator _No_stimulatorETHOSCOPE-YES | 2023-07-24_16-19-01(ESB-massed)_ROI_14      | LTM | 206 | PRE  |  0.16666667 | 6X_Massed | Iso31 | NONE | 0.0   | ⋯ | NA | NA | NA | NA | NA | NA | NA | NA | NA | ESB |\n",
       "| ISO31'_LTM(24hr)_OCT_CSplus_EShock_US_Paired_6X_Massed_DefaultStimulator _No_stimulatorETHOSCOPE-YES | 2023-07-24_16-19-01(ESB-massed)_ROI_16      | LTM | 207 | PRE  |  0.00000000 | 6X_Massed | Iso31 | NONE | 0.616 | ⋯ | NA | NA | NA | NA | NA | NA | NA | NA | NA | ESB |\n",
       "| ISO31'_LTM(24hr)_OCT_CSplus_EShock_US_Paired_6X_Massed_DefaultStimulator _No_stimulatorETHOSCOPE-YES | 2023-07-24_16-19-01(ESB-massed)_ROI_17      | LTM | 208 | PRE  | -0.16666667 | 6X_Massed | Iso31 | NONE | 0.0   | ⋯ | NA | NA | NA | NA | NA | NA | NA | NA | NA | ESB |\n",
       "| ISO31'_LTM(24hr)_OCT_CSplus_EShock_US_Paired_6X_Massed_DefaultStimulator _No_stimulatorETHOSCOPE-YES | 2023-07-24_16-19-01(ESB-massed)_ROI_19      | LTM | 209 | PRE  | -0.10000000 | 6X_Massed | Iso31 | NONE | 0.0   | ⋯ | NA | NA | NA | NA | NA | NA | NA | NA | NA | ESB |\n",
       "| ISO31'_LTM(24hr)_OCT_CSplus_EShock_US_Paired_6X_Massed_DefaultStimulator _No_stimulatorETHOSCOPE-YES | 2023-07-24_16-19-01(ESB-massed)_ROI_20      | LTM | 210 | PRE  |  0.00000000 | 6X_Massed | Iso31 | NONE | 0.0   | ⋯ | NA | NA | NA | NA | NA | NA | NA | NA | NA | ESB |\n",
       "| ISO31'_LTM(24hr)_OCT_CSplus_EShock_US_Paired_6X_Massed_DefaultStimulator _No_stimulatorETHOSCOPE-YES | 2023-09-14_15-13-25_AOJ_6XMASSED_LTM_ROI_18 | LTM | 268 | PRE  | -0.07142857 | 6X_Massed | Iso31 | NONE | 0.206 | ⋯ | NA | NA | NA | NA | NA | NA | NA | NA | NA | AOJ |\n",
       "| ISO31'_LTM(24hr)_OCT_CSplus_EShock_US_Paired_6X_Massed_DefaultStimulator _No_stimulatorETHOSCOPE-YES | 2023-09-14_15-13-25_AOJ_6XMASSED_LTM_ROI_20 | LTM | 269 | PRE  | -0.17142857 | 6X_Massed | Iso31 | NONE | 0.0   | ⋯ | NA | NA | NA | NA | NA | NA | NA | NA | NA | AOJ |\n",
       "| ISO31'_LTM(24hr)_OCT_CSplus_EShock_US_Paired_6X_Massed_DefaultStimulator _No_stimulatorETHOSCOPE-YES | 2023-07-23_16-20-43(ESB-massed)_ROI_2       | LTM | 187 | POST | -0.09523810 | 6X_Massed | Iso31 | NONE | 0.0   | ⋯ | NA | NA | NA | NA | NA | NA | NA | NA | NA | ESB |\n",
       "| ISO31'_LTM(24hr)_OCT_CSplus_EShock_US_Paired_6X_Massed_DefaultStimulator _No_stimulatorETHOSCOPE-YES | 2023-07-23_16-20-43(ESB-massed)_ROI_3       | LTM | 188 | POST | -0.35000000 | 6X_Massed | Iso31 | NONE | 0.0   | ⋯ | NA | NA | NA | NA | NA | NA | NA | NA | NA | ESB |\n",
       "| ISO31'_LTM(24hr)_OCT_CSplus_EShock_US_Paired_6X_Massed_DefaultStimulator _No_stimulatorETHOSCOPE-YES | 2023-07-23_16-20-43(ESB-massed)_ROI_4       | LTM | 189 | POST | -0.11100000 | 6X_Massed | Iso31 | NONE | 0.0   | ⋯ | NA | NA | NA | NA | NA | NA | NA | NA | NA | ESB |\n",
       "| ISO31'_LTM(24hr)_OCT_CSplus_EShock_US_Paired_6X_Massed_DefaultStimulator _No_stimulatorETHOSCOPE-YES | 2023-07-23_16-20-43(ESB-massed)_ROI_5       | LTM | 190 | POST |  0.00000000 | 6X_Massed | Iso31 | NONE | 0.0   | ⋯ | NA | NA | NA | NA | NA | NA | NA | NA | NA | ESB |\n",
       "| ISO31'_LTM(24hr)_OCT_CSplus_EShock_US_Paired_6X_Massed_DefaultStimulator _No_stimulatorETHOSCOPE-YES | 2023-07-23_16-20-43(ESB-massed)_ROI_7       | LTM | 191 | POST | -0.80000000 | 6X_Massed | Iso31 | NONE | 0.0   | ⋯ | NA | NA | NA | NA | NA | NA | NA | NA | NA | ESB |\n",
       "| ISO31'_LTM(24hr)_OCT_CSplus_EShock_US_Paired_6X_Massed_DefaultStimulator _No_stimulatorETHOSCOPE-YES | 2023-07-23_16-20-43(ESB-massed)_ROI_8       | LTM | 192 | POST |  0.25000000 | 6X_Massed | Iso31 | NONE | 0.0   | ⋯ | NA | NA | NA | NA | NA | NA | NA | NA | NA | ESB |\n",
       "| ISO31'_LTM(24hr)_OCT_CSplus_EShock_US_Paired_6X_Massed_DefaultStimulator _No_stimulatorETHOSCOPE-YES | 2023-07-23_16-20-43(ESB-massed)_ROI_9       | LTM | 193 | POST | -0.50000000 | 6X_Massed | Iso31 | NONE | 0.0   | ⋯ | NA | NA | NA | NA | NA | NA | NA | NA | NA | ESB |\n",
       "| ISO31'_LTM(24hr)_OCT_CSplus_EShock_US_Paired_6X_Massed_DefaultStimulator _No_stimulatorETHOSCOPE-YES | 2023-07-23_16-20-43(ESB-massed)_ROI_10      | LTM | 194 | POST | -0.16666667 | 6X_Massed | Iso31 | NONE | 0.0   | ⋯ | NA | NA | NA | NA | NA | NA | NA | NA | NA | ESB |\n",
       "| ISO31'_LTM(24hr)_OCT_CSplus_EShock_US_Paired_6X_Massed_DefaultStimulator _No_stimulatorETHOSCOPE-YES | 2023-07-23_16-20-43(ESB-massed)_ROI_11      | LTM | 195 | POST | -0.20833333 | 6X_Massed | Iso31 | NONE | 0.0   | ⋯ | NA | NA | NA | NA | NA | NA | NA | NA | NA | ESB |\n",
       "| ISO31'_LTM(24hr)_OCT_CSplus_EShock_US_Paired_6X_Massed_DefaultStimulator _No_stimulatorETHOSCOPE-YES | 2023-07-23_16-20-43(ESB-massed)_ROI_14      | LTM | 196 | POST |  0.06666667 | 6X_Massed | Iso31 | NONE | 0.0   | ⋯ | NA | NA | NA | NA | NA | NA | NA | NA | NA | ESB |\n",
       "| ISO31'_LTM(24hr)_OCT_CSplus_EShock_US_Paired_6X_Massed_DefaultStimulator _No_stimulatorETHOSCOPE-YES | 2023-07-23_16-20-43(ESB-massed)_ROI_15      | LTM | 197 | POST | -0.17045455 | 6X_Massed | Iso31 | NONE | 0.0   | ⋯ | NA | NA | NA | NA | NA | NA | NA | NA | NA | ESB |\n",
       "| ISO31'_LTM(24hr)_OCT_CSplus_EShock_US_Paired_6X_Massed_DefaultStimulator _No_stimulatorETHOSCOPE-YES | 2023-07-23_16-20-43(ESB-massed)_ROI_16      | LTM | 198 | POST |  0.05555556 | 6X_Massed | Iso31 | NONE | 0.0   | ⋯ | NA | NA | NA | NA | NA | NA | NA | NA | NA | ESB |\n",
       "| ISO31'_LTM(24hr)_OCT_CSplus_EShock_US_Paired_6X_Massed_DefaultStimulator _No_stimulatorETHOSCOPE-YES | 2023-07-23_16-20-43(ESB-massed)_ROI_17      | LTM | 199 | POST | -0.10000000 | 6X_Massed | Iso31 | NONE | 0.0   | ⋯ | NA | NA | NA | NA | NA | NA | NA | NA | NA | ESB |\n",
       "| ISO31'_LTM(24hr)_OCT_CSplus_EShock_US_Paired_6X_Massed_DefaultStimulator _No_stimulatorETHOSCOPE-YES | 2023-07-24_16-19-01(ESB-massed)_ROI_2       | LTM | 200 | POST |  0.00000000 | 6X_Massed | Iso31 | NONE | 0.0   | ⋯ | NA | NA | NA | NA | NA | NA | NA | NA | NA | ESB |\n",
       "| ISO31'_LTM(24hr)_OCT_CSplus_EShock_US_Paired_6X_Massed_DefaultStimulator _No_stimulatorETHOSCOPE-YES | 2023-07-24_16-19-01(ESB-massed)_ROI_4       | LTM | 201 | POST | -0.09100000 | 6X_Massed | Iso31 | NONE | 0.0   | ⋯ | NA | NA | NA | NA | NA | NA | NA | NA | NA | ESB |\n",
       "| ISO31'_LTM(24hr)_OCT_CSplus_EShock_US_Paired_6X_Massed_DefaultStimulator _No_stimulatorETHOSCOPE-YES | 2023-07-24_16-19-01(ESB-massed)_ROI_5       | LTM | 202 | POST | -0.09523810 | 6X_Massed | Iso31 | NONE | 0.0   | ⋯ | NA | NA | NA | NA | NA | NA | NA | NA | NA | ESB |\n",
       "| ISO31'_LTM(24hr)_OCT_CSplus_EShock_US_Paired_6X_Massed_DefaultStimulator _No_stimulatorETHOSCOPE-YES | 2023-07-24_16-19-01(ESB-massed)_ROI_6       | LTM | 203 | POST | -0.33000000 | 6X_Massed | Iso31 | NONE | 0.0   | ⋯ | NA | NA | NA | NA | NA | NA | NA | NA | NA | ESB |\n",
       "| ISO31'_LTM(24hr)_OCT_CSplus_EShock_US_Paired_6X_Massed_DefaultStimulator _No_stimulatorETHOSCOPE-YES | 2023-07-24_16-19-01(ESB-massed)_ROI_9       | LTM | 204 | POST | -0.09523810 | 6X_Massed | Iso31 | NONE | 0.0   | ⋯ | NA | NA | NA | NA | NA | NA | NA | NA | NA | ESB |\n",
       "| ISO31'_LTM(24hr)_OCT_CSplus_EShock_US_Paired_6X_Massed_DefaultStimulator _No_stimulatorETHOSCOPE-YES | 2023-07-24_16-19-01(ESB-massed)_ROI_10      | LTM | 205 | POST | -0.06666667 | 6X_Massed | Iso31 | NONE | 0.0   | ⋯ | NA | NA | NA | NA | NA | NA | NA | NA | NA | ESB |\n",
       "| ISO31'_LTM(24hr)_OCT_CSplus_EShock_US_Paired_6X_Massed_DefaultStimulator _No_stimulatorETHOSCOPE-YES | 2023-07-24_16-19-01(ESB-massed)_ROI_14      | LTM | 206 | POST | -0.66666667 | 6X_Massed | Iso31 | NONE | 0.0   | ⋯ | NA | NA | NA | NA | NA | NA | NA | NA | NA | ESB |\n",
       "| ISO31'_LTM(24hr)_OCT_CSplus_EShock_US_Paired_6X_Massed_DefaultStimulator _No_stimulatorETHOSCOPE-YES | 2023-07-24_16-19-01(ESB-massed)_ROI_16      | LTM | 207 | POST |  0.00000000 | 6X_Massed | Iso31 | NONE | 0.616 | ⋯ | NA | NA | NA | NA | NA | NA | NA | NA | NA | ESB |\n",
       "| ISO31'_LTM(24hr)_OCT_CSplus_EShock_US_Paired_6X_Massed_DefaultStimulator _No_stimulatorETHOSCOPE-YES | 2023-07-24_16-19-01(ESB-massed)_ROI_17      | LTM | 208 | POST | -0.05555556 | 6X_Massed | Iso31 | NONE | 0.0   | ⋯ | NA | NA | NA | NA | NA | NA | NA | NA | NA | ESB |\n",
       "| ISO31'_LTM(24hr)_OCT_CSplus_EShock_US_Paired_6X_Massed_DefaultStimulator _No_stimulatorETHOSCOPE-YES | 2023-07-24_16-19-01(ESB-massed)_ROI_19      | LTM | 209 | POST |  0.14300000 | 6X_Massed | Iso31 | NONE | 0.0   | ⋯ | NA | NA | NA | NA | NA | NA | NA | NA | NA | ESB |\n",
       "| ISO31'_LTM(24hr)_OCT_CSplus_EShock_US_Paired_6X_Massed_DefaultStimulator _No_stimulatorETHOSCOPE-YES | 2023-07-24_16-19-01(ESB-massed)_ROI_20      | LTM | 210 | POST |  0.10000000 | 6X_Massed | Iso31 | NONE | 0.0   | ⋯ | NA | NA | NA | NA | NA | NA | NA | NA | NA | ESB |\n",
       "| ISO31'_LTM(24hr)_OCT_CSplus_EShock_US_Paired_6X_Massed_DefaultStimulator _No_stimulatorETHOSCOPE-YES | 2023-09-14_15-13-25_AOJ_6XMASSED_LTM_ROI_18 | LTM | 268 | POST |  0.00000000 | 6X_Massed | Iso31 | NONE | 0.206 | ⋯ | NA | NA | NA | NA | NA | NA | NA | NA | NA | AOJ |\n",
       "| ISO31'_LTM(24hr)_OCT_CSplus_EShock_US_Paired_6X_Massed_DefaultStimulator _No_stimulatorETHOSCOPE-YES | 2023-09-14_15-13-25_AOJ_6XMASSED_LTM_ROI_20 | LTM | 269 | POST | -0.16666667 | 6X_Massed | Iso31 | NONE | 0.0   | ⋯ | NA | NA | NA | NA | NA | NA | NA | NA | NA | AOJ |\n",
       "\n"
      ],
      "text/plain": [
       "   Fly_group_experiment_treatment                                                                      \n",
       "1  ISO31'_LTM(24hr)_OCT_CSplus_EShock_US_Paired_6X_Massed_DefaultStimulator _No_stimulatorETHOSCOPE-YES\n",
       "2  ISO31'_LTM(24hr)_OCT_CSplus_EShock_US_Paired_6X_Massed_DefaultStimulator _No_stimulatorETHOSCOPE-YES\n",
       "3  ISO31'_LTM(24hr)_OCT_CSplus_EShock_US_Paired_6X_Massed_DefaultStimulator _No_stimulatorETHOSCOPE-YES\n",
       "4  ISO31'_LTM(24hr)_OCT_CSplus_EShock_US_Paired_6X_Massed_DefaultStimulator _No_stimulatorETHOSCOPE-YES\n",
       "5  ISO31'_LTM(24hr)_OCT_CSplus_EShock_US_Paired_6X_Massed_DefaultStimulator _No_stimulatorETHOSCOPE-YES\n",
       "6  ISO31'_LTM(24hr)_OCT_CSplus_EShock_US_Paired_6X_Massed_DefaultStimulator _No_stimulatorETHOSCOPE-YES\n",
       "7  ISO31'_LTM(24hr)_OCT_CSplus_EShock_US_Paired_6X_Massed_DefaultStimulator _No_stimulatorETHOSCOPE-YES\n",
       "8  ISO31'_LTM(24hr)_OCT_CSplus_EShock_US_Paired_6X_Massed_DefaultStimulator _No_stimulatorETHOSCOPE-YES\n",
       "9  ISO31'_LTM(24hr)_OCT_CSplus_EShock_US_Paired_6X_Massed_DefaultStimulator _No_stimulatorETHOSCOPE-YES\n",
       "10 ISO31'_LTM(24hr)_OCT_CSplus_EShock_US_Paired_6X_Massed_DefaultStimulator _No_stimulatorETHOSCOPE-YES\n",
       "11 ISO31'_LTM(24hr)_OCT_CSplus_EShock_US_Paired_6X_Massed_DefaultStimulator _No_stimulatorETHOSCOPE-YES\n",
       "12 ISO31'_LTM(24hr)_OCT_CSplus_EShock_US_Paired_6X_Massed_DefaultStimulator _No_stimulatorETHOSCOPE-YES\n",
       "13 ISO31'_LTM(24hr)_OCT_CSplus_EShock_US_Paired_6X_Massed_DefaultStimulator _No_stimulatorETHOSCOPE-YES\n",
       "14 ISO31'_LTM(24hr)_OCT_CSplus_EShock_US_Paired_6X_Massed_DefaultStimulator _No_stimulatorETHOSCOPE-YES\n",
       "15 ISO31'_LTM(24hr)_OCT_CSplus_EShock_US_Paired_6X_Massed_DefaultStimulator _No_stimulatorETHOSCOPE-YES\n",
       "16 ISO31'_LTM(24hr)_OCT_CSplus_EShock_US_Paired_6X_Massed_DefaultStimulator _No_stimulatorETHOSCOPE-YES\n",
       "17 ISO31'_LTM(24hr)_OCT_CSplus_EShock_US_Paired_6X_Massed_DefaultStimulator _No_stimulatorETHOSCOPE-YES\n",
       "18 ISO31'_LTM(24hr)_OCT_CSplus_EShock_US_Paired_6X_Massed_DefaultStimulator _No_stimulatorETHOSCOPE-YES\n",
       "19 ISO31'_LTM(24hr)_OCT_CSplus_EShock_US_Paired_6X_Massed_DefaultStimulator _No_stimulatorETHOSCOPE-YES\n",
       "20 ISO31'_LTM(24hr)_OCT_CSplus_EShock_US_Paired_6X_Massed_DefaultStimulator _No_stimulatorETHOSCOPE-YES\n",
       "21 ISO31'_LTM(24hr)_OCT_CSplus_EShock_US_Paired_6X_Massed_DefaultStimulator _No_stimulatorETHOSCOPE-YES\n",
       "22 ISO31'_LTM(24hr)_OCT_CSplus_EShock_US_Paired_6X_Massed_DefaultStimulator _No_stimulatorETHOSCOPE-YES\n",
       "23 ISO31'_LTM(24hr)_OCT_CSplus_EShock_US_Paired_6X_Massed_DefaultStimulator _No_stimulatorETHOSCOPE-YES\n",
       "24 ISO31'_LTM(24hr)_OCT_CSplus_EShock_US_Paired_6X_Massed_DefaultStimulator _No_stimulatorETHOSCOPE-YES\n",
       "25 ISO31'_LTM(24hr)_OCT_CSplus_EShock_US_Paired_6X_Massed_DefaultStimulator _No_stimulatorETHOSCOPE-YES\n",
       "26 ISO31'_LTM(24hr)_OCT_CSplus_EShock_US_Paired_6X_Massed_DefaultStimulator _No_stimulatorETHOSCOPE-YES\n",
       "27 ISO31'_LTM(24hr)_OCT_CSplus_EShock_US_Paired_6X_Massed_DefaultStimulator _No_stimulatorETHOSCOPE-YES\n",
       "28 ISO31'_LTM(24hr)_OCT_CSplus_EShock_US_Paired_6X_Massed_DefaultStimulator _No_stimulatorETHOSCOPE-YES\n",
       "29 ISO31'_LTM(24hr)_OCT_CSplus_EShock_US_Paired_6X_Massed_DefaultStimulator _No_stimulatorETHOSCOPE-YES\n",
       "30 ISO31'_LTM(24hr)_OCT_CSplus_EShock_US_Paired_6X_Massed_DefaultStimulator _No_stimulatorETHOSCOPE-YES\n",
       "31 ISO31'_LTM(24hr)_OCT_CSplus_EShock_US_Paired_6X_Massed_DefaultStimulator _No_stimulatorETHOSCOPE-YES\n",
       "32 ISO31'_LTM(24hr)_OCT_CSplus_EShock_US_Paired_6X_Massed_DefaultStimulator _No_stimulatorETHOSCOPE-YES\n",
       "33 ISO31'_LTM(24hr)_OCT_CSplus_EShock_US_Paired_6X_Massed_DefaultStimulator _No_stimulatorETHOSCOPE-YES\n",
       "34 ISO31'_LTM(24hr)_OCT_CSplus_EShock_US_Paired_6X_Massed_DefaultStimulator _No_stimulatorETHOSCOPE-YES\n",
       "35 ISO31'_LTM(24hr)_OCT_CSplus_EShock_US_Paired_6X_Massed_DefaultStimulator _No_stimulatorETHOSCOPE-YES\n",
       "36 ISO31'_LTM(24hr)_OCT_CSplus_EShock_US_Paired_6X_Massed_DefaultStimulator _No_stimulatorETHOSCOPE-YES\n",
       "37 ISO31'_LTM(24hr)_OCT_CSplus_EShock_US_Paired_6X_Massed_DefaultStimulator _No_stimulatorETHOSCOPE-YES\n",
       "38 ISO31'_LTM(24hr)_OCT_CSplus_EShock_US_Paired_6X_Massed_DefaultStimulator _No_stimulatorETHOSCOPE-YES\n",
       "39 ISO31'_LTM(24hr)_OCT_CSplus_EShock_US_Paired_6X_Massed_DefaultStimulator _No_stimulatorETHOSCOPE-YES\n",
       "40 ISO31'_LTM(24hr)_OCT_CSplus_EShock_US_Paired_6X_Massed_DefaultStimulator _No_stimulatorETHOSCOPE-YES\n",
       "41 ISO31'_LTM(24hr)_OCT_CSplus_EShock_US_Paired_6X_Massed_DefaultStimulator _No_stimulatorETHOSCOPE-YES\n",
       "42 ISO31'_LTM(24hr)_OCT_CSplus_EShock_US_Paired_6X_Massed_DefaultStimulator _No_stimulatorETHOSCOPE-YES\n",
       "43 ISO31'_LTM(24hr)_OCT_CSplus_EShock_US_Paired_6X_Massed_DefaultStimulator _No_stimulatorETHOSCOPE-YES\n",
       "44 ISO31'_LTM(24hr)_OCT_CSplus_EShock_US_Paired_6X_Massed_DefaultStimulator _No_stimulatorETHOSCOPE-YES\n",
       "45 ISO31'_LTM(24hr)_OCT_CSplus_EShock_US_Paired_6X_Massed_DefaultStimulator _No_stimulatorETHOSCOPE-YES\n",
       "46 ISO31'_LTM(24hr)_OCT_CSplus_EShock_US_Paired_6X_Massed_DefaultStimulator _No_stimulatorETHOSCOPE-YES\n",
       "47 ISO31'_LTM(24hr)_OCT_CSplus_EShock_US_Paired_6X_Massed_DefaultStimulator _No_stimulatorETHOSCOPE-YES\n",
       "48 ISO31'_LTM(24hr)_OCT_CSplus_EShock_US_Paired_6X_Massed_DefaultStimulator _No_stimulatorETHOSCOPE-YES\n",
       "49 ISO31'_LTM(24hr)_OCT_CSplus_EShock_US_Paired_6X_Massed_DefaultStimulator _No_stimulatorETHOSCOPE-YES\n",
       "50 ISO31'_LTM(24hr)_OCT_CSplus_EShock_US_Paired_6X_Massed_DefaultStimulator _No_stimulatorETHOSCOPE-YES\n",
       "51 ISO31'_LTM(24hr)_OCT_CSplus_EShock_US_Paired_6X_Massed_DefaultStimulator _No_stimulatorETHOSCOPE-YES\n",
       "52 ISO31'_LTM(24hr)_OCT_CSplus_EShock_US_Paired_6X_Massed_DefaultStimulator _No_stimulatorETHOSCOPE-YES\n",
       "   fly_name_reference                          experiment id  test PI         \n",
       "1  2023-07-23_16-20-43(ESB-massed)_ROI_2       LTM        187 PRE   0.09523810\n",
       "2  2023-07-23_16-20-43(ESB-massed)_ROI_3       LTM        188 PRE  -0.01587302\n",
       "3  2023-07-23_16-20-43(ESB-massed)_ROI_4       LTM        189 PRE   0.10000000\n",
       "4  2023-07-23_16-20-43(ESB-massed)_ROI_5       LTM        190 PRE   0.10000000\n",
       "5  2023-07-23_16-20-43(ESB-massed)_ROI_7       LTM        191 PRE  -0.06666667\n",
       "6  2023-07-23_16-20-43(ESB-massed)_ROI_8       LTM        192 PRE   0.00000000\n",
       "7  2023-07-23_16-20-43(ESB-massed)_ROI_9       LTM        193 PRE  -0.10000000\n",
       "8  2023-07-23_16-20-43(ESB-massed)_ROI_10      LTM        194 PRE   0.05555556\n",
       "9  2023-07-23_16-20-43(ESB-massed)_ROI_11      LTM        195 PRE  -0.12500000\n",
       "10 2023-07-23_16-20-43(ESB-massed)_ROI_14      LTM        196 PRE   0.16666667\n",
       "11 2023-07-23_16-20-43(ESB-massed)_ROI_15      LTM        197 PRE  -0.10000000\n",
       "12 2023-07-23_16-20-43(ESB-massed)_ROI_16      LTM        198 PRE   0.00000000\n",
       "13 2023-07-23_16-20-43(ESB-massed)_ROI_17      LTM        199 PRE   0.00000000\n",
       "14 2023-07-24_16-19-01(ESB-massed)_ROI_2       LTM        200 PRE  -0.10000000\n",
       "15 2023-07-24_16-19-01(ESB-massed)_ROI_4       LTM        201 PRE   0.00000000\n",
       "16 2023-07-24_16-19-01(ESB-massed)_ROI_5       LTM        202 PRE   0.07142857\n",
       "17 2023-07-24_16-19-01(ESB-massed)_ROI_6       LTM        203 PRE   0.07142857\n",
       "18 2023-07-24_16-19-01(ESB-massed)_ROI_9       LTM        204 PRE   0.00000000\n",
       "19 2023-07-24_16-19-01(ESB-massed)_ROI_10      LTM        205 PRE   0.16666667\n",
       "20 2023-07-24_16-19-01(ESB-massed)_ROI_14      LTM        206 PRE   0.16666667\n",
       "21 2023-07-24_16-19-01(ESB-massed)_ROI_16      LTM        207 PRE   0.00000000\n",
       "22 2023-07-24_16-19-01(ESB-massed)_ROI_17      LTM        208 PRE  -0.16666667\n",
       "23 2023-07-24_16-19-01(ESB-massed)_ROI_19      LTM        209 PRE  -0.10000000\n",
       "24 2023-07-24_16-19-01(ESB-massed)_ROI_20      LTM        210 PRE   0.00000000\n",
       "25 2023-09-14_15-13-25_AOJ_6XMASSED_LTM_ROI_18 LTM        268 PRE  -0.07142857\n",
       "26 2023-09-14_15-13-25_AOJ_6XMASSED_LTM_ROI_20 LTM        269 PRE  -0.17142857\n",
       "27 2023-07-23_16-20-43(ESB-massed)_ROI_2       LTM        187 POST -0.09523810\n",
       "28 2023-07-23_16-20-43(ESB-massed)_ROI_3       LTM        188 POST -0.35000000\n",
       "29 2023-07-23_16-20-43(ESB-massed)_ROI_4       LTM        189 POST -0.11100000\n",
       "30 2023-07-23_16-20-43(ESB-massed)_ROI_5       LTM        190 POST  0.00000000\n",
       "31 2023-07-23_16-20-43(ESB-massed)_ROI_7       LTM        191 POST -0.80000000\n",
       "32 2023-07-23_16-20-43(ESB-massed)_ROI_8       LTM        192 POST  0.25000000\n",
       "33 2023-07-23_16-20-43(ESB-massed)_ROI_9       LTM        193 POST -0.50000000\n",
       "34 2023-07-23_16-20-43(ESB-massed)_ROI_10      LTM        194 POST -0.16666667\n",
       "35 2023-07-23_16-20-43(ESB-massed)_ROI_11      LTM        195 POST -0.20833333\n",
       "36 2023-07-23_16-20-43(ESB-massed)_ROI_14      LTM        196 POST  0.06666667\n",
       "37 2023-07-23_16-20-43(ESB-massed)_ROI_15      LTM        197 POST -0.17045455\n",
       "38 2023-07-23_16-20-43(ESB-massed)_ROI_16      LTM        198 POST  0.05555556\n",
       "39 2023-07-23_16-20-43(ESB-massed)_ROI_17      LTM        199 POST -0.10000000\n",
       "40 2023-07-24_16-19-01(ESB-massed)_ROI_2       LTM        200 POST  0.00000000\n",
       "41 2023-07-24_16-19-01(ESB-massed)_ROI_4       LTM        201 POST -0.09100000\n",
       "42 2023-07-24_16-19-01(ESB-massed)_ROI_5       LTM        202 POST -0.09523810\n",
       "43 2023-07-24_16-19-01(ESB-massed)_ROI_6       LTM        203 POST -0.33000000\n",
       "44 2023-07-24_16-19-01(ESB-massed)_ROI_9       LTM        204 POST -0.09523810\n",
       "45 2023-07-24_16-19-01(ESB-massed)_ROI_10      LTM        205 POST -0.06666667\n",
       "46 2023-07-24_16-19-01(ESB-massed)_ROI_14      LTM        206 POST -0.66666667\n",
       "47 2023-07-24_16-19-01(ESB-massed)_ROI_16      LTM        207 POST  0.00000000\n",
       "48 2023-07-24_16-19-01(ESB-massed)_ROI_17      LTM        208 POST -0.05555556\n",
       "49 2023-07-24_16-19-01(ESB-massed)_ROI_19      LTM        209 POST  0.14300000\n",
       "50 2023-07-24_16-19-01(ESB-massed)_ROI_20      LTM        210 POST  0.10000000\n",
       "51 2023-09-14_15-13-25_AOJ_6XMASSED_LTM_ROI_18 LTM        268 POST  0.00000000\n",
       "52 2023-09-14_15-13-25_AOJ_6XMASSED_LTM_ROI_20 LTM        269 POST -0.16666667\n",
       "   Training_session Genotype interval ZT4   ⋯ ZT26_interactions\n",
       "1  6X_Massed        Iso31    NONE     0.0   ⋯ NA               \n",
       "2  6X_Massed        Iso31    NONE     0.0   ⋯ NA               \n",
       "3  6X_Massed        Iso31    NONE     0.0   ⋯ NA               \n",
       "4  6X_Massed        Iso31    NONE     0.0   ⋯ NA               \n",
       "5  6X_Massed        Iso31    NONE     0.0   ⋯ NA               \n",
       "6  6X_Massed        Iso31    NONE     0.0   ⋯ NA               \n",
       "7  6X_Massed        Iso31    NONE     0.0   ⋯ NA               \n",
       "8  6X_Massed        Iso31    NONE     0.0   ⋯ NA               \n",
       "9  6X_Massed        Iso31    NONE     0.0   ⋯ NA               \n",
       "10 6X_Massed        Iso31    NONE     0.0   ⋯ NA               \n",
       "11 6X_Massed        Iso31    NONE     0.0   ⋯ NA               \n",
       "12 6X_Massed        Iso31    NONE     0.0   ⋯ NA               \n",
       "13 6X_Massed        Iso31    NONE     0.0   ⋯ NA               \n",
       "14 6X_Massed        Iso31    NONE     0.0   ⋯ NA               \n",
       "15 6X_Massed        Iso31    NONE     0.0   ⋯ NA               \n",
       "16 6X_Massed        Iso31    NONE     0.0   ⋯ NA               \n",
       "17 6X_Massed        Iso31    NONE     0.0   ⋯ NA               \n",
       "18 6X_Massed        Iso31    NONE     0.0   ⋯ NA               \n",
       "19 6X_Massed        Iso31    NONE     0.0   ⋯ NA               \n",
       "20 6X_Massed        Iso31    NONE     0.0   ⋯ NA               \n",
       "21 6X_Massed        Iso31    NONE     0.616 ⋯ NA               \n",
       "22 6X_Massed        Iso31    NONE     0.0   ⋯ NA               \n",
       "23 6X_Massed        Iso31    NONE     0.0   ⋯ NA               \n",
       "24 6X_Massed        Iso31    NONE     0.0   ⋯ NA               \n",
       "25 6X_Massed        Iso31    NONE     0.206 ⋯ NA               \n",
       "26 6X_Massed        Iso31    NONE     0.0   ⋯ NA               \n",
       "27 6X_Massed        Iso31    NONE     0.0   ⋯ NA               \n",
       "28 6X_Massed        Iso31    NONE     0.0   ⋯ NA               \n",
       "29 6X_Massed        Iso31    NONE     0.0   ⋯ NA               \n",
       "30 6X_Massed        Iso31    NONE     0.0   ⋯ NA               \n",
       "31 6X_Massed        Iso31    NONE     0.0   ⋯ NA               \n",
       "32 6X_Massed        Iso31    NONE     0.0   ⋯ NA               \n",
       "33 6X_Massed        Iso31    NONE     0.0   ⋯ NA               \n",
       "34 6X_Massed        Iso31    NONE     0.0   ⋯ NA               \n",
       "35 6X_Massed        Iso31    NONE     0.0   ⋯ NA               \n",
       "36 6X_Massed        Iso31    NONE     0.0   ⋯ NA               \n",
       "37 6X_Massed        Iso31    NONE     0.0   ⋯ NA               \n",
       "38 6X_Massed        Iso31    NONE     0.0   ⋯ NA               \n",
       "39 6X_Massed        Iso31    NONE     0.0   ⋯ NA               \n",
       "40 6X_Massed        Iso31    NONE     0.0   ⋯ NA               \n",
       "41 6X_Massed        Iso31    NONE     0.0   ⋯ NA               \n",
       "42 6X_Massed        Iso31    NONE     0.0   ⋯ NA               \n",
       "43 6X_Massed        Iso31    NONE     0.0   ⋯ NA               \n",
       "44 6X_Massed        Iso31    NONE     0.0   ⋯ NA               \n",
       "45 6X_Massed        Iso31    NONE     0.0   ⋯ NA               \n",
       "46 6X_Massed        Iso31    NONE     0.0   ⋯ NA               \n",
       "47 6X_Massed        Iso31    NONE     0.616 ⋯ NA               \n",
       "48 6X_Massed        Iso31    NONE     0.0   ⋯ NA               \n",
       "49 6X_Massed        Iso31    NONE     0.0   ⋯ NA               \n",
       "50 6X_Massed        Iso31    NONE     0.0   ⋯ NA               \n",
       "51 6X_Massed        Iso31    NONE     0.206 ⋯ NA               \n",
       "52 6X_Massed        Iso31    NONE     0.0   ⋯ NA               \n",
       "   ZT26.5_interactions ZT27_interactions ZT27.5_interactions ZT28_interactions\n",
       "1  NA                  NA                NA                  NA               \n",
       "2  NA                  NA                NA                  NA               \n",
       "3  NA                  NA                NA                  NA               \n",
       "4  NA                  NA                NA                  NA               \n",
       "5  NA                  NA                NA                  NA               \n",
       "6  NA                  NA                NA                  NA               \n",
       "7  NA                  NA                NA                  NA               \n",
       "8  NA                  NA                NA                  NA               \n",
       "9  NA                  NA                NA                  NA               \n",
       "10 NA                  NA                NA                  NA               \n",
       "11 NA                  NA                NA                  NA               \n",
       "12 NA                  NA                NA                  NA               \n",
       "13 NA                  NA                NA                  NA               \n",
       "14 NA                  NA                NA                  NA               \n",
       "15 NA                  NA                NA                  NA               \n",
       "16 NA                  NA                NA                  NA               \n",
       "17 NA                  NA                NA                  NA               \n",
       "18 NA                  NA                NA                  NA               \n",
       "19 NA                  NA                NA                  NA               \n",
       "20 NA                  NA                NA                  NA               \n",
       "21 NA                  NA                NA                  NA               \n",
       "22 NA                  NA                NA                  NA               \n",
       "23 NA                  NA                NA                  NA               \n",
       "24 NA                  NA                NA                  NA               \n",
       "25 NA                  NA                NA                  NA               \n",
       "26 NA                  NA                NA                  NA               \n",
       "27 NA                  NA                NA                  NA               \n",
       "28 NA                  NA                NA                  NA               \n",
       "29 NA                  NA                NA                  NA               \n",
       "30 NA                  NA                NA                  NA               \n",
       "31 NA                  NA                NA                  NA               \n",
       "32 NA                  NA                NA                  NA               \n",
       "33 NA                  NA                NA                  NA               \n",
       "34 NA                  NA                NA                  NA               \n",
       "35 NA                  NA                NA                  NA               \n",
       "36 NA                  NA                NA                  NA               \n",
       "37 NA                  NA                NA                  NA               \n",
       "38 NA                  NA                NA                  NA               \n",
       "39 NA                  NA                NA                  NA               \n",
       "40 NA                  NA                NA                  NA               \n",
       "41 NA                  NA                NA                  NA               \n",
       "42 NA                  NA                NA                  NA               \n",
       "43 NA                  NA                NA                  NA               \n",
       "44 NA                  NA                NA                  NA               \n",
       "45 NA                  NA                NA                  NA               \n",
       "46 NA                  NA                NA                  NA               \n",
       "47 NA                  NA                NA                  NA               \n",
       "48 NA                  NA                NA                  NA               \n",
       "49 NA                  NA                NA                  NA               \n",
       "50 NA                  NA                NA                  NA               \n",
       "51 NA                  NA                NA                  NA               \n",
       "52 NA                  NA                NA                  NA               \n",
       "   ZT28.5_interactions ZT29_interactions ZT29.5_interactions ZT30_interactions\n",
       "1  NA                  NA                NA                  NA               \n",
       "2  NA                  NA                NA                  NA               \n",
       "3  NA                  NA                NA                  NA               \n",
       "4  NA                  NA                NA                  NA               \n",
       "5  NA                  NA                NA                  NA               \n",
       "6  NA                  NA                NA                  NA               \n",
       "7  NA                  NA                NA                  NA               \n",
       "8  NA                  NA                NA                  NA               \n",
       "9  NA                  NA                NA                  NA               \n",
       "10 NA                  NA                NA                  NA               \n",
       "11 NA                  NA                NA                  NA               \n",
       "12 NA                  NA                NA                  NA               \n",
       "13 NA                  NA                NA                  NA               \n",
       "14 NA                  NA                NA                  NA               \n",
       "15 NA                  NA                NA                  NA               \n",
       "16 NA                  NA                NA                  NA               \n",
       "17 NA                  NA                NA                  NA               \n",
       "18 NA                  NA                NA                  NA               \n",
       "19 NA                  NA                NA                  NA               \n",
       "20 NA                  NA                NA                  NA               \n",
       "21 NA                  NA                NA                  NA               \n",
       "22 NA                  NA                NA                  NA               \n",
       "23 NA                  NA                NA                  NA               \n",
       "24 NA                  NA                NA                  NA               \n",
       "25 NA                  NA                NA                  NA               \n",
       "26 NA                  NA                NA                  NA               \n",
       "27 NA                  NA                NA                  NA               \n",
       "28 NA                  NA                NA                  NA               \n",
       "29 NA                  NA                NA                  NA               \n",
       "30 NA                  NA                NA                  NA               \n",
       "31 NA                  NA                NA                  NA               \n",
       "32 NA                  NA                NA                  NA               \n",
       "33 NA                  NA                NA                  NA               \n",
       "34 NA                  NA                NA                  NA               \n",
       "35 NA                  NA                NA                  NA               \n",
       "36 NA                  NA                NA                  NA               \n",
       "37 NA                  NA                NA                  NA               \n",
       "38 NA                  NA                NA                  NA               \n",
       "39 NA                  NA                NA                  NA               \n",
       "40 NA                  NA                NA                  NA               \n",
       "41 NA                  NA                NA                  NA               \n",
       "42 NA                  NA                NA                  NA               \n",
       "43 NA                  NA                NA                  NA               \n",
       "44 NA                  NA                NA                  NA               \n",
       "45 NA                  NA                NA                  NA               \n",
       "46 NA                  NA                NA                  NA               \n",
       "47 NA                  NA                NA                  NA               \n",
       "48 NA                  NA                NA                  NA               \n",
       "49 NA                  NA                NA                  NA               \n",
       "50 NA                  NA                NA                  NA               \n",
       "51 NA                  NA                NA                  NA               \n",
       "52 NA                  NA                NA                  NA               \n",
       "   User\n",
       "1  ESB \n",
       "2  ESB \n",
       "3  ESB \n",
       "4  ESB \n",
       "5  ESB \n",
       "6  ESB \n",
       "7  ESB \n",
       "8  ESB \n",
       "9  ESB \n",
       "10 ESB \n",
       "11 ESB \n",
       "12 ESB \n",
       "13 ESB \n",
       "14 ESB \n",
       "15 ESB \n",
       "16 ESB \n",
       "17 ESB \n",
       "18 ESB \n",
       "19 ESB \n",
       "20 ESB \n",
       "21 ESB \n",
       "22 ESB \n",
       "23 ESB \n",
       "24 ESB \n",
       "25 AOJ \n",
       "26 AOJ \n",
       "27 ESB \n",
       "28 ESB \n",
       "29 ESB \n",
       "30 ESB \n",
       "31 ESB \n",
       "32 ESB \n",
       "33 ESB \n",
       "34 ESB \n",
       "35 ESB \n",
       "36 ESB \n",
       "37 ESB \n",
       "38 ESB \n",
       "39 ESB \n",
       "40 ESB \n",
       "41 ESB \n",
       "42 ESB \n",
       "43 ESB \n",
       "44 ESB \n",
       "45 ESB \n",
       "46 ESB \n",
       "47 ESB \n",
       "48 ESB \n",
       "49 ESB \n",
       "50 ESB \n",
       "51 AOJ \n",
       "52 AOJ "
      ]
     },
     "metadata": {},
     "output_type": "display_data"
    }
   ],
   "source": [
    "all_data[Training_session==\"6X_Massed\",]"
   ]
  },
  {
   "cell_type": "code",
   "execution_count": 513,
   "id": "5bdc83ee-5bda-4043-b832-dd62b60567c6",
   "metadata": {},
   "outputs": [],
   "source": [
    "all_data<-all_data[!is.na(PI),]"
   ]
  },
  {
   "cell_type": "code",
   "execution_count": 514,
   "id": "db4693a8-5ed8-4701-86eb-12fb2ac15637",
   "metadata": {
    "tags": []
   },
   "outputs": [
    {
     "data": {
      "text/plain": [
       "\n",
       "       1X 6X_Massed 6X_Spaced      NONE \n",
       "      638        52       554        62 "
      ]
     },
     "metadata": {},
     "output_type": "display_data"
    }
   ],
   "source": [
    "table(all_data$Training_session)"
   ]
  },
  {
   "cell_type": "code",
   "execution_count": 515,
   "id": "f5c24e56-4490-4a1b-bb18-6d06ace6eff3",
   "metadata": {},
   "outputs": [],
   "source": [
    "counts <- all_data[, .N, by=fly_name_reference]"
   ]
  },
  {
   "cell_type": "code",
   "execution_count": 516,
   "id": "abd2ffe1-67fb-4012-a95a-8ded3346e6b9",
   "metadata": {},
   "outputs": [],
   "source": [
    "# all_data[fly_name_reference %in% counts[N!=2, fly_name_reference],]\n",
    "         "
   ]
  },
  {
   "cell_type": "code",
   "execution_count": 517,
   "id": "63848bdb-17f9-4eb2-a602-6574118c6b21",
   "metadata": {},
   "outputs": [],
   "source": [
    "all_data <- all_data[fly_name_reference %in% setdiff(fly_name_reference, counts[N!=2, fly_name_reference]),]"
   ]
  },
  {
   "cell_type": "code",
   "execution_count": 518,
   "id": "a1cba6d2-d2b1-423d-af38-39b68382f486",
   "metadata": {},
   "outputs": [
    {
     "data": {
      "text/plain": [
       "N\n",
       "  2 \n",
       "629 "
      ]
     },
     "metadata": {},
     "output_type": "display_data"
    }
   ],
   "source": [
    "counts <- all_data[, .N, by=fly_name_reference]\n",
    "counts[, table(N)]"
   ]
  },
  {
   "cell_type": "code",
   "execution_count": 519,
   "id": "a1fd0664-5e1d-4844-a667-da542451ffec",
   "metadata": {},
   "outputs": [
    {
     "data": {
      "text/plain": [
       "\n",
       "       1X 6X_Massed 6X_Spaced      NONE \n",
       "      608        52       536        62 "
      ]
     },
     "metadata": {},
     "output_type": "display_data"
    }
   ],
   "source": [
    "table(all_data$Training_session)"
   ]
  },
  {
   "cell_type": "code",
   "execution_count": 520,
   "id": "8b2f4bd3-d251-47d7-bd41-832c465c89f2",
   "metadata": {},
   "outputs": [],
   "source": [
    "data.table::fwrite(x = all_data, file = \"tidy_data.csv\")"
   ]
  },
  {
   "cell_type": "code",
   "execution_count": 521,
   "id": "09031ca0-679e-4a14-80c3-affa0083b69e",
   "metadata": {},
   "outputs": [
    {
     "data": {
      "text/plain": [
       "experiment\n",
       "                         20min STM                            1hr STM \n",
       "                                22                                  0 \n",
       "                           2hr STM                            3hr STM \n",
       "                                 0                                  0 \n",
       "                               LTM                            LTM CHX \n",
       "                                34                                  0 \n",
       "LTM GTACR Blue 4.5 SleepStimulator   LTM GTACR Blue 4 SleepStimulator \n",
       "                                 0                                  0 \n",
       "LTM GTACR Blue 3.5 SleepStimulator                 20min STM unpaired \n",
       "                                 0                                  0 "
      ]
     },
     "metadata": {},
     "output_type": "display_data"
    }
   ],
   "source": [
    "all_data[Genotype==\"orb2\", table(experiment)]"
   ]
  },
  {
   "cell_type": "code",
   "execution_count": 222,
   "id": "05fd871a-1be4-4ce7-b3d7-018311c14542",
   "metadata": {},
   "outputs": [
    {
     "data": {
      "text/plain": [
       "\n",
       "                        Iso31 MB010B.(II)SPARC-Chrimson ISO \n",
       "                          200                           328 \n",
       "     MB010B.(II)SPARC-GFP ISO                          orb2 \n",
       "                           66                            56 "
      ]
     },
     "metadata": {},
     "output_type": "display_data"
    }
   ],
   "source": [
    "table(all_data$Genotype)"
   ]
  },
  {
   "cell_type": "code",
   "execution_count": 223,
   "id": "7c76e272-da08-47e7-803b-c7b9f946262b",
   "metadata": {},
   "outputs": [
    {
     "name": "stderr",
     "output_type": "stream",
     "text": [
      "Warning message in cbind(parts$left, chars$ellip_h, parts$right, deparse.level = 0L):\n",
      "“number of rows of result is not a multiple of vector length (arg 2)”\n",
      "Warning message in cbind(parts$left, chars$ellip_h, parts$right, deparse.level = 0L):\n",
      "“number of rows of result is not a multiple of vector length (arg 2)”\n",
      "Warning message in cbind(parts$left, chars$ellip_h, parts$right, deparse.level = 0L):\n",
      "“number of rows of result is not a multiple of vector length (arg 2)”\n",
      "Warning message in cbind(parts$left, chars$ellip_h, parts$right, deparse.level = 0L):\n",
      "“number of rows of result is not a multiple of vector length (arg 2)”\n"
     ]
    },
    {
     "data": {
      "text/html": [
       "<table class=\"dataframe\">\n",
       "<caption>A data.table: 0 × 116</caption>\n",
       "<thead>\n",
       "\t<tr><th scope=col>Fly_group_experiment_treatment</th><th scope=col>fly_name_reference</th><th scope=col>experiment</th><th scope=col>id</th><th scope=col>test</th><th scope=col>PI</th><th scope=col>Training_session</th><th scope=col>Genotype</th><th scope=col>interval</th><th scope=col>ZT4</th><th scope=col>⋯</th><th scope=col>ZT26_interactions</th><th scope=col>ZT26.5_interactions</th><th scope=col>ZT27_interactions</th><th scope=col>ZT27.5_interactions</th><th scope=col>ZT28_interactions</th><th scope=col>ZT28.5_interactions</th><th scope=col>ZT29_interactions</th><th scope=col>ZT29.5_interactions</th><th scope=col>ZT30_interactions</th><th scope=col>User</th></tr>\n",
       "\t<tr><th scope=col>&lt;chr&gt;</th><th scope=col>&lt;chr&gt;</th><th scope=col>&lt;fct&gt;</th><th scope=col>&lt;int&gt;</th><th scope=col>&lt;fct&gt;</th><th scope=col>&lt;dbl&gt;</th><th scope=col>&lt;chr&gt;</th><th scope=col>&lt;chr&gt;</th><th scope=col>&lt;fct&gt;</th><th scope=col>&lt;chr&gt;</th><th scope=col>⋯</th><th scope=col>&lt;dbl&gt;</th><th scope=col>&lt;dbl&gt;</th><th scope=col>&lt;dbl&gt;</th><th scope=col>&lt;dbl&gt;</th><th scope=col>&lt;dbl&gt;</th><th scope=col>&lt;dbl&gt;</th><th scope=col>&lt;dbl&gt;</th><th scope=col>&lt;dbl&gt;</th><th scope=col>&lt;dbl&gt;</th><th scope=col>&lt;chr&gt;</th></tr>\n",
       "</thead>\n",
       "<tbody>\n",
       "</tbody>\n",
       "</table>\n"
      ],
      "text/latex": [
       "A data.table: 0 × 116\n",
       "\\begin{tabular}{lllllllllllllllllllll}\n",
       " Fly\\_group\\_experiment\\_treatment & fly\\_name\\_reference & experiment & id & test & PI & Training\\_session & Genotype & interval & ZT4 & ⋯ & ZT26\\_interactions & ZT26.5\\_interactions & ZT27\\_interactions & ZT27.5\\_interactions & ZT28\\_interactions & ZT28.5\\_interactions & ZT29\\_interactions & ZT29.5\\_interactions & ZT30\\_interactions & User\\\\\n",
       " <chr> & <chr> & <fct> & <int> & <fct> & <dbl> & <chr> & <chr> & <fct> & <chr> & ⋯ & <dbl> & <dbl> & <dbl> & <dbl> & <dbl> & <dbl> & <dbl> & <dbl> & <dbl> & <chr>\\\\\n",
       "\\hline\n",
       "\\end{tabular}\n"
      ],
      "text/markdown": [
       "\n",
       "A data.table: 0 × 116\n",
       "\n",
       "| Fly_group_experiment_treatment &lt;chr&gt; | fly_name_reference &lt;chr&gt; | experiment &lt;fct&gt; | id &lt;int&gt; | test &lt;fct&gt; | PI &lt;dbl&gt; | Training_session &lt;chr&gt; | Genotype &lt;chr&gt; | interval &lt;fct&gt; | ZT4 &lt;chr&gt; | ⋯ ⋯ | ZT26_interactions &lt;dbl&gt; | ZT26.5_interactions &lt;dbl&gt; | ZT27_interactions &lt;dbl&gt; | ZT27.5_interactions &lt;dbl&gt; | ZT28_interactions &lt;dbl&gt; | ZT28.5_interactions &lt;dbl&gt; | ZT29_interactions &lt;dbl&gt; | ZT29.5_interactions &lt;dbl&gt; | ZT30_interactions &lt;dbl&gt; | User &lt;chr&gt; |\n",
       "|---|---|---|---|---|---|---|---|---|---|---|---|---|---|---|---|---|---|---|---|---|\n",
       "\n"
      ],
      "text/plain": [
       "     Fly_group_experiment_treatment fly_name_reference experiment id test PI\n",
       "     Training_session Genotype interval ZT4 ⋯ ZT26_interactions\n",
       "     ZT26.5_interactions ZT27_interactions ZT27.5_interactions\n",
       "     ZT28_interactions ZT28.5_interactions ZT29_interactions\n",
       "     ZT29.5_interactions ZT30_interactions User"
      ]
     },
     "metadata": {},
     "output_type": "display_data"
    }
   ],
   "source": [
    "all_data[is.na(PI),]"
   ]
  },
  {
   "cell_type": "code",
   "execution_count": 522,
   "id": "3e2b590e-8cc8-45a4-ba4e-431bed867352",
   "metadata": {},
   "outputs": [
    {
     "data": {
      "text/plain": [
       "\n",
       "                         20min STM                            1hr STM \n",
       "                               306                                 60 \n",
       "                           2hr STM                            3hr STM \n",
       "                                24                                110 \n",
       "                               LTM                            LTM CHX \n",
       "                               430                                126 \n",
       "LTM GTACR Blue 4.5 SleepStimulator   LTM GTACR Blue 4 SleepStimulator \n",
       "                                36                                 34 \n",
       "LTM GTACR Blue 3.5 SleepStimulator                 20min STM unpaired \n",
       "                                24                                108 "
      ]
     },
     "metadata": {},
     "output_type": "display_data"
    }
   ],
   "source": [
    "table(all_data$experiment)"
   ]
  },
  {
   "cell_type": "code",
   "execution_count": null,
   "id": "9058bdeb-55e6-4c09-b09e-1e3499daa5cc",
   "metadata": {},
   "outputs": [],
   "source": []
  }
 ],
 "metadata": {
  "kernelspec": {
   "display_name": "R42",
   "language": "R",
   "name": "r42"
  },
  "language_info": {
   "codemirror_mode": "r",
   "file_extension": ".r",
   "mimetype": "text/x-r-source",
   "name": "R",
   "pygments_lexer": "r",
   "version": "4.2.3"
  }
 },
 "nbformat": 4,
 "nbformat_minor": 5
}
