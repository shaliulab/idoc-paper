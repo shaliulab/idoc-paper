{
 "cells": [
  {
   "cell_type": "code",
   "execution_count": 183,
   "id": "0f8fcedf-0683-4157-8e36-9c9ee2b46746",
   "metadata": {},
   "outputs": [],
   "source": [
    "library(readxl)\n",
    "library(data.table)\n",
    "library(ggplot2)\n",
    "library(ggprism)\n",
    "library(ggforce)\n",
    "library(ggetho)\n",
    "library(ggsignif)\n",
    "source(\"R/plot.R\")\n",
    "source(\"R/Cbind.R\")\n",
    "theme_set(theme_prism(base_size=20))\n",
    "options(repr.plot.width=15, repr.plot.height=15)"
   ]
  },
  {
   "cell_type": "code",
   "execution_count": 144,
   "id": "cb86a69f-544e-45aa-9e66-3f2f61ce46e6",
   "metadata": {
    "tags": []
   },
   "outputs": [],
   "source": [
    "experiments <- c(\"24hr LTM\")\n",
    "trainings <- c(\"6X_Massed\", \"6X_Spaced\")\n",
    "genotypes <- c(\"Iso31\", \"MB010B.(II)SPARC-Chrimson ISO\")\n",
    "intervals <- c(\"NONE\")\n",
    "data <- data.table::fread(file = \"tidy_data_wide.csv\")"
   ]
  },
  {
   "cell_type": "code",
   "execution_count": 145,
   "id": "2fc2f094-7b60-49d1-b1fc-48ac218e7d8e",
   "metadata": {},
   "outputs": [],
   "source": [
    "data$Training <- factor(data$Training, levels=trainings)"
   ]
  },
  {
   "cell_type": "code",
   "execution_count": 146,
   "id": "0bfaecfe-e0cf-4789-bb73-327a3c1e2c59",
   "metadata": {},
   "outputs": [],
   "source": [
    "panel4_data <- data[Training %in% trainings & Genotype %in% genotypes & interval %in% intervals  & experiment %in% experiments & region_id != \"NONE\",]"
   ]
  },
  {
   "cell_type": "code",
   "execution_count": 147,
   "id": "5719c3f1-092a-48b2-bf88-a35f745c9f87",
   "metadata": {},
   "outputs": [
    {
     "data": {
      "text/html": [
       "20"
      ],
      "text/latex": [
       "20"
      ],
      "text/markdown": [
       "20"
      ],
      "text/plain": [
       "[1] 20"
      ]
     },
     "metadata": {},
     "output_type": "display_data"
    }
   ],
   "source": [
    "nrow(panel4_data[Training == \"6X_Massed\" & region_id!=\"NONE\" ,.(Files, idoc_folder, ROI, User, Genotype, experiment, PRE, POST, SD_status, interval)])"
   ]
  },
  {
   "cell_type": "code",
   "execution_count": 148,
   "id": "e47dc636-0042-422b-a057-9c1435c3bc03",
   "metadata": {},
   "outputs": [],
   "source": [
    "A <- panel4_data[Training == \"6X_Massed\" & region_id!=\"NONE\",.(Files, idoc_folder, ROI, User, Genotype, experiment, PRE, POST, SD_status, interval)]\n",
    "B <- panel4_data[Training == \"6X_Spaced\" & region_id!=\"NONE\",.(Files, idoc_folder, ROI, User, Genotype, experiment, PRE, POST, SD_status, interval)]\n",
    "Ad <- A[, (delta = POST-PRE)]\n",
    "Bd <- B[, (delta = POST-PRE)]\n",
    "X<-Cbind(Ad, Bd)\n",
    "colnames(X) <- trainings"
   ]
  },
  {
   "cell_type": "code",
   "execution_count": 149,
   "id": "374e9b23-966b-49e6-8742-f38450a5dbfd",
   "metadata": {},
   "outputs": [],
   "source": [
    "data.table::fwrite(x = A, file=\"prism/Fig4/Figure_4A_6X_Massed.csv\")\n",
    "data.table::fwrite(x = B, file=\"prism/Fig4/Figure_4A_6X_Spaced.csv\")\n",
    "data.table::fwrite(x = X, file=\"prism/Fig4/Figure_4_boxplot.csv\")"
   ]
  },
  {
   "cell_type": "code",
   "execution_count": 150,
   "id": "08bc6821-9f27-42c1-a76c-064ec1c12e79",
   "metadata": {},
   "outputs": [],
   "source": [
    "panel4_data_long <- melt(panel4_data, measure.vars = c(\"PRE\", \"POST\"), value.name = \"PI\", variable.name = \"test\")"
   ]
  },
  {
   "cell_type": "code",
   "execution_count": 151,
   "id": "f728e109-8f08-40d3-abcc-86143bf4930e",
   "metadata": {},
   "outputs": [
    {
     "data": {
      "text/plain": [
       "\n",
       "6X_Massed 6X_Spaced \n",
       "       40        40 "
      ]
     },
     "metadata": {},
     "output_type": "display_data"
    }
   ],
   "source": [
    "table(panel4_data_long$Training)"
   ]
  },
  {
   "cell_type": "code",
   "execution_count": 152,
   "id": "c5064544-2e2d-4ab4-bb71-c96c9369f5da",
   "metadata": {},
   "outputs": [
    {
     "name": "stdout",
     "output_type": "stream",
     "text": [
      "[1] -1.20  1.25\n"
     ]
    },
    {
     "name": "stderr",
     "output_type": "stream",
     "text": [
      "Warning message in geom_signif(data = annotation_df, aes(annotations = stars), xmin = 1, :\n",
      "“\u001b[1m\u001b[22mIgnoring unknown aesthetics: \u001b[32mannotations\u001b[39m”\n",
      "Warning message in plot_theme(plot):\n",
      "“\u001b[1m\u001b[22mThe `legend.text.align` theme element is not defined in the element hierarchy.”\n",
      "Warning message in plot_theme(plot):\n",
      "“\u001b[1m\u001b[22mThe `legend.title.align` theme element is not defined in the element hierarchy.”\n"
     ]
    },
    {
     "data": {
      "text/html": [
       "<strong>png:</strong> 2"
      ],
      "text/latex": [
       "\\textbf{png:} 2"
      ],
      "text/markdown": [
       "**png:** 2"
      ],
      "text/plain": [
       "png \n",
       "  2 "
      ]
     },
     "metadata": {},
     "output_type": "display_data"
    },
    {
     "name": "stderr",
     "output_type": "stream",
     "text": [
      "Warning message in plot_theme(plot):\n",
      "“\u001b[1m\u001b[22mThe `legend.text.align` theme element is not defined in the element hierarchy.”\n",
      "Warning message in plot_theme(plot):\n",
      "“\u001b[1m\u001b[22mThe `legend.title.align` theme element is not defined in the element hierarchy.”\n"
     ]
    },
    {
     "data": {
      "text/plain": [
       "$gg\n",
       "\n",
       "$n_facets\n",
       "[1] 2\n",
       "\n",
       "$direction\n",
       "[1] \"horizontal\"\n"
      ]
     },
     "metadata": {},
     "output_type": "display_data"
    },
    {
     "data": {
      "image/png": "[encoded data removed]",
      "text/plain": [
       "plot without title"
      ]
     },
     "metadata": {
      "image/png": {
       "height": 375,
       "width": 300
      }
     },
     "output_type": "display_data"
    }
   ],
   "source": [
    "size_unit=2.5\n",
    "ratio=2.5\n",
    "\n",
    "panel4A <- learning_plot(\n",
    "    data=panel4_data_long, \"Training\",\n",
    "    textsize=8,\n",
    "    hjust_text = 0.2,\n",
    "    y_annotation=1.1,\n",
    "    y_limits=c(-1.2, 1.25),\n",
    "    colors=colors_panel4[1:length(trainings)])\n",
    "options(repr.plot.width=size_unit*panel4A$n_facets, repr.plot.height=size_unit*ratio)\n",
    "\n",
    "save_learning_plot(plot=panel4A, filename = \"figures/panel4A.svg\", size_unit = size_unit, ratio = ratio)\n",
    "panel4A"
   ]
  },
  {
   "cell_type": "code",
   "execution_count": 153,
   "id": "71887d4e-f791-41dd-95a1-4af0d295ed20",
   "metadata": {},
   "outputs": [],
   "source": [
    "summ_statistics <- panel4_data_long[test==\"POST\", .(PI=mean(PI), stderror=sd(PI)/sqrt(.N)), by=experiment]"
   ]
  },
  {
   "cell_type": "code",
   "execution_count": null,
   "id": "145f255b-3ee1-4c75-a806-773e8df59d01",
   "metadata": {},
   "outputs": [],
   "source": []
  },
  {
   "cell_type": "code",
   "execution_count": 154,
   "id": "9e160b6c-45eb-4d75-bfbf-a6616acc2199",
   "metadata": {},
   "outputs": [],
   "source": [
    "# panel4_data[, .(Files, ROI)]"
   ]
  },
  {
   "cell_type": "code",
   "execution_count": 155,
   "id": "bafdd3cf-c61e-4208-b803-ec085499fddf",
   "metadata": {},
   "outputs": [],
   "source": [
    "dt_bin <- readRDS(\"dt_bin.RDS\")\n",
    "metadata <- dt_bin[,meta=TRUE]"
   ]
  },
  {
   "cell_type": "code",
   "execution_count": 156,
   "id": "522f3772-37b4-4786-b70a-bfd37e4a06fc",
   "metadata": {},
   "outputs": [],
   "source": [
    "metadata_no_training <- metadata[ROI==\"NONE\",]\n",
    "metadata <- metadata[ROI!=\"NONE\",]\n",
    "metadata$ROI <- as.integer(metadata$ROI)"
   ]
  },
  {
   "cell_type": "code",
   "execution_count": 157,
   "id": "328d3cc4-23df-4b30-802e-47e786bc2cc9",
   "metadata": {},
   "outputs": [],
   "source": [
    "source(\"prism_compat.R\")"
   ]
  },
  {
   "cell_type": "code",
   "execution_count": 158,
   "id": "0b7002bd-71e7-4b1e-8929-ec5addec11c8",
   "metadata": {},
   "outputs": [],
   "source": [
    "# dt_bin[, meta=T]\n",
    "metadata <- merge(\n",
    "    panel4_data[, .(Files, ROI)],\n",
    "    metadata,\n",
    "    by=c(\"Files\", \"ROI\"), all.x=TRUE, all.y=FALSE\n",
    ")\n",
    "metadata$ROI <- as.character(metadata$ROI)\n"
   ]
  },
  {
   "cell_type": "code",
   "execution_count": 159,
   "id": "e7482f55-a31b-4c8e-9883-59e241b2b8c7",
   "metadata": {},
   "outputs": [],
   "source": [
    "metadata <- rbind(metadata, metadata_no_training)"
   ]
  },
  {
   "cell_type": "code",
   "execution_count": 160,
   "id": "8c9a7548-3043-42cf-a2e6-fb63e8fc1d0c",
   "metadata": {},
   "outputs": [],
   "source": [
    "dt_bin<-dt_bin[id %in% metadata$id,]"
   ]
  },
  {
   "cell_type": "code",
   "execution_count": 161,
   "id": "d5c914c0-9a23-485d-9ec8-13775726e793",
   "metadata": {},
   "outputs": [
    {
     "name": "stdout",
     "output_type": "stream",
     "text": [
      "       group__ n_flies max diff\n",
      "1: No_training      31  31    0\n",
      "2:   6X_Massed      20  31   11\n",
      "3:   6X_Spaced      20  31   11\n",
      "[1] \"No_training\" \"6X_Massed\"   \"6X_Spaced\"  \n",
      "[1] 55 31\n",
      "[1] 55 31\n",
      "[1] 55 31\n",
      "[1] 55 93\n"
     ]
    }
   ],
   "source": [
    "id<-\"id\"\n",
    "group <- \"Training\"\n",
    "\n",
    "dt_bin_full <- behavr::rejoin(dt_bin)\n",
    "dt_bin_full_wide <- add_ghost_data(dt_bin_full, id=id, x=\"t\", columns=c(\"asleep\"), group=group, to_wide=TRUE)\n",
    "\n",
    "    \n",
    "dt_bin_full_wide$zt <- dt_bin_full_wide$t/3600\n",
    "out <- dt_bin_full_wide[ , setdiff(colnames(dt_bin_full_wide), c(\"zt\", \"t\")), with=FALSE]\n",
    "print(dim(out))\n",
    "\n",
    "\n",
    "A <- dt_bin_full[Training == \"6X_Spaced\", .(Files, ROI, User, Genotype, Training, experiment, t, asleep, id, region_id, machine_name)]\n",
    "B <- dt_bin_full[Training == \"6X_Massed\", .(Files, ROI, User, Genotype, Training, experiment, t, asleep, id, region_id, machine_name)]\n",
    "C <- dt_bin_full[Training == \"No_training\", .(Files, ROI, User, Genotype, Training, experiment, t, asleep, id, region_id, machine_name)]"
   ]
  },
  {
   "cell_type": "code",
   "execution_count": 138,
   "id": "7f79a923-8c1b-4dc9-b877-40eb5a5f678c",
   "metadata": {},
   "outputs": [],
   "source": [
    "data.table::fwrite(x = out, file=\"prism/Fig4/Figure_4B_sleep.csv\")\n",
    "data.table::fwrite(x = A, file=\"prism/Fig4/Figure_4B_6X_Spaced.csv\")\n",
    "data.table::fwrite(x = B, file=\"prism/Fig4/Figure_4B_6X_Massed.csv\")\n",
    "data.table::fwrite(x = C, file=\"prism/Fig4/Figure_4B_No_training.csv\")"
   ]
  },
  {
   "cell_type": "code",
   "execution_count": 163,
   "id": "df15a50d-b37a-4ece-83bc-ae73b0f5ccb1",
   "metadata": {},
   "outputs": [
    {
     "data": {
      "text/html": [
       "<style>\n",
       ".list-inline {list-style: none; margin:0; padding: 0}\n",
       ".list-inline>li {display: inline-block}\n",
       ".list-inline>li:not(:last-child)::after {content: \"\\00b7\"; padding: 0 .5ex}\n",
       "</style>\n",
       "<ol class=list-inline><li>3.5</li><li>4</li><li>4.5</li><li>5</li><li>5.5</li><li>6</li></ol>\n"
      ],
      "text/latex": [
       "\\begin{enumerate*}\n",
       "\\item 3.5\n",
       "\\item 4\n",
       "\\item 4.5\n",
       "\\item 5\n",
       "\\item 5.5\n",
       "\\item 6\n",
       "\\end{enumerate*}\n"
      ],
      "text/markdown": [
       "1. 3.5\n",
       "2. 4\n",
       "3. 4.5\n",
       "4. 5\n",
       "5. 5.5\n",
       "6. 6\n",
       "\n",
       "\n"
      ],
      "text/plain": [
       "[1] 3.5 4.0 4.5 5.0 5.5 6.0"
      ]
     },
     "metadata": {},
     "output_type": "display_data"
    }
   ],
   "source": [
    "head(dt_bin_full_wide$zt)"
   ]
  },
  {
   "cell_type": "code",
   "execution_count": 179,
   "id": "390243ac-4fe1-478b-a148-34baf126458e",
   "metadata": {},
   "outputs": [],
   "source": [
    "sleep_zt05_zt11 <- dt_bin_full[(t >= behavr::hours(5)) & (t < behavr::hours(11)) , .(asleep = sum(asleep)), by=.(id, Training)]"
   ]
  },
  {
   "cell_type": "code",
   "execution_count": 181,
   "id": "ab45559e-1a4e-495d-b440-9dbc90caa629",
   "metadata": {},
   "outputs": [],
   "source": [
    "A <- sleep_zt05_zt11[Training == \"6X_Massed\" , asleep]\n",
    "B <- sleep_zt05_zt11[Training == \"6X_Spaced\" , asleep]\n",
    "C <- sleep_zt05_zt11[Training == \"No_training\" , asleep]\n",
    "X <- Cbind(A, B, C)\n",
    "colnames(X) <- c(\"6X_Massed\", \"6X_Spaced\", \"No training\")"
   ]
  },
  {
   "cell_type": "code",
   "execution_count": 182,
   "id": "faaebb02-dc5e-4e6e-a90f-832ea195f81d",
   "metadata": {},
   "outputs": [],
   "source": [
    "data.table::fwrite(x=X, file = \"prism/Fig4/Figure_4_boxplot_sleep.csv\")"
   ]
  },
  {
   "cell_type": "code",
   "execution_count": null,
   "id": "6fe69f57-6172-4e38-bb1f-0589a1f2bb92",
   "metadata": {},
   "outputs": [],
   "source": []
  }
 ],
 "metadata": {
  "kernelspec": {
   "display_name": "R42",
   "language": "R",
   "name": "r42"
  },
  "language_info": {
   "codemirror_mode": "r",
   "file_extension": ".r",
   "mimetype": "text/x-r-source",
   "name": "R",
   "pygments_lexer": "r",
   "version": "4.2.3"
  }
 },
 "nbformat": 4,
 "nbformat_minor": 5
}
