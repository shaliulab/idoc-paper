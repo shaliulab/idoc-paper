{
 "cells": [
  {
   "cell_type": "code",
   "execution_count": 141,
   "id": "0f8fcedf-0683-4157-8e36-9c9ee2b46746",
   "metadata": {},
   "outputs": [],
   "source": [
    "library(readxl)\n",
    "library(data.table)\n",
    "library(ggplot2)\n",
    "library(ggprism)\n",
    "library(ggforce)\n",
    "library(ggetho)\n",
    "library(ggsignif)\n",
    "source(\"R/plot.R\")\n",
    "source(\"R/Cbind.R\")"
   ]
  },
  {
   "cell_type": "code",
   "execution_count": 142,
   "id": "c635d05b-cae7-4aaa-8801-bdc385fda008",
   "metadata": {},
   "outputs": [
    {
     "name": "stdout",
     "output_type": "stream",
     "text": [
      "\n",
      "                               1hr STM                              20min STM \n",
      "                                    22                                    146 \n",
      "20min STM (2X 3 min ISI, sucrose tube)                     20min STM unpaired \n",
      "                                     5                                     73 \n",
      "                              24hr LTM                           24hr LTM CHX \n",
      "                                   171                                     51 \n",
      "                        24hr LTM GTACR                                3hr STM \n",
      "                                    25                                     51 \n"
     ]
    }
   ],
   "source": [
    "data <- data.table::fread(file = \"tidy_data_wide.csv\")\n",
    "print(table(data$experiment))\n",
    "\n",
    "wts <- c(\"Iso31\", \"MB010B.(II)SPARC-Chrimson ISO\", \"MB010B.(II)SPARC-GFP ISO\")\n",
    "experiments <- c(\"20min STM\", \"20min STM unpaired\")\n",
    "data <- data[experiment %in% experiments,]\n",
    "data$experiment <- factor(data$experiment, levels=experiments)\n",
    "panel1_data <- data[Genotype %in% wts,]"
   ]
  },
  {
   "cell_type": "code",
   "execution_count": 143,
   "id": "a5db30e5-4d7d-43a9-a086-f1d72c72758c",
   "metadata": {},
   "outputs": [],
   "source": [
    "A <- panel1_data[experiment==\"20min STM\" & Genotype %in% wts, .(idoc_folder, ROI, Genotype, experiment, PRE, POST)]\n",
    "B <- panel1_data[experiment==\"20min STM unpaired\" & Genotype %in% wts,.(idoc_folder, ROI, Genotype, experiment, PRE, POST)]\n",
    "Ad <- A[, .(delta = POST-PRE)]\n",
    "Bd <- B[, .(delta = POST-PRE)]"
   ]
  },
  {
   "cell_type": "code",
   "execution_count": 165,
   "id": "496acb11-b2dc-4a6e-a26d-95b202e112fb",
   "metadata": {},
   "outputs": [
    {
     "data": {
      "text/html": [
       "<table class=\"dataframe\">\n",
       "<caption>A data.table: 5 × 3</caption>\n",
       "<thead>\n",
       "\t<tr><th scope=col>User</th><th scope=col>Genotype</th><th scope=col>N</th></tr>\n",
       "\t<tr><th scope=col>&lt;chr&gt;</th><th scope=col>&lt;chr&gt;</th><th scope=col>&lt;int&gt;</th></tr>\n",
       "</thead>\n",
       "<tbody>\n",
       "\t<tr><td>CH </td><td>MB010B.(II)SPARC-Chrimson ISO</td><td>56</td></tr>\n",
       "\t<tr><td>CH </td><td>MB010B.(II)SPARC-GFP ISO     </td><td>31</td></tr>\n",
       "\t<tr><td>ET </td><td>Iso31                        </td><td>22</td></tr>\n",
       "\t<tr><td>ESB</td><td>Iso31                        </td><td>17</td></tr>\n",
       "\t<tr><td>AOJ</td><td>Iso31                        </td><td> 2</td></tr>\n",
       "</tbody>\n",
       "</table>\n"
      ],
      "text/latex": [
       "A data.table: 5 × 3\n",
       "\\begin{tabular}{lll}\n",
       " User & Genotype & N\\\\\n",
       " <chr> & <chr> & <int>\\\\\n",
       "\\hline\n",
       "\t CH  & MB010B.(II)SPARC-Chrimson ISO & 56\\\\\n",
       "\t CH  & MB010B.(II)SPARC-GFP ISO      & 31\\\\\n",
       "\t ET  & Iso31                         & 22\\\\\n",
       "\t ESB & Iso31                         & 17\\\\\n",
       "\t AOJ & Iso31                         &  2\\\\\n",
       "\\end{tabular}\n"
      ],
      "text/markdown": [
       "\n",
       "A data.table: 5 × 3\n",
       "\n",
       "| User &lt;chr&gt; | Genotype &lt;chr&gt; | N &lt;int&gt; |\n",
       "|---|---|---|\n",
       "| CH  | MB010B.(II)SPARC-Chrimson ISO | 56 |\n",
       "| CH  | MB010B.(II)SPARC-GFP ISO      | 31 |\n",
       "| ET  | Iso31                         | 22 |\n",
       "| ESB | Iso31                         | 17 |\n",
       "| AOJ | Iso31                         |  2 |\n",
       "\n"
      ],
      "text/plain": [
       "  User Genotype                      N \n",
       "1 CH   MB010B.(II)SPARC-Chrimson ISO 56\n",
       "2 CH   MB010B.(II)SPARC-GFP ISO      31\n",
       "3 ET   Iso31                         22\n",
       "4 ESB  Iso31                         17\n",
       "5 AOJ  Iso31                          2"
      ]
     },
     "metadata": {},
     "output_type": "display_data"
    }
   ],
   "source": [
    "panel1_data[experiment==\"20min STM\", .N, by=.(User, Genotype)]"
   ]
  },
  {
   "cell_type": "code",
   "execution_count": 144,
   "id": "d48b475b-2887-4a82-ae28-499a89450dd2",
   "metadata": {},
   "outputs": [],
   "source": [
    "data.table::fwrite(x = A, file=\"prism/Fig1/Figure_1_20min STM.csv\", quote=TRUE)\n",
    "data.table::fwrite(x = B, file=\"prism/Fig1/Figure_1_20min STM unpaired.csv\",  quote=TRUE)\n",
    "x<- Cbind(Ad, Bd)\n",
    "colnames(x) <- c(\"20min STM\", \"20min STM unpaired\")\n",
    "data.table::fwrite(x=x, file=\"prism/Fig1/Figure_1_boxplot.csv\",  quote=TRUE)"
   ]
  },
  {
   "cell_type": "code",
   "execution_count": 156,
   "id": "6d35c406-3c78-4258-ac38-2ad3d4c0c8ce",
   "metadata": {},
   "outputs": [],
   "source": [
    "panel1_data_long <- melt(panel1_data[experiment==\"20min STM\",], measure.vars = c(\"PRE\", \"POST\"), value.name = \"PI\", variable.name = \"test\")\n",
    "panel1_data_long$test <- factor(panel1_data_long$test, levels=c(\"PRE\", \"POST\"))"
   ]
  },
  {
   "cell_type": "code",
   "execution_count": 157,
   "id": "80beecb1-0795-4aa6-a8bf-647ec03c4814",
   "metadata": {},
   "outputs": [
    {
     "data": {
      "text/plain": [
       "User\n",
       "AOJ ESB  ET \n",
       "  2  17  22 "
      ]
     },
     "metadata": {},
     "output_type": "display_data"
    }
   ],
   "source": [
    "panel1_data[User!=\"CH\", table(User)]"
   ]
  },
  {
   "cell_type": "code",
   "execution_count": 161,
   "id": "0607e9ef-c7a0-48d6-ae66-b5114eb2924d",
   "metadata": {},
   "outputs": [
    {
     "name": "stdout",
     "output_type": "stream",
     "text": [
      "[1] -1.02  1.00\n",
      "[1] 0.8\n"
     ]
    },
    {
     "name": "stderr",
     "output_type": "stream",
     "text": [
      "Warning message in geom_signif(data = annotation_df, aes(annotations = stars), xmin = 1, :\n",
      "“\u001b[1m\u001b[22mIgnoring unknown aesthetics: \u001b[32mannotations\u001b[39m”\n",
      "Warning message in plot_theme(plot):\n",
      "“\u001b[1m\u001b[22mThe `legend.text.align` theme element is not defined in the element hierarchy.”\n",
      "Warning message in plot_theme(plot):\n",
      "“\u001b[1m\u001b[22mThe `legend.title.align` theme element is not defined in the element hierarchy.”\n"
     ]
    },
    {
     "data": {
      "text/html": [
       "<strong>png:</strong> 2"
      ],
      "text/latex": [
       "\\textbf{png:} 2"
      ],
      "text/markdown": [
       "**png:** 2"
      ],
      "text/plain": [
       "png \n",
       "  2 "
      ]
     },
     "metadata": {},
     "output_type": "display_data"
    },
    {
     "name": "stderr",
     "output_type": "stream",
     "text": [
      "Warning message in plot_theme(plot):\n",
      "“\u001b[1m\u001b[22mThe `legend.text.align` theme element is not defined in the element hierarchy.”\n",
      "Warning message in plot_theme(plot):\n",
      "“\u001b[1m\u001b[22mThe `legend.title.align` theme element is not defined in the element hierarchy.”\n"
     ]
    },
    {
     "data": {
      "text/plain": [
       "$gg\n",
       "\n",
       "$n_facets\n",
       "[1] 1\n",
       "\n",
       "$direction\n",
       "[1] \"horizontal\"\n",
       "\n",
       "$annotation\n",
       "     group__ y_position annotations stars   N test          PI  PI_median\n",
       "1: 20min STM        0.5     < 0.001   *** 128  PRE  0.02517554  0.0365000\n",
       "2: 20min STM        0.5     < 0.001   *** 128 POST -0.23740476 -0.2361111\n",
       "       PI_std   std_error x\n",
       "1: 0.08522364 0.007532776 1\n",
       "2: 0.29832253 0.026368235 2\n"
      ]
     },
     "metadata": {},
     "output_type": "display_data"
    },
    {
     "data": {
      "image/png": "[encoded data removed]",
      "text/plain": [
       "plot without title"
      ]
     },
     "metadata": {
      "image/png": {
       "height": 216,
       "width": 180
      }
     },
     "output_type": "display_data"
    }
   ],
   "source": [
    "size_unit=3\n",
    "ratio=1.2\n",
    "panel1A <- learning_plot(\n",
    "    panel1_data_long,\n",
    "    \"experiment\",\n",
    "    direction=\"horizontal\",\n",
    "    starsize=10, textsize=8,\n",
    "    hjust_text=0,\n",
    "    y_annotation=0.8,\n",
    "    colors=colors_panel1[1:length(unique(panel1_data_long$experiment))],\n",
    "    y_limits=y_limits_panel1\n",
    ")\n",
    "save_learning_plot(plot = panel1A, filename = \"prism/Fig1/panel1A.svg\", size_unit=size_unit, ratio=ratio)\n",
    "options(repr.plot.height=size_unit*ratio, repr.plot.width=size_unit*panel1A$n_facets)\n",
    "\n",
    "panel1A"
   ]
  },
  {
   "cell_type": "code",
   "execution_count": 92,
   "id": "8922b33b-3d6d-41d1-b95b-6aff6cb7a437",
   "metadata": {},
   "outputs": [
    {
     "data": {
      "text/html": [
       "<style>\n",
       ".list-inline {list-style: none; margin:0; padding: 0}\n",
       ".list-inline>li {display: inline-block}\n",
       ".list-inline>li:not(:last-child)::after {content: \"\\00b7\"; padding: 0 .5ex}\n",
       "</style>\n",
       "<ol class=list-inline><li>PRE</li><li>PRE</li><li>PRE</li><li>PRE</li><li>PRE</li><li>PRE</li></ol>\n",
       "\n",
       "<details>\n",
       "\t<summary style=display:list-item;cursor:pointer>\n",
       "\t\t<strong>Levels</strong>:\n",
       "\t</summary>\n",
       "\t<style>\n",
       "\t.list-inline {list-style: none; margin:0; padding: 0}\n",
       "\t.list-inline>li {display: inline-block}\n",
       "\t.list-inline>li:not(:last-child)::after {content: \"\\00b7\"; padding: 0 .5ex}\n",
       "\t</style>\n",
       "\t<ol class=list-inline><li>'PRE'</li><li>'POST'</li></ol>\n",
       "</details>"
      ],
      "text/latex": [
       "\\begin{enumerate*}\n",
       "\\item PRE\n",
       "\\item PRE\n",
       "\\item PRE\n",
       "\\item PRE\n",
       "\\item PRE\n",
       "\\item PRE\n",
       "\\end{enumerate*}\n",
       "\n",
       "\\emph{Levels}: \\begin{enumerate*}\n",
       "\\item 'PRE'\n",
       "\\item 'POST'\n",
       "\\end{enumerate*}\n"
      ],
      "text/markdown": [
       "1. PRE\n",
       "2. PRE\n",
       "3. PRE\n",
       "4. PRE\n",
       "5. PRE\n",
       "6. PRE\n",
       "\n",
       "\n",
       "\n",
       "**Levels**: 1. 'PRE'\n",
       "2. 'POST'\n",
       "\n",
       "\n"
      ],
      "text/plain": [
       "[1] PRE PRE PRE PRE PRE PRE\n",
       "Levels: PRE POST"
      ]
     },
     "metadata": {},
     "output_type": "display_data"
    }
   ],
   "source": [
    "head(panel1_data_long$test)"
   ]
  },
  {
   "cell_type": "code",
   "execution_count": 93,
   "id": "68bd52dc-85db-4cd2-ade7-f9f97d27a661",
   "metadata": {},
   "outputs": [
    {
     "name": "stderr",
     "output_type": "stream",
     "text": [
      "Warning message in `[.data.table`(data, , `:=`(test__, NULL)):\n",
      "“Invalid .internal.selfref detected and fixed by taking a (shallow) copy of the data.table so that := can add this new column by reference. At an earlier point, this data.table has been copied by R (or was created manually using structure() or similar). Avoid names<- and attr<- which in R currently (and oddly) may copy the whole data.table. Use set* syntax instead to avoid copying: ?set, ?setnames and ?setattr. If this message doesn't help, please report your use case to the data.table issue tracker so the root cause can be fixed or this message improved.”\n",
      "Warning message in `[.data.table`(data, , `:=`(test__, NULL)):\n",
      "“Column 'test__' does not exist to remove”\n"
     ]
    },
    {
     "name": "stdout",
     "output_type": "stream",
     "text": [
      "[1] \"Outliers: \"\n",
      "     id            group__         PRE       POST        dPI outlier\n",
      " 1:  28          20min STM  0.07150000 -0.8335000 -0.9050000    TRUE\n",
      " 2:  61          20min STM -0.17150000  0.5000000  0.6715000    TRUE\n",
      " 3:  64          20min STM  0.12700000 -0.7500000 -0.8770000    TRUE\n",
      " 4:  75          20min STM  0.05550000 -0.8570000 -0.9125000    TRUE\n",
      " 5:  82 20min STM unpaired -0.12700000 -1.0000000 -0.8730000    TRUE\n",
      " 6:  99 20min STM unpaired -0.10000000  1.0000000  1.1000000    TRUE\n",
      " 7: 112 20min STM unpaired  0.11100000 -0.4335000 -0.5445000    TRUE\n",
      " 8: 131 20min STM unpaired -0.10000000  0.7500000  0.8500000    TRUE\n",
      " 9: 135 20min STM unpaired -0.05550000  0.6665000  0.7220000    TRUE\n",
      "10: 150 20min STM unpaired  0.05000000 -0.5145000 -0.5645000    TRUE\n",
      "11: 177          20min STM  0.14300000 -1.0000000 -1.1430000    TRUE\n",
      "12: 186          20min STM  0.10000000 -1.0000000 -1.1000000    TRUE\n",
      "13: 493          20min STM -0.12500000  0.4666667  0.5916667    TRUE\n",
      "14: 500          20min STM  0.16666667  0.5000000  0.3333333    TRUE\n",
      "15: 656          20min STM -0.05555556  0.3333333  0.3888889    TRUE\n"
     ]
    },
    {
     "name": "stderr",
     "output_type": "stream",
     "text": [
      "Warning message:\n",
      "“\u001b[1m\u001b[22mRemoved 1 row containing non-finite outside the scale range (`stat_signif()`).”\n",
      "Warning message in plot_theme(plot):\n",
      "“\u001b[1m\u001b[22mThe `legend.text.align` theme element is not defined in the element hierarchy.”\n",
      "Warning message in plot_theme(plot):\n",
      "“\u001b[1m\u001b[22mThe `legend.title.align` theme element is not defined in the element hierarchy.”\n",
      "Warning message:\n",
      "“\u001b[1m\u001b[22mRemoved 1 row containing missing values or values outside the scale range\n",
      "(`geom_point()`).”\n"
     ]
    },
    {
     "data": {
      "text/html": [
       "<strong>png:</strong> 2"
      ],
      "text/latex": [
       "\\textbf{png:} 2"
      ],
      "text/markdown": [
       "**png:** 2"
      ],
      "text/plain": [
       "png \n",
       "  2 "
      ]
     },
     "metadata": {},
     "output_type": "display_data"
    },
    {
     "name": "stderr",
     "output_type": "stream",
     "text": [
      "Warning message:\n",
      "“\u001b[1m\u001b[22mRemoved 1 row containing non-finite outside the scale range (`stat_signif()`).”\n",
      "Warning message in plot_theme(plot):\n",
      "“\u001b[1m\u001b[22mThe `legend.text.align` theme element is not defined in the element hierarchy.”\n",
      "Warning message in plot_theme(plot):\n",
      "“\u001b[1m\u001b[22mThe `legend.title.align` theme element is not defined in the element hierarchy.”\n",
      "Warning message:\n",
      "“\u001b[1m\u001b[22mRemoved 1 row containing missing values or values outside the scale range\n",
      "(`geom_point()`).”\n"
     ]
    },
    {
     "data": {
      "text/plain": [
       "$gg\n",
       "\n",
       "$n_facets\n",
       "[1] 2\n"
      ]
     },
     "metadata": {},
     "output_type": "display_data"
    },
    {
     "data": {
      "image/png": "[encoded data removed]",
      "text/plain": [
       "plot without title"
      ]
     },
     "metadata": {
      "image/png": {
       "height": 540,
       "width": 360
      }
     },
     "output_type": "display_data"
    }
   ],
   "source": [
    "ratio=3\n",
    "panel1B <- summary_plot(\n",
    "    panel1_data_long,\n",
    "    group = \"experiment\",\n",
    "    colors=colors_panel1,\n",
    "    comparisons=list(c(\"20min STM\", \"20min STM unpaired\")),\n",
    "    annotation_y=0.75,\n",
    "    y_limits=c(-1.3, 1),\n",
    "    text_y_size=20,\n",
    "    title_y_size=25\n",
    ")\n",
    "panel1B$gg <- panel1B$gg + theme(axis.text.x = element_blank(), axis.ticks.x = element_blank()) \n",
    "save_summ_plot(plot = panel1B, filename = \"prism/Fig1/panel1B.svg\", size_unit=size_unit, ratio=ratio)\n",
    "options(repr.plot.height=size_unit*ratio, repr.plot.width=size_unit*panel1B$n_facets)\n",
    "panel1B"
   ]
  },
  {
   "cell_type": "code",
   "execution_count": 47,
   "id": "4949078e-b079-487e-aa77-8f55b338e8d6",
   "metadata": {},
   "outputs": [
    {
     "name": "stderr",
     "output_type": "stream",
     "text": [
      "Warning message in plot_theme(plot):\n",
      "“\u001b[1m\u001b[22mThe `legend.text.align` theme element is not defined in the element hierarchy.”\n",
      "Warning message in plot_theme(plot):\n",
      "“\u001b[1m\u001b[22mThe `legend.title.align` theme element is not defined in the element hierarchy.”\n",
      "Warning message in plot_theme(plot):\n",
      "“\u001b[1m\u001b[22mThe `legend.text.align` theme element is not defined in the element hierarchy.”\n",
      "Warning message in plot_theme(plot):\n",
      "“\u001b[1m\u001b[22mThe `legend.title.align` theme element is not defined in the element hierarchy.”\n",
      "Warning message in plot_theme(plot):\n",
      "“\u001b[1m\u001b[22mThe `legend.text.align` theme element is not defined in the element hierarchy.”\n",
      "Warning message in plot_theme(plot):\n",
      "“\u001b[1m\u001b[22mThe `legend.title.align` theme element is not defined in the element hierarchy.”\n",
      "Warning message in plot_theme(plot):\n",
      "“\u001b[1m\u001b[22mThe `legend.text.align` theme element is not defined in the element hierarchy.”\n",
      "Warning message in plot_theme(plot):\n",
      "“\u001b[1m\u001b[22mThe `legend.title.align` theme element is not defined in the element hierarchy.”\n",
      "Warning message in grid.Call(C_textBounds, as.graphicsAnnot(x$label), x$x, x$y, :\n",
      "“conversion failure on 'Δ PI' in 'mbcsToSbcs': dot substituted for <ce>”\n",
      "Warning message in grid.Call(C_textBounds, as.graphicsAnnot(x$label), x$x, x$y, :\n",
      "“conversion failure on 'Δ PI' in 'mbcsToSbcs': dot substituted for <94>”\n",
      "Warning message in grid.Call.graphics(C_text, as.graphicsAnnot(x$label), x$x, x$y, :\n",
      "“conversion failure on 'Δ PI' in 'mbcsToSbcs': dot substituted for <ce>”\n",
      "Warning message in grid.Call.graphics(C_text, as.graphicsAnnot(x$label), x$x, x$y, :\n",
      "“conversion failure on 'Δ PI' in 'mbcsToSbcs': dot substituted for <94>”\n",
      "Warning message in grid.Call.graphics(C_text, as.graphicsAnnot(x$label), x$x, x$y, :\n",
      "“conversion failure on 'Δ PI' in 'mbcsToSbcs': dot substituted for <ce>”\n",
      "Warning message in grid.Call.graphics(C_text, as.graphicsAnnot(x$label), x$x, x$y, :\n",
      "“conversion failure on 'Δ PI' in 'mbcsToSbcs': dot substituted for <94>”\n"
     ]
    }
   ],
   "source": [
    "options(repr.plot.width=15)\n",
    "options(repr.plot.height=10)\n",
    "gg <- cowplot::plot_grid(panel1A$gg, panel1B$gg, ncol=2)\n",
    "ggsave(plot = gg, filename = \"figures/Figure_1.pdf\", width=options()$repr.plot.width, height=options()$repr.plot.height)"
   ]
  },
  {
   "cell_type": "code",
   "execution_count": null,
   "id": "1625445d-96e9-45fd-a337-a32cf8ab6866",
   "metadata": {},
   "outputs": [],
   "source": []
  }
 ],
 "metadata": {
  "kernelspec": {
   "display_name": "R42",
   "language": "R",
   "name": "r42"
  },
  "language_info": {
   "codemirror_mode": "r",
   "file_extension": ".r",
   "mimetype": "text/x-r-source",
   "name": "R",
   "pygments_lexer": "r",
   "version": "4.3.3"
  }
 },
 "nbformat": 4,
 "nbformat_minor": 5
}
