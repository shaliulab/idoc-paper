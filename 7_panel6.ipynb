{
 "cells": [
  {
   "cell_type": "code",
   "execution_count": 51,
   "id": "0f8fcedf-0683-4157-8e36-9c9ee2b46746",
   "metadata": {},
   "outputs": [],
   "source": [
    "library(readxl)\n",
    "library(data.table)\n",
    "library(ggplot2)\n",
    "library(ggprism)\n",
    "library(ggforce)\n",
    "library(ggetho)\n",
    "library(ggsignif)\n",
    "source(\"R/Cbind.R\")\n",
    "source(\"R/library.R\")\n",
    "source(\"R/plot.R\")\n",
    "theme_set(theme_prism(base_size=20))\n",
    "options(repr.plot.width=15, repr.plot.height=15)"
   ]
  },
  {
   "cell_type": "code",
   "execution_count": 52,
   "id": "de55164e-6ca6-458d-983b-a538bb3545d2",
   "metadata": {},
   "outputs": [],
   "source": [
    "data <- data.table::fread(file = \"tidy_data_wide.csv\")"
   ]
  },
  {
   "cell_type": "code",
   "execution_count": 53,
   "id": "22e7207c-f480-49c5-b78a-dd7f33368118",
   "metadata": {},
   "outputs": [],
   "source": [
    "data[, voltage := `comment on SD`]\n",
    "data[, `comment on SD` := NULL]\n"
   ]
  },
  {
   "cell_type": "code",
   "execution_count": 54,
   "id": "507e0576-2f4f-4c75-abe9-feebe74047fb",
   "metadata": {},
   "outputs": [],
   "source": [
    "panel6_data <- data[experiment==\"24hr LTM GTACR\",]"
   ]
  },
  {
   "cell_type": "code",
   "execution_count": 66,
   "id": "f9d142be-975b-4b1c-b57e-5ab199746628",
   "metadata": {},
   "outputs": [],
   "source": [
    "gtacr2_genotype<-\"alph_prime_beta_prime_KCs>GTACR2\""
   ]
  },
  {
   "cell_type": "code",
   "execution_count": 56,
   "id": "2197e5b6-c35d-4fe7-898b-e8cee0359d7a",
   "metadata": {
    "scrolled": true,
    "tags": []
   },
   "outputs": [
    {
     "name": "stdout",
     "output_type": "stream",
     "text": [
      "[1] \"8 9 12 7 9\"\n"
     ]
    }
   ],
   "source": [
    "A <- panel6_data[Genotype == \"Iso31\" & voltage == 4 ,.(Files, idoc_folder, ROI, User, Genotype, experiment, PRE, POST, SD_status, interval)]\n",
    "B <- panel6_data[Genotype == \"Iso31\" & voltage == 4.5 ,.(Files, idoc_folder, ROI, User, Genotype, experiment, PRE, POST, SD_status, interval)]\n",
    "C <- panel6_data[Genotype == \"alph_prime_beta_prime_KCs>GTACR2\" & voltage == 3.5 ,.(Files, idoc_folder, ROI, User, Genotype, experiment, PRE, POST, SD_status, interval)]\n",
    "D <- panel6_data[Genotype == \"alph_prime_beta_prime_KCs>GTACR2\" & voltage == 4 ,.(Files, idoc_folder, ROI, User, Genotype, experiment, PRE, POST, SD_status, interval)]\n",
    "E <- panel6_data[Genotype == \"alph_prime_beta_prime_KCs>GTACR2\" & voltage == 4.5 ,.(Files, idoc_folder, ROI, User, Genotype, experiment, PRE, POST, SD_status, interval)]\n",
    "Ad <- A[, (delta = POST-PRE)]\n",
    "Bd <- B[, (delta = POST-PRE)]\n",
    "Cd <- C[, (delta = POST-PRE)]\n",
    "Dd <- D[, (delta = POST-PRE)]\n",
    "Ed <- E[, (delta = POST-PRE)]\n",
    "X<-Cbind(Ad, Bd, Cd, Dd, Ed)\n",
    "print(\n",
    "    paste(\n",
    "        nrow(A),\n",
    "        nrow(B),\n",
    "        nrow(C),\n",
    "        nrow(D),\n",
    "        nrow(E)\n",
    "    )\n",
    ")"
   ]
  },
  {
   "cell_type": "code",
   "execution_count": 57,
   "id": "26e72ae4-ad27-47e4-a9d5-0ca11dc862de",
   "metadata": {},
   "outputs": [],
   "source": [
    "data.table::fwrite(x = A, file=\"prism/Fig6/Figure_6A_Iso31_4.0V.csv\")\n",
    "data.table::fwrite(x = B, file=\"prism/Fig6/Figure_6A_Iso31_4.5V.csv\")\n",
    "data.table::fwrite(x = C, file=\"prism/Fig6/Figure_6A_GTACR2_3.5V.csv\")\n",
    "data.table::fwrite(x = D, file=\"prism/Fig6/Figure_6A_GTACR2_4.0V.csv\")\n",
    "data.table::fwrite(x = E, file=\"prism/Fig6/Figure_6A_GTACR2_4.5V.csv\")\n",
    "data.table::fwrite(x = X, file=\"prism/Fig6/Figure_6A_boxplot.csv\")"
   ]
  },
  {
   "cell_type": "code",
   "execution_count": 58,
   "id": "47a118ca-80a5-4e2e-930a-8b3473c02cc0",
   "metadata": {},
   "outputs": [],
   "source": [
    "panel6_data_long <- melt(panel6_data, measure.vars = c(\"PRE\", \"POST\"), value.name = \"PI\", variable.name = \"test\")"
   ]
  },
  {
   "cell_type": "code",
   "execution_count": 64,
   "id": "78ab6ac5-f603-40f8-83e2-dc5a79193102",
   "metadata": {},
   "outputs": [
    {
     "name": "stdout",
     "output_type": "stream",
     "text": [
      "[1] -1  1\n"
     ]
    },
    {
     "name": "stderr",
     "output_type": "stream",
     "text": [
      "Warning message in geom_signif(data = annotation_df, aes(annotations = stars), xmin = 1, :\n",
      "“\u001b[1m\u001b[22mIgnoring unknown aesthetics: \u001b[32mannotations\u001b[39m”\n"
     ]
    },
    {
     "name": "stdout",
     "output_type": "stream",
     "text": [
      "[1] -1  1\n"
     ]
    },
    {
     "name": "stderr",
     "output_type": "stream",
     "text": [
      "Warning message in geom_signif(data = annotation_df, aes(annotations = stars), xmin = 1, :\n",
      "“\u001b[1m\u001b[22mIgnoring unknown aesthetics: \u001b[32mannotations\u001b[39m”\n",
      "Warning message in plot_theme(plot):\n",
      "“\u001b[1m\u001b[22mThe `legend.text.align` theme element is not defined in the element hierarchy.”\n",
      "Warning message in plot_theme(plot):\n",
      "“\u001b[1m\u001b[22mThe `legend.title.align` theme element is not defined in the element hierarchy.”\n"
     ]
    },
    {
     "data": {
      "text/plain": [
       "$gg\n",
       "\n",
       "$n_facets\n",
       "[1] 3\n",
       "\n",
       "$direction\n",
       "[1] \"horizontal\"\n"
      ]
     },
     "metadata": {},
     "output_type": "display_data"
    },
    {
     "data": {
      "image/png": "[encoded data removed]",
      "text/plain": [
       "plot without title"
      ]
     },
     "metadata": {
      "image/png": {
       "height": 300,
       "width": 300
      }
     },
     "output_type": "display_data"
    }
   ],
   "source": [
    "options(repr.plot.width=5, repr.plot.height=5)\n",
    "gg1 <- learning_plot(panel6_data_long[Genotype == \"Iso31\",], \"voltage\", map_signif_level=TRUE, test=paired_t_test)\n",
    "gg2 <- learning_plot(panel6_data_long[Genotype == gtacr2_genotype,], \"voltage\", map_signif_level=TRUE, test=paired_t_test)"
   ]
  },
  {
   "cell_type": "code",
   "execution_count": 100,
   "id": "8613cf24-201c-4d96-a378-98e937c824e9",
   "metadata": {},
   "outputs": [],
   "source": [
    "source(\"R/prism_compat.R\")\n",
    "dt_bin <- readRDS(\"dt_bin_gtacr.RDS\")\n",
    "metadata <- dt_bin[,meta=TRUE]\n",
    "dt_bin_full <- behavr::rejoin(dt_bin)"
   ]
  },
  {
   "cell_type": "code",
   "execution_count": 94,
   "id": "3a187606-eb53-4d9c-a7f3-a34efee688de",
   "metadata": {},
   "outputs": [],
   "source": [
    "# dt_bin_full"
   ]
  },
  {
   "cell_type": "code",
   "execution_count": null,
   "id": "c98a2dde-7f58-4d3c-9c30-c3804ebd226c",
   "metadata": {},
   "outputs": [],
   "source": []
  },
  {
   "cell_type": "code",
   "execution_count": 103,
   "id": "f60fef9c-c023-4f57-9713-4f825c8a09c3",
   "metadata": {},
   "outputs": [
    {
     "name": "stdout",
     "output_type": "stream",
     "text": [
      "   group__ n_flies max diff\n",
      "1:     3.5      20  20    0\n",
      "2:       4      20  20    0\n",
      "3:     4.5      10  20   10\n",
      "[1] 1\n",
      "[1] 1\n",
      "[1] 1\n",
      "[1] \"3.5\" \"4\"   \"4.5\"\n",
      "[1] 49 20\n",
      "[1] 49 20\n",
      "[1] 49 20\n",
      "[1] 49 60\n"
     ]
    }
   ],
   "source": [
    "id<-\"id\"\n",
    "group <- \"voltage\"\n",
    "dt_bin_full_ <- dt_bin_full[Genotype==gtacr2_genotype,]\n",
    "dt_bin_full_[, voltage:=factor(voltage)]\n",
    "\n",
    "dt_bin_full_wide <- add_ghost_data(dt_bin_full_, id=id, x=\"t\", columns=c(\"asleep\"), group=group, to_wide=TRUE)\n",
    "\n",
    "dt_bin_full_wide$zt <- dt_bin_full_wide$t/3600\n",
    "out <- dt_bin_full_wide[ , setdiff(colnames(dt_bin_full_wide), c(\"zt\", \"t\")), with=FALSE]\n",
    "print(dim(out))\n",
    "\n",
    "\n",
    "A <- dt_bin_full_[voltage == 3.5, .(Files, ROI, User, Genotype, Training, experiment, t, asleep, id, region_id, machine_name)]\n",
    "B <- dt_bin_full_[voltage == 4, .(Files, ROI, User, Genotype, Training, experiment, t, asleep, id, region_id, machine_name)]\n",
    "C <- dt_bin_full_[voltage == 4.5, .(Files, ROI, User, Genotype, Training, experiment, t, asleep, id, region_id, machine_name)]\n",
    "data.table::fwrite(x = A, file=\"prism/Fig6/Figure_6B_GTACR2_3.5V_sleep.csv\")\n",
    "data.table::fwrite(x = B, file=\"prism/Fig6/Figure_6B_GTACR2_4.0V_sleep.csv\")\n",
    "data.table::fwrite(x = C, file=\"prism/Fig6/Figure_6B_GTACR2_4.5V_sleep.csv\")\n",
    "data.table::fwrite(x = out, file=\"prism/Fig6/Figure_6B_GTACR2_sleep.csv\")\n"
   ]
  },
  {
   "cell_type": "code",
   "execution_count": 104,
   "id": "8891ecd9-078f-47f3-8ccb-842331b4d5e7",
   "metadata": {},
   "outputs": [
    {
     "name": "stdout",
     "output_type": "stream",
     "text": [
      "   group__ n_flies max diff\n",
      "1:       4      10  10    0\n",
      "2:     4.5      10  10    0\n",
      "[1] 1\n",
      "[1] 1\n",
      "[1] \"4\"   \"4.5\"\n",
      "[1] 49 10\n",
      "[1] 49 10\n",
      "[1] 49 20\n"
     ]
    }
   ],
   "source": [
    "source(\"R/prism_compat.R\")\n",
    "dt_bin_full_ <- dt_bin_full[Genotype==\"Iso31\",]\n",
    "dt_bin_full_[, voltage:=factor(voltage)]\n",
    "\n",
    "dt_bin_full_wide <- add_ghost_data(dt_bin_full_, id=id, x=\"t\", columns=c(\"asleep\"), group=group, to_wide=TRUE)\n",
    "\n",
    "dt_bin_full_wide$zt <- dt_bin_full_wide$t/3600\n",
    "out <- dt_bin_full_wide[ , setdiff(colnames(dt_bin_full_wide), c(\"zt\", \"t\")), with=FALSE]\n",
    "print(dim(out))\n",
    "\n",
    "\n",
    "B <- dt_bin_full_[voltage == 4, .(Files, ROI, User, Genotype, Training, experiment, t, asleep, id, region_id, machine_name)]\n",
    "C <- dt_bin_full_[voltage == 4.5, .(Files, ROI, User, Genotype, Training, experiment, t, asleep, id, region_id, machine_name)]\n",
    "data.table::fwrite(x = B, file=\"prism/Fig6/Figure_6B_Iso31_4.0V_sleep.csv\")\n",
    "data.table::fwrite(x = C, file=\"prism/Fig6/Figure_6B_Iso31_4.5V_sleep.csv\")\n",
    "data.table::fwrite(x = out, file=\"prism/Fig6/Figure_6B_Iso31_sleep.csv\")\n"
   ]
  },
  {
   "cell_type": "code",
   "execution_count": 106,
   "id": "99c127f3-9c9f-4f9c-bd83-ed1032388839",
   "metadata": {},
   "outputs": [
    {
     "data": {
      "text/html": [
       "<style>\n",
       ".list-inline {list-style: none; margin:0; padding: 0}\n",
       ".list-inline>li {display: inline-block}\n",
       ".list-inline>li:not(:last-child)::after {content: \"\\00b7\"; padding: 0 .5ex}\n",
       "</style>\n",
       "<ol class=list-inline><li>5</li><li>5.5</li><li>6</li><li>6.5</li><li>7</li><li>7.5</li></ol>\n"
      ],
      "text/latex": [
       "\\begin{enumerate*}\n",
       "\\item 5\n",
       "\\item 5.5\n",
       "\\item 6\n",
       "\\item 6.5\n",
       "\\item 7\n",
       "\\item 7.5\n",
       "\\end{enumerate*}\n"
      ],
      "text/markdown": [
       "1. 5\n",
       "2. 5.5\n",
       "3. 6\n",
       "4. 6.5\n",
       "5. 7\n",
       "6. 7.5\n",
       "\n",
       "\n"
      ],
      "text/plain": [
       "[1] 5.0 5.5 6.0 6.5 7.0 7.5"
      ]
     },
     "metadata": {},
     "output_type": "display_data"
    }
   ],
   "source": [
    "head(dt_bin_full_wide$zt)"
   ]
  },
  {
   "cell_type": "code",
   "execution_count": null,
   "id": "15079079-9bee-4392-83a2-11e264736265",
   "metadata": {},
   "outputs": [],
   "source": []
  }
 ],
 "metadata": {
  "kernelspec": {
   "display_name": "R42",
   "language": "R",
   "name": "r42"
  },
  "language_info": {
   "codemirror_mode": "r",
   "file_extension": ".r",
   "mimetype": "text/x-r-source",
   "name": "R",
   "pygments_lexer": "r",
   "version": "4.2.3"
  }
 },
 "nbformat": 4,
 "nbformat_minor": 5
}
