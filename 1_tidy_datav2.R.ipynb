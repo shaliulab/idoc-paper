{
 "cells": [
  {
   "cell_type": "code",
   "execution_count": 141,
   "id": "0f8fcedf-0683-4157-8e36-9c9ee2b46746",
   "metadata": {},
   "outputs": [],
   "source": [
    "library(readxl)\n",
    "library(data.table)\n",
    "library(ggplot2)\n",
    "library(ggprism)\n",
    "library(ggforce)\n",
    "library(ggetho)\n",
    "library(ggsignif)\n",
    "library(zoo)\n",
    "theme_set(theme_prism(base_size=20))\n",
    "options(repr.plot.width=15, repr.plot.height=15)\n",
    "source(\"R/plot.R\")\n",
    "source(\"R/Cbind.R\")\n",
    "source(\"R/link_idoc_metadata.R\")\n",
    "source(\"R/library.R\")\n",
    "\n",
    "pipeline_parameters <- yaml::read_yaml(\"parameters.yaml\")\n",
    "# whether to use the user annotated result in the metadata files (which could be biased)\n",
    "# or exclusively the computer generated result (which will very little or no bias)\n",
    "SCORING_SYSTEM <- pipeline_parameters$SCORING_SYSTEM\n",
    "# whether to use flies where at least one of the trials has an undetermined preference \n",
    "# in that case, the final value is the mean of the trials with a determined preference\n",
    "# example: if the result of two trials is -0.3 and NA, the final result is -0.3 (not -0.15)\n",
    "USE_INCOMPLETE_TESTS <- pipeline_parameters$USE_INCOMPLETE_TESTS"
   ]
  },
  {
   "cell_type": "code",
   "execution_count": 142,
   "id": "270d1fd5-a3e2-4f8a-805f-2f5a24cb6c69",
   "metadata": {},
   "outputs": [],
   "source": [
    "metadata <- data.table::fread(\"metadata.csv\")"
   ]
  },
  {
   "cell_type": "code",
   "execution_count": 143,
   "id": "821c08c5-87f6-4b5c-a3da-3240910fccc5",
   "metadata": {},
   "outputs": [],
   "source": [
    "result_dir <- \"/idoc_data/IDOC\"\n",
    "metadata_linked <- link_idoc_metadata(metadata, result_dir=result_dir, verbose=FALSE)\n",
    "n_missing_animals <- nrow(metadata_linked[is.na(idoc_folder),])\n",
    "if (n_missing_animals>0) {\n",
    "    warning(paste(n_missing_animals, \"animals could not be linked\"))\n",
    "}"
   ]
  },
  {
   "cell_type": "code",
   "execution_count": 144,
   "id": "f114b2ea-d768-43e1-aeae-96112168154e",
   "metadata": {},
   "outputs": [],
   "source": [
    "metadata_linked <- metadata_linked[!is.na(idoc_folder),]\n",
    "metadata_linked[, PRE_manual := PRE]\n",
    "metadata_linked[, POST_manual := POST]"
   ]
  },
  {
   "cell_type": "code",
   "execution_count": 145,
   "id": "296a1d11-0aad-463c-971a-74193ba97bda",
   "metadata": {},
   "outputs": [],
   "source": [
    "data.table::fwrite(x = metadata_linked, file = \"IDOC_paper_metadata.csv\")"
   ]
  },
  {
   "cell_type": "code",
   "execution_count": 146,
   "id": "693a1bb1-242d-4144-9013-114c278e6362",
   "metadata": {
    "scrolled": true
   },
   "outputs": [],
   "source": [
    "# use raw csv\n",
    "data_raw <- load_idoc_data(\n",
    "    metadata_linked,\n",
    "    # how many exits need to happen for the trial to be considered?\n",
    "    min_exits=3,\n",
    "    # load from trial 1 and trial 2, applying the min_exit requirement to each separately\n",
    "    trials=1:2,\n",
    "    use_incomplete_tests = USE_INCOMPLETE_TESTS,\n",
    "    verbose=FALSE,\n",
    "    # summary_FUN=average_trial\n",
    "    summary_FUN=list(\n",
    "        PRE=average_trial,\n",
    "        POST=average_trial\n",
    "    )\n",
    ")"
   ]
  },
  {
   "cell_type": "code",
   "execution_count": 147,
   "id": "d78a47d1-7b7a-4e79-b97e-99615453137a",
   "metadata": {},
   "outputs": [],
   "source": [
    "data_raw[,PRE_machine := PRE]\n",
    "data_raw[,PRE_1_machine := PRE_1]\n",
    "data_raw[,PRE_2_machine := PRE_2]\n",
    "data_raw[,POST_machine := POST]\n",
    "data_raw[,POST_1_machine := POST_1]\n",
    "data_raw[,POST_2_machine := POST_2]"
   ]
  },
  {
   "cell_type": "code",
   "execution_count": 148,
   "id": "cc03635a-5058-4c90-85d6-32c542892fc3",
   "metadata": {},
   "outputs": [
    {
     "name": "stderr",
     "output_type": "stream",
     "text": [
      "Using flexible scores\n",
      "\n"
     ]
    }
   ],
   "source": [
    "if (SCORING_SYSTEM==\"manual\") {\n",
    "  message(\"Using human made scores\")   \n",
    "  data_raw[ , PRE := PRE_manual]\n",
    "  data_raw[ , POST := POST_manual]\n",
    "  data_raw[, PRE_criteria := \"manual\"]\n",
    "  data_raw[, POST_criteria := \"manual\"]\n",
    "    \n",
    "} else if (SCORING_SYSTEM==\"flexible\") {\n",
    "  message(\"Using flexible scores\")   \n",
    "  data_raw[ , PRE := PRE_machine]\n",
    "  data_raw[ , POST := POST_machine]\n",
    "  data_raw[, PRE_criteria := \"machine\"]\n",
    "  data_raw[, POST_criteria := \"machine\"]\n",
    "  data_raw[!is.na(PRE_manual) & !(PRE_Reason%in%c(\"\", \"?\", \"Machine-override\")), PRE_criteria := \"manual\"]\n",
    "  data_raw[!is.na(PRE_manual) & !(PRE_Reason%in%c(\"\", \"?\", \"Machine-override\")), PRE := PRE_manual]\n",
    "  data_raw[!is.na(POST_manual) & !(POST_Reason%in%c(\"\", \"?\", \"Machine-override\")), POST_criteria := \"manual\"]\n",
    "  data_raw[!is.na(POST_manual) & !(POST_Reason%in%c(\"\", \"?\", \"Machine-override\")), POST := POST_manual]\n",
    "    \n",
    "} else {\n",
    "  message(\"Using machine made scores\")   \n",
    "  data_raw[ , PRE := PRE_machine]\n",
    "  data_raw[ , POST := POST_machine]\n",
    "}"
   ]
  },
  {
   "cell_type": "code",
   "execution_count": 149,
   "id": "44bd26b5-e532-4b02-b374-e4c373fdea8e",
   "metadata": {},
   "outputs": [
    {
     "data": {
      "text/plain": [
       "\n",
       "                                               \n",
       "                                          1044 \n",
       "                                             ? \n",
       "                                             3 \n",
       "                                  AOJ-override \n",
       "                                             3 \n",
       "                discard due to LTM not working \n",
       "                                            20 \n",
       "                    discard due to LTM working \n",
       "                                            16 \n",
       "                                Human-override \n",
       "                                            51 \n",
       "                       Human-override; discard \n",
       "                                             3 \n",
       "Human-override; discard due to LTM not working \n",
       "                                             1 \n",
       "                                     Left-bias \n",
       "                                             2 \n",
       "                              Machine-override \n",
       "                                            84 \n",
       "                                    Right-bias \n",
       "                                             1 "
      ]
     },
     "metadata": {},
     "output_type": "display_data"
    }
   ],
   "source": [
    "table(data_raw$POST_Reason)"
   ]
  },
  {
   "cell_type": "code",
   "execution_count": 150,
   "id": "db7afcaf-c493-48c3-957c-9d0bc3e7286c",
   "metadata": {},
   "outputs": [],
   "source": [
    "data.table::fwrite(x = data_raw, file = \"raw_data_wide.csv\")"
   ]
  },
  {
   "cell_type": "code",
   "execution_count": 151,
   "id": "cb155051-4469-4d4b-aea3-7d26c6afa62a",
   "metadata": {},
   "outputs": [],
   "source": [
    "data <- data.table::copy(data_raw)\n",
    "data[is.na(POST), POST_Reason := \"POST_NA\"]\n",
    "data[is.na(PRE), PRE_Reason := \"PRE_NA\"]\n",
    "data[PRE > 0.2, PRE_Reason := \"Pre-attraction\"]\n",
    "data[PRE < -0.2, PRE_Reason := \"Pre-aversion\"]\n"
   ]
  },
  {
   "cell_type": "code",
   "execution_count": 152,
   "id": "eb1d8fc3-4769-4cc7-a18d-fd8e70038579",
   "metadata": {},
   "outputs": [
    {
     "data": {
      "text/plain": [
       "\n",
       "                                                            ? \n",
       "                           706                              3 \n",
       "                  AOJ-override discard due to LTM not working \n",
       "                             3                             16 \n",
       "    discard due to LTM working                 Human-override \n",
       "                            12                             46 \n",
       "       Human-override; discard                      Left-bias \n",
       "                             2                              2 \n",
       "              Machine-override                        POST_NA \n",
       "                            82                            355 \n",
       "                    Right-bias \n",
       "                             1 "
      ]
     },
     "metadata": {},
     "output_type": "display_data"
    }
   ],
   "source": [
    "table(data$POST_Reason)"
   ]
  },
  {
   "cell_type": "code",
   "execution_count": 153,
   "id": "e708791b-f5ff-473b-a29e-533f5a0eed32",
   "metadata": {},
   "outputs": [
    {
     "data": {
      "text/plain": [
       "\n",
       "                                ?   Human-override Machine-override \n",
       "             931                3                2               18 \n",
       "          PRE_NA   Pre-attraction     Pre-aversion \n",
       "              92              124               58 "
      ]
     },
     "metadata": {},
     "output_type": "display_data"
    }
   ],
   "source": [
    "table(data$PRE_Reason)"
   ]
  },
  {
   "cell_type": "code",
   "execution_count": 154,
   "id": "88293c2f-2056-4879-9703-952bf1f44b4d",
   "metadata": {},
   "outputs": [
    {
     "data": {
      "text/html": [
       "673"
      ],
      "text/latex": [
       "673"
      ],
      "text/markdown": [
       "673"
      ],
      "text/plain": [
       "[1] 673"
      ]
     },
     "metadata": {},
     "output_type": "display_data"
    }
   ],
   "source": [
    "nrow(data[PRE_Reason%in%c(\"\", \"?\") & POST_Reason %in% c(\"\", \"?\", \"Human-override\", \"Machine-override\"),])"
   ]
  },
  {
   "cell_type": "code",
   "execution_count": 155,
   "id": "f5c24e56-4490-4a1b-bb18-6d06ace6eff3",
   "metadata": {},
   "outputs": [],
   "source": [
    "# verify there are not repeats (the same fly represent more than once)\n",
    "counts <- data[, .N, by=fly_name_reference]\n",
    "stopifnot(all(counts$N==1))"
   ]
  },
  {
   "cell_type": "code",
   "execution_count": 156,
   "id": "4adbfd6c-f44a-461b-aca7-df59500f062c",
   "metadata": {},
   "outputs": [],
   "source": [
    "data[, id := 1:.N]"
   ]
  },
  {
   "cell_type": "code",
   "execution_count": 157,
   "id": "bf615ecc-5f25-4de6-bba9-d3cae4d3190c",
   "metadata": {},
   "outputs": [],
   "source": [
    "data.table::fwrite(x = data[PRE_ROI!=\"NONE\", .N, .(idoc_folder)], file = \"index.csv\")"
   ]
  },
  {
   "cell_type": "code",
   "execution_count": 158,
   "id": "6bfc3d8f-c4d7-4c43-a7a2-9e5e40de22b8",
   "metadata": {},
   "outputs": [],
   "source": [
    "data_long <- melt(data = data, measure.vars = c(\"PRE\", \"POST\"), value.name = \"PI\", variable.name = \"test\")\n",
    "data.table::fwrite(x = data_long, file = \"tidy_data.csv\")\n",
    "data.table::fwrite(x = data, file = \"tidy_data_wide.csv\")"
   ]
  },
  {
   "cell_type": "code",
   "execution_count": 159,
   "id": "68e4a5ca-857e-43bb-b465-5d4e363a3ea2",
   "metadata": {},
   "outputs": [
    {
     "data": {
      "text/html": [
       "<table class=\"dataframe\">\n",
       "<caption>A data.table: 4 × 2</caption>\n",
       "<thead>\n",
       "\t<tr><th scope=col>POST_Reason</th><th scope=col>N</th></tr>\n",
       "\t<tr><th scope=col>&lt;chr&gt;</th><th scope=col>&lt;int&gt;</th></tr>\n",
       "</thead>\n",
       "<tbody>\n",
       "\t<tr><td>Human-override                </td><td>38</td></tr>\n",
       "\t<tr><td>AOJ-override                  </td><td> 3</td></tr>\n",
       "\t<tr><td>discard due to LTM not working</td><td> 7</td></tr>\n",
       "\t<tr><td>discard due to LTM working    </td><td>11</td></tr>\n",
       "</tbody>\n",
       "</table>\n"
      ],
      "text/latex": [
       "A data.table: 4 × 2\n",
       "\\begin{tabular}{ll}\n",
       " POST\\_Reason & N\\\\\n",
       " <chr> & <int>\\\\\n",
       "\\hline\n",
       "\t Human-override                 & 38\\\\\n",
       "\t AOJ-override                   &  3\\\\\n",
       "\t discard due to LTM not working &  7\\\\\n",
       "\t discard due to LTM working     & 11\\\\\n",
       "\\end{tabular}\n"
      ],
      "text/markdown": [
       "\n",
       "A data.table: 4 × 2\n",
       "\n",
       "| POST_Reason &lt;chr&gt; | N &lt;int&gt; |\n",
       "|---|---|\n",
       "| Human-override                 | 38 |\n",
       "| AOJ-override                   |  3 |\n",
       "| discard due to LTM not working |  7 |\n",
       "| discard due to LTM working     | 11 |\n",
       "\n"
      ],
      "text/plain": [
       "  POST_Reason                    N \n",
       "1 Human-override                 38\n",
       "2 AOJ-override                    3\n",
       "3 discard due to LTM not working  7\n",
       "4 discard due to LTM working     11"
      ]
     },
     "metadata": {},
     "output_type": "display_data"
    }
   ],
   "source": [
    "data_raw[POST_criteria==\"manual\", .N, by=POST_Reason]"
   ]
  },
  {
   "cell_type": "code",
   "execution_count": null,
   "id": "bfd0a6a4-0a86-44af-b8a4-aa013d802faf",
   "metadata": {},
   "outputs": [],
   "source": []
  },
  {
   "cell_type": "code",
   "execution_count": null,
   "id": "af19abdc-84be-40e9-8350-02896ab4a6a4",
   "metadata": {},
   "outputs": [],
   "source": []
  },
  {
   "cell_type": "code",
   "execution_count": null,
   "id": "2c110425-2c74-404c-96d5-41b8513d877f",
   "metadata": {},
   "outputs": [],
   "source": []
  }
 ],
 "metadata": {
  "kernelspec": {
   "display_name": "R42",
   "language": "R",
   "name": "r42"
  },
  "language_info": {
   "codemirror_mode": "r",
   "file_extension": ".r",
   "mimetype": "text/x-r-source",
   "name": "R",
   "pygments_lexer": "r",
   "version": "4.3.3"
  }
 },
 "nbformat": 4,
 "nbformat_minor": 5
}
