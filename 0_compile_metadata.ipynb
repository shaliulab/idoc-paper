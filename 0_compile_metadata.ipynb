{
 "cells": [
  {
   "cell_type": "code",
   "execution_count": 422,
   "id": "0f8fcedf-0683-4157-8e36-9c9ee2b46746",
   "metadata": {},
   "outputs": [],
   "source": [
    "library(readxl)\n",
    "library(data.table)\n",
    "library(ggplot2)\n",
    "library(ggprism)\n",
    "library(ggforce)\n",
    "library(ggetho)\n",
    "library(ggsignif)\n",
    "library(zoo)\n",
    "theme_set(theme_prism(base_size=20))\n",
    "options(repr.plot.width=15, repr.plot.height=15)\n",
    "source(\"R/plot.R\")\n",
    "source(\"R/Cbind.R\")\n",
    "source(\"R/link_idoc_metadata.R\")\n",
    "source(\"R/library.R\")"
   ]
  },
  {
   "cell_type": "markdown",
   "id": "1918fe93-1272-48af-9723-ab909ddb40bd",
   "metadata": {},
   "source": [
    "This notebook reads the IDOC results stored in \"IDOC_METHODS_PAPER_METADATA.xlsx\" and produces a csv file with the data in tidy format\n",
    "\n",
    "* Fly_group_experiment_treatment: experimental information of the fly \n",
    "* fly_name_reference: unique animal identifier, built as follows: date_time(scientist_suffix)_ROI_X\n",
    "* experiment: type of memory evaluated (20min STM, 1h STM, LTM, LTM CHX, ...)\n",
    "* id\n",
    "* test: (PI is read PRE or POST conditioning)\n",
    "* PI: (value of PI)\n",
    "* Training_session: how many times CS-US pairing is presented\n",
    "* Genotype: genotype of the fly\n",
    "* interval: NONE, or ZTX-ZTY if the fly was SD'd between ZT X and ZT Y\n",
    "* ZT4,ZT4.5,ZT5,ZT5.5,ZT6,ZT6.5,ZT7,ZT7.5,ZT8,ZT8.5,ZT9,ZT9.5,ZT10,ZT10.5,ZT11,ZT11.5,ZT12,ZT12.5,ZT13,ZT13.5,ZT14,ZT14.5,ZT15,ZT15.5,ZT16,ZT16.5,ZT17,ZT17.5,ZT18,ZT18.5,ZT19,ZT19.5,ZT20,ZT20.5,ZT21,ZT21.5,ZT22,ZT22.5,ZT23,ZT23.5,ZT24,ZT24.5,ZT25,ZT25.5,ZT26,ZT26.5,ZT27,ZT27.5,ZT28,ZT28.5,ZT29,ZT29.5,ZT30\n",
    "* ZT4_interactions,ZT4.5_interactions,ZT5_interactions,ZT5.5_interactions,ZT6_interactions,ZT6.5_interactions,ZT7_interactions,ZT7.5_interactions,ZT8_interactions,ZT8.5_interactions,ZT9_interactions,ZT9.5_interactions,ZT10_interactions,ZT10.5_interactions,ZT11_interactions,ZT11.5_interactions,ZT12_interactions,ZT12.5_interactions,ZT13_interactions,ZT13.5_interactions,ZT14_interactions,ZT14.5_interactions,ZT15_interactions,ZT15.5_interactions,ZT16_interactions,ZT16.5_interactions,ZT17_interactions,ZT17.5_interactions,ZT18_interactions,ZT18.5_interactions,ZT19_interactions,ZT19.5_interactions,ZT20_interactions,ZT20.5_interactions,ZT21_interactions,ZT21.5_interactions,ZT22_interactions,ZT22.5_interactions,ZT23_interactions,ZT23.5_interactions,ZT24_interactions,ZT24.5_interactions,ZT25_interactions,ZT25.5_interactions,ZT26_interactions,ZT26.5_interactions,ZT27_interactions,ZT27.5_interactions,ZT28_interactions,ZT28.5_interactions,ZT29_interactions,ZT29.5_interactions,ZT30_interactions\n",
    "User\n"
   ]
  },
  {
   "cell_type": "code",
   "execution_count": 423,
   "id": "670a11cc-63b6-4a63-bd41-9ea2d1f63003",
   "metadata": {},
   "outputs": [],
   "source": [
    "database <- \"IDOC_metadata_AOJ - metadata.csv\"\n",
    "metadata_aoj <- data.table::fread(database)[fly_name_reference != \"\" & comment==\"OK\",]\n",
    "metadata_aoj<-metadata_aoj[keep==TRUE,]\n",
    "metadata_aoj<-metadata_aoj[Training%in%c(\"1X\", \"6X_Spaced\", \"6X_Massed\"),]\n",
    "\n",
    "metadata_etho_aoj <- data.table::fread(\"IDOC_metadata_AOJ - ethoscope_LTM.csv\")\n",
    "metadata_aoj <- merge(\n",
    "    metadata_aoj,\n",
    "    metadata_etho_aoj[, .(ROI, Files, region_id, date, machine_name, schedule, SD_quality, SD_quality_second_eye, interactor, interactor_time_window)],\n",
    "    by=c(\"ROI\", \"Files\"),\n",
    "    all=TRUE\n",
    ")\n",
    "# # this information is to be retrieved from a merge with the ethoscope metadata .csv\n",
    "# metadata_aoj$interactor<-\"NONE\"\n",
    "# metadata_aoj$interactor_time_window <-\"NONE\"\n",
    "# metadata_aoj$SD_quality<-\"NONE\"\n",
    "# metadata_aoj$SD_quality_second_eye <-\"NONE\"\n",
    "# metadata_aoj$region_id <-\"NONE\"\n",
    "# metadata_aoj$machine_name <-\"NONE\"\n",
    "# metadata_aoj$date <-\"NONE\""
   ]
  },
  {
   "cell_type": "code",
   "execution_count": 425,
   "id": "5badf0ae-2713-42e6-89ed-f193b49c6c03",
   "metadata": {},
   "outputs": [],
   "source": [
    "database <- \"/idoc_data/paper/CHuiData.ods\"\n",
    "sheets <- readODS::list_ods_sheets(database)\n",
    "columns <- c(\n",
    "    \"Files\", \"Genotype\", \"ROI\", \"Gender\", \"Age\", \"ATR\", \"Training\",\n",
    "    \"Odor\", \"Sugar\", \"Electric shock\",  \"PRE\", \"PRE_1\", \"PRE_2\", \"POST\", \"POST_1\", \"POST_2\", \"Keep\",\n",
    "    \"fly_name_reference\", \"experiment\"\n",
    ")\n",
    "metadata_ch <- read_idoc_metadata(file = database, sheets=sheets, columns = columns, backend=readODS::read_ods)\n",
    "metadata_ch$SD_quality <- \"NONE\"\n",
    "metadata_ch$SD_quality_second_eye <- \"NONE\"\n",
    "metadata_ch$interactor_time_window <- \"No_stimulator\"\n",
    "metadata_ch$interactor <- \"DefaultStimulator\"\n",
    "metadata_ch$`comment on SD` <- NA\n",
    "metadata_ch$User <- \"CH\"\n",
    "metadata_ch$region_id <- \"NONE\""
   ]
  },
  {
   "cell_type": "code",
   "execution_count": 426,
   "id": "d9c73eaa-78a4-4cc8-aef3-4ec4d7e03690",
   "metadata": {},
   "outputs": [],
   "source": [
    "# metadata_ch$POST"
   ]
  },
  {
   "cell_type": "code",
   "execution_count": 427,
   "id": "cbba2e53-e7b1-4c90-bf6b-2e9070b685f5",
   "metadata": {},
   "outputs": [],
   "source": [
    "database <- \"idoc_metadata.ods\"\n",
    "sheets <- c(\"20min_STM\", \"1hr_STM\", \"3hr_STM\")\n",
    "columns <- c(\n",
    "    \"Files\", \"Genotype\", \"ROI\", \"User\", \"fly_name_reference\", \"Gender\", \"Age\", \"ATR\", \"Training\",\n",
    "    \"Odor\", \"Sugar\", \"Electric shock\",  \"PRE\", \"PRE_1\", \"PRE_2\", \"POST\", \"POST_1\", \"POST_2\", \"Keep\",\n",
    "    \"SD_quality\", \"SD_quality_second_eye\", \"interactor_time_window\", \"interactor\", \"comment on SD\", \"experiment\"\n",
    ")"
   ]
  },
  {
   "cell_type": "markdown",
   "id": "c05faa56-eba9-4067-b9cd-9b6a26a1a302",
   "metadata": {},
   "source": [
    "## Read STM experiments"
   ]
  },
  {
   "cell_type": "code",
   "execution_count": 428,
   "id": "845b6888-24d8-45ad-a6cd-1dbf7fe9a495",
   "metadata": {
    "scrolled": true
   },
   "outputs": [
    {
     "name": "stderr",
     "output_type": "stream",
     "text": [
      "Warning message in doTryCatch(return(expr), name, parentenv, handler):\n",
      "“Deleting 21 42 63 82 103 124 145 166 rows from metadata”\n",
      "Warning message in doTryCatch(return(expr), name, parentenv, handler):\n",
      "“Deleting 21 42 63 rows from metadata”\n",
      "Warning message in doTryCatch(return(expr), name, parentenv, handler):\n",
      "“Deleting 21 42 63 84 105 126 rows from metadata”\n"
     ]
    }
   ],
   "source": [
    "metadata_stm <- read_idoc_metadata(file = database, sheets=sheets, columns = columns, backend=readODS::read_ods)\n",
    "# STM flies don't go to the ethoscope, so region_id is NONE\n",
    "metadata_stm$region_id <- \"NONE\""
   ]
  },
  {
   "cell_type": "code",
   "execution_count": 429,
   "id": "fd4a52e1-2f0b-4fc6-8d0f-2d5fd89e6035",
   "metadata": {},
   "outputs": [
    {
     "name": "stderr",
     "output_type": "stream",
     "text": [
      "Warning message in doTryCatch(return(expr), name, parentenv, handler):\n",
      "“NAs introduced by coercion”\n",
      "Warning message in doTryCatch(return(expr), name, parentenv, handler):\n",
      "“NAs introduced by coercion”\n",
      "Warning message in doTryCatch(return(expr), name, parentenv, handler):\n",
      "“Deleting 20 38 58 79 100 117 128 139 150 161 172 183 194 205 216 227 238 249 259 270 281 292 303 304 305 306 307 308 309 310 311 312 313 314 315 316 317 318 319 320 321 322 323 324 325 326 327 328 329 330 331 332 333 334 335 336 337 338 339 340 341 342 343 344 345 346 357 368 379 390 401 rows from metadata”\n"
     ]
    }
   ],
   "source": [
    "metadata_ltm <- read_idoc_metadata(file = database, sheets=c(\"24hr_LTM\"), columns = c(columns, \"date\", \"machine_name\", \"region_id\"), backend=readODS::read_ods)\n",
    "# keep either NS or good SD flies, (discard bad SD flies) \n",
    "metadata_ltm <- metadata_ltm[SD_quality %in% c(\"No_sleep_depriver\", \"good\") & SD_quality_second_eye %in% c(\"No_sleep_depriver\", \"good\"),]\n",
    "metadata_ltm[SD_quality==\"No_sleep_depriver\", SD_quality := \"NONE\"]\n",
    "metadata_ltm[SD_quality_second_eye==\"No_sleep_depriver\", SD_quality_second_eye := \"NONE\"]\n"
   ]
  },
  {
   "cell_type": "code",
   "execution_count": 430,
   "id": "d4c6447f-e02d-4cfd-8bec-2d04a8739755",
   "metadata": {},
   "outputs": [
    {
     "data": {
      "text/plain": [
       "\n",
       "No_stimulator     ZT05-ZT11     ZT05-ZT24   ZT12-ZT14.5     ZT12-ZT18 \n",
       "          122            56            28             9            61 "
      ]
     },
     "metadata": {},
     "output_type": "display_data"
    }
   ],
   "source": [
    "table(metadata_ltm$interactor_time_window)"
   ]
  },
  {
   "cell_type": "code",
   "execution_count": 431,
   "id": "888b5c2e-7253-4488-99fe-692d405381b2",
   "metadata": {},
   "outputs": [
    {
     "name": "stderr",
     "output_type": "stream",
     "text": [
      "Warning message in doTryCatch(return(expr), name, parentenv, handler):\n",
      "“NAs introduced by coercion”\n",
      "Warning message in doTryCatch(return(expr), name, parentenv, handler):\n",
      "“NAs introduced by coercion”\n",
      "Warning message in doTryCatch(return(expr), name, parentenv, handler):\n",
      "“Deleting 11 22 33 44 55 66 rows from metadata”\n"
     ]
    }
   ],
   "source": [
    "metadata_gtacr <- read_idoc_metadata(file = database, sheets=c(\"24hr_LTM_GTACR\"), columns =  c(columns, \"date\", \"machine_name\", \"region_id\"), backend=readODS::read_ods)\n",
    "metadata_gtacr[SD_quality==\"No_sleep_depriver\", SD_quality := \"NONE\"]\n",
    "metadata_gtacr[SD_quality_second_eye==\"No_sleep_depriver\", SD_quality_second_eye := \"NONE\"]\n"
   ]
  },
  {
   "cell_type": "code",
   "execution_count": 432,
   "id": "270d1fd5-a3e2-4f8a-805f-2f5a24cb6c69",
   "metadata": {},
   "outputs": [],
   "source": [
    "metadata <- rbind(\n",
    "    metadata_stm[, .(fly_name_reference, date=NA_character_, reference_hour=NA_real_, machine_name=NA_character_, region_id=NA, Files, ROI, Genotype, Gender, Age, interactor, interactor_time_window, Training, SD_quality, SD_quality_second_eye, `comment on SD`, User, experiment, PRE_1, PRE_2, PRE, POST_1, POST_2, POST)],\n",
    "    metadata_ltm[, .(fly_name_reference, date=as.character(date), reference_hour=11, machine_name, region_id, Files, ROI, Genotype, Gender, Age, interactor, interactor_time_window, Training, SD_quality, SD_quality_second_eye, `comment on SD`, User, experiment, PRE_1, PRE_2, PRE, POST_1, POST_2, POST)],\n",
    "    metadata_gtacr[, .(fly_name_reference, date=as.character(date), reference_hour=NA_real_, machine_name, region_id, Files, ROI, Genotype, Gender, Age, interactor, interactor_time_window, Training, SD_quality, SD_quality_second_eye, `comment on SD`, User, experiment, PRE_1, PRE_2, PRE, POST_1, POST_2, POST)],\n",
    "    metadata_ch[, .(fly_name_reference, date=NA_character_, reference_hour=11, machine_name=NA_character_, region_id=NA, Files, ROI, Genotype, Gender, Age, interactor, interactor_time_window, Training, SD_quality, SD_quality_second_eye, `comment on SD`, User, experiment, PRE_1, PRE_2, PRE, POST_1, POST_2, POST)],\n",
    "    metadata_aoj[, .(fly_name_reference, date=as.character(date), reference_hour, machine_name, region_id, Files, ROI, Genotype, Gender, Age, interactor, interactor_time_window, Training, SD_quality, SD_quality_second_eye, `comment on SD`=\"NONE\", User, experiment, PRE_1, PRE_2, PRE, POST_1, POST_2, POST)]\n",
    ")"
   ]
  },
  {
   "cell_type": "code",
   "execution_count": 433,
   "id": "b680b86c-bc32-45c0-9133-1f3c3c81534b",
   "metadata": {},
   "outputs": [],
   "source": [
    "data.table::fwrite(x = metadata, file=\"metadata.csv\")"
   ]
  },
  {
   "cell_type": "code",
   "execution_count": 434,
   "id": "5c1bd4b6-3a09-45e4-b28f-9f6513e29c8b",
   "metadata": {},
   "outputs": [
    {
     "name": "stderr",
     "output_type": "stream",
     "text": [
      "Warning message in doTryCatch(return(expr), name, parentenv, handler):\n",
      "“NAs introduced by coercion”\n",
      "Warning message in doTryCatch(return(expr), name, parentenv, handler):\n",
      "“NAs introduced by coercion”\n",
      "Warning message in doTryCatch(return(expr), name, parentenv, handler):\n",
      "“Deleting 20 38 58 79 100 117 128 139 150 161 172 183 194 205 216 227 238 249 259 270 281 292 303 304 305 306 307 308 309 310 311 312 313 314 315 316 317 318 319 320 321 322 323 324 325 326 327 328 329 330 331 332 333 334 335 336 337 338 339 340 341 342 343 344 345 346 357 368 379 390 401 rows from metadata”\n"
     ]
    }
   ],
   "source": [
    "metadata_etho <- read_idoc_metadata(file = database, sheets=c(\"24hr_LTM\"), columns = c(columns, \"date\", \"machine_name\", \"region_id\"), backend=readODS::read_ods)[is.na(ROI),]"
   ]
  },
  {
   "cell_type": "code",
   "execution_count": 435,
   "id": "0cad8056-5f63-436d-873e-cd75363b3deb",
   "metadata": {},
   "outputs": [
    {
     "data": {
      "text/html": [
       "<style>\n",
       ".list-inline {list-style: none; margin:0; padding: 0}\n",
       ".list-inline>li {display: inline-block}\n",
       ".list-inline>li:not(:last-child)::after {content: \"\\00b7\"; padding: 0 .5ex}\n",
       "</style>\n",
       "<ol class=list-inline><li>'2023-07-12_14-25-09_e36_roi_11-IDOC_roi_NA'</li><li>'2023-07-12_14-25-09_e36_roi_12-IDOC_roi_NA'</li><li>'2023-07-12_14-25-09_e36_roi_13-IDOC_roi_NA'</li><li>'2023-07-12_14-25-09_e36_roi_14-IDOC_roi_NA'</li><li>'2023-07-12_14-25-09_e36_roi_15-IDOC_roi_NA'</li><li>'2023-07-12_14-25-09_e36_roi_16-IDOC_roi_NA'</li><li>'2023-07-12_14-25-09_e36_roi_17-IDOC_roi_NA'</li><li>'2023-07-12_14-25-09_e36_roi_18-IDOC_roi_NA'</li><li>'2023-07-12_14-25-09_e36_roi_19-IDOC_roi_NA'</li><li>'2023-07-13_16-05-32_e36_roi_11-IDOC_roi_NA'</li><li>'2023-07-13_16-05-32_e36_roi_12-IDOC_roi_NA'</li><li>'2023-07-13_16-05-32_e36_roi_13-IDOC_roi_NA'</li><li>'2023-07-13_16-05-32_e36_roi_14-IDOC_roi_NA'</li><li>'2023-07-13_16-05-32_e36_roi_15-IDOC_roi_NA'</li><li>'2023-07-13_16-05-32_e36_roi_16-IDOC_roi_NA'</li><li>'2023-07-13_16-05-32_e36_roi_17-IDOC_roi_NA'</li><li>'2023-07-18_15-25-46_e42_roi_11-IDOC_roi_NA'</li><li>'2023-07-18_15-25-46_e42_roi_12-IDOC_roi_NA'</li><li>'2023-07-18_15-25-46_e42_roi_13-IDOC_roi_NA'</li><li>'2023-07-18_15-25-46_e42_roi_14-IDOC_roi_NA'</li><li>'2023-07-18_15-25-46_e42_roi_15-IDOC_roi_NA'</li><li>'2023-07-18_15-25-46_e42_roi_16-IDOC_roi_NA'</li><li>'2023-07-18_15-25-46_e42_roi_17-IDOC_roi_NA'</li><li>'2023-07-18_15-25-46_e42_roi_18-IDOC_roi_NA'</li><li>'2023-07-18_15-25-46_e42_roi_19-IDOC_roi_NA'</li><li>'2023-07-31_15-16-30_e36_roi_11-IDOC_roi_NA'</li><li>'2023-07-31_15-16-30_e36_roi_13-IDOC_roi_NA'</li><li>'2023-07-31_15-16-30_e36_roi_15-IDOC_roi_NA'</li><li>'2023-07-31_15-16-30_e36_roi_17-IDOC_roi_NA'</li><li>'2023-07-31_15-16-30_e36_roi_19-IDOC_roi_NA'</li><li>'2023-07-31_15-16-30_e36_roi_20-IDOC_roi_NA'</li></ol>\n"
      ],
      "text/latex": [
       "\\begin{enumerate*}\n",
       "\\item '2023-07-12\\_14-25-09\\_e36\\_roi\\_11-IDOC\\_roi\\_NA'\n",
       "\\item '2023-07-12\\_14-25-09\\_e36\\_roi\\_12-IDOC\\_roi\\_NA'\n",
       "\\item '2023-07-12\\_14-25-09\\_e36\\_roi\\_13-IDOC\\_roi\\_NA'\n",
       "\\item '2023-07-12\\_14-25-09\\_e36\\_roi\\_14-IDOC\\_roi\\_NA'\n",
       "\\item '2023-07-12\\_14-25-09\\_e36\\_roi\\_15-IDOC\\_roi\\_NA'\n",
       "\\item '2023-07-12\\_14-25-09\\_e36\\_roi\\_16-IDOC\\_roi\\_NA'\n",
       "\\item '2023-07-12\\_14-25-09\\_e36\\_roi\\_17-IDOC\\_roi\\_NA'\n",
       "\\item '2023-07-12\\_14-25-09\\_e36\\_roi\\_18-IDOC\\_roi\\_NA'\n",
       "\\item '2023-07-12\\_14-25-09\\_e36\\_roi\\_19-IDOC\\_roi\\_NA'\n",
       "\\item '2023-07-13\\_16-05-32\\_e36\\_roi\\_11-IDOC\\_roi\\_NA'\n",
       "\\item '2023-07-13\\_16-05-32\\_e36\\_roi\\_12-IDOC\\_roi\\_NA'\n",
       "\\item '2023-07-13\\_16-05-32\\_e36\\_roi\\_13-IDOC\\_roi\\_NA'\n",
       "\\item '2023-07-13\\_16-05-32\\_e36\\_roi\\_14-IDOC\\_roi\\_NA'\n",
       "\\item '2023-07-13\\_16-05-32\\_e36\\_roi\\_15-IDOC\\_roi\\_NA'\n",
       "\\item '2023-07-13\\_16-05-32\\_e36\\_roi\\_16-IDOC\\_roi\\_NA'\n",
       "\\item '2023-07-13\\_16-05-32\\_e36\\_roi\\_17-IDOC\\_roi\\_NA'\n",
       "\\item '2023-07-18\\_15-25-46\\_e42\\_roi\\_11-IDOC\\_roi\\_NA'\n",
       "\\item '2023-07-18\\_15-25-46\\_e42\\_roi\\_12-IDOC\\_roi\\_NA'\n",
       "\\item '2023-07-18\\_15-25-46\\_e42\\_roi\\_13-IDOC\\_roi\\_NA'\n",
       "\\item '2023-07-18\\_15-25-46\\_e42\\_roi\\_14-IDOC\\_roi\\_NA'\n",
       "\\item '2023-07-18\\_15-25-46\\_e42\\_roi\\_15-IDOC\\_roi\\_NA'\n",
       "\\item '2023-07-18\\_15-25-46\\_e42\\_roi\\_16-IDOC\\_roi\\_NA'\n",
       "\\item '2023-07-18\\_15-25-46\\_e42\\_roi\\_17-IDOC\\_roi\\_NA'\n",
       "\\item '2023-07-18\\_15-25-46\\_e42\\_roi\\_18-IDOC\\_roi\\_NA'\n",
       "\\item '2023-07-18\\_15-25-46\\_e42\\_roi\\_19-IDOC\\_roi\\_NA'\n",
       "\\item '2023-07-31\\_15-16-30\\_e36\\_roi\\_11-IDOC\\_roi\\_NA'\n",
       "\\item '2023-07-31\\_15-16-30\\_e36\\_roi\\_13-IDOC\\_roi\\_NA'\n",
       "\\item '2023-07-31\\_15-16-30\\_e36\\_roi\\_15-IDOC\\_roi\\_NA'\n",
       "\\item '2023-07-31\\_15-16-30\\_e36\\_roi\\_17-IDOC\\_roi\\_NA'\n",
       "\\item '2023-07-31\\_15-16-30\\_e36\\_roi\\_19-IDOC\\_roi\\_NA'\n",
       "\\item '2023-07-31\\_15-16-30\\_e36\\_roi\\_20-IDOC\\_roi\\_NA'\n",
       "\\end{enumerate*}\n"
      ],
      "text/markdown": [
       "1. '2023-07-12_14-25-09_e36_roi_11-IDOC_roi_NA'\n",
       "2. '2023-07-12_14-25-09_e36_roi_12-IDOC_roi_NA'\n",
       "3. '2023-07-12_14-25-09_e36_roi_13-IDOC_roi_NA'\n",
       "4. '2023-07-12_14-25-09_e36_roi_14-IDOC_roi_NA'\n",
       "5. '2023-07-12_14-25-09_e36_roi_15-IDOC_roi_NA'\n",
       "6. '2023-07-12_14-25-09_e36_roi_16-IDOC_roi_NA'\n",
       "7. '2023-07-12_14-25-09_e36_roi_17-IDOC_roi_NA'\n",
       "8. '2023-07-12_14-25-09_e36_roi_18-IDOC_roi_NA'\n",
       "9. '2023-07-12_14-25-09_e36_roi_19-IDOC_roi_NA'\n",
       "10. '2023-07-13_16-05-32_e36_roi_11-IDOC_roi_NA'\n",
       "11. '2023-07-13_16-05-32_e36_roi_12-IDOC_roi_NA'\n",
       "12. '2023-07-13_16-05-32_e36_roi_13-IDOC_roi_NA'\n",
       "13. '2023-07-13_16-05-32_e36_roi_14-IDOC_roi_NA'\n",
       "14. '2023-07-13_16-05-32_e36_roi_15-IDOC_roi_NA'\n",
       "15. '2023-07-13_16-05-32_e36_roi_16-IDOC_roi_NA'\n",
       "16. '2023-07-13_16-05-32_e36_roi_17-IDOC_roi_NA'\n",
       "17. '2023-07-18_15-25-46_e42_roi_11-IDOC_roi_NA'\n",
       "18. '2023-07-18_15-25-46_e42_roi_12-IDOC_roi_NA'\n",
       "19. '2023-07-18_15-25-46_e42_roi_13-IDOC_roi_NA'\n",
       "20. '2023-07-18_15-25-46_e42_roi_14-IDOC_roi_NA'\n",
       "21. '2023-07-18_15-25-46_e42_roi_15-IDOC_roi_NA'\n",
       "22. '2023-07-18_15-25-46_e42_roi_16-IDOC_roi_NA'\n",
       "23. '2023-07-18_15-25-46_e42_roi_17-IDOC_roi_NA'\n",
       "24. '2023-07-18_15-25-46_e42_roi_18-IDOC_roi_NA'\n",
       "25. '2023-07-18_15-25-46_e42_roi_19-IDOC_roi_NA'\n",
       "26. '2023-07-31_15-16-30_e36_roi_11-IDOC_roi_NA'\n",
       "27. '2023-07-31_15-16-30_e36_roi_13-IDOC_roi_NA'\n",
       "28. '2023-07-31_15-16-30_e36_roi_15-IDOC_roi_NA'\n",
       "29. '2023-07-31_15-16-30_e36_roi_17-IDOC_roi_NA'\n",
       "30. '2023-07-31_15-16-30_e36_roi_19-IDOC_roi_NA'\n",
       "31. '2023-07-31_15-16-30_e36_roi_20-IDOC_roi_NA'\n",
       "\n",
       "\n"
      ],
      "text/plain": [
       " [1] \"2023-07-12_14-25-09_e36_roi_11-IDOC_roi_NA\"\n",
       " [2] \"2023-07-12_14-25-09_e36_roi_12-IDOC_roi_NA\"\n",
       " [3] \"2023-07-12_14-25-09_e36_roi_13-IDOC_roi_NA\"\n",
       " [4] \"2023-07-12_14-25-09_e36_roi_14-IDOC_roi_NA\"\n",
       " [5] \"2023-07-12_14-25-09_e36_roi_15-IDOC_roi_NA\"\n",
       " [6] \"2023-07-12_14-25-09_e36_roi_16-IDOC_roi_NA\"\n",
       " [7] \"2023-07-12_14-25-09_e36_roi_17-IDOC_roi_NA\"\n",
       " [8] \"2023-07-12_14-25-09_e36_roi_18-IDOC_roi_NA\"\n",
       " [9] \"2023-07-12_14-25-09_e36_roi_19-IDOC_roi_NA\"\n",
       "[10] \"2023-07-13_16-05-32_e36_roi_11-IDOC_roi_NA\"\n",
       "[11] \"2023-07-13_16-05-32_e36_roi_12-IDOC_roi_NA\"\n",
       "[12] \"2023-07-13_16-05-32_e36_roi_13-IDOC_roi_NA\"\n",
       "[13] \"2023-07-13_16-05-32_e36_roi_14-IDOC_roi_NA\"\n",
       "[14] \"2023-07-13_16-05-32_e36_roi_15-IDOC_roi_NA\"\n",
       "[15] \"2023-07-13_16-05-32_e36_roi_16-IDOC_roi_NA\"\n",
       "[16] \"2023-07-13_16-05-32_e36_roi_17-IDOC_roi_NA\"\n",
       "[17] \"2023-07-18_15-25-46_e42_roi_11-IDOC_roi_NA\"\n",
       "[18] \"2023-07-18_15-25-46_e42_roi_12-IDOC_roi_NA\"\n",
       "[19] \"2023-07-18_15-25-46_e42_roi_13-IDOC_roi_NA\"\n",
       "[20] \"2023-07-18_15-25-46_e42_roi_14-IDOC_roi_NA\"\n",
       "[21] \"2023-07-18_15-25-46_e42_roi_15-IDOC_roi_NA\"\n",
       "[22] \"2023-07-18_15-25-46_e42_roi_16-IDOC_roi_NA\"\n",
       "[23] \"2023-07-18_15-25-46_e42_roi_17-IDOC_roi_NA\"\n",
       "[24] \"2023-07-18_15-25-46_e42_roi_18-IDOC_roi_NA\"\n",
       "[25] \"2023-07-18_15-25-46_e42_roi_19-IDOC_roi_NA\"\n",
       "[26] \"2023-07-31_15-16-30_e36_roi_11-IDOC_roi_NA\"\n",
       "[27] \"2023-07-31_15-16-30_e36_roi_13-IDOC_roi_NA\"\n",
       "[28] \"2023-07-31_15-16-30_e36_roi_15-IDOC_roi_NA\"\n",
       "[29] \"2023-07-31_15-16-30_e36_roi_17-IDOC_roi_NA\"\n",
       "[30] \"2023-07-31_15-16-30_e36_roi_19-IDOC_roi_NA\"\n",
       "[31] \"2023-07-31_15-16-30_e36_roi_20-IDOC_roi_NA\""
      ]
     },
     "metadata": {},
     "output_type": "display_data"
    }
   ],
   "source": [
    "metadata_etho[, reference_hour := 11]\n",
    "metadata_etho[, Genotype := \"Iso31\"]\n",
    "metadata_etho$Files"
   ]
  },
  {
   "cell_type": "code",
   "execution_count": 436,
   "id": "4848257e-c87d-4f31-8c41-6603108a4fca",
   "metadata": {},
   "outputs": [],
   "source": [
    "data.table::fwrite(x = metadata_etho, file=\"metadata_etho.csv\")"
   ]
  },
  {
   "cell_type": "code",
   "execution_count": null,
   "id": "55d1c169-dd2f-45c3-9713-d936ab394b1e",
   "metadata": {},
   "outputs": [],
   "source": []
  },
  {
   "cell_type": "code",
   "execution_count": null,
   "id": "efcb1f36-d75c-424e-b2e1-457ed338b4f0",
   "metadata": {},
   "outputs": [],
   "source": []
  },
  {
   "cell_type": "code",
   "execution_count": null,
   "id": "3166db3d-6b82-4325-9637-a860c942d8f4",
   "metadata": {},
   "outputs": [],
   "source": []
  },
  {
   "cell_type": "code",
   "execution_count": null,
   "id": "9f6d2c49-245d-4916-a507-50d6bc1ac270",
   "metadata": {},
   "outputs": [],
   "source": []
  }
 ],
 "metadata": {
  "kernelspec": {
   "display_name": "R42",
   "language": "R",
   "name": "r42"
  },
  "language_info": {
   "codemirror_mode": "r",
   "file_extension": ".r",
   "mimetype": "text/x-r-source",
   "name": "R",
   "pygments_lexer": "r",
   "version": "4.3.3"
  }
 },
 "nbformat": 4,
 "nbformat_minor": 5
}
