{
 "cells": [
  {
   "cell_type": "code",
   "execution_count": 157,
   "id": "0f8fcedf-0683-4157-8e36-9c9ee2b46746",
   "metadata": {},
   "outputs": [],
   "source": [
    "library(readxl)\n",
    "library(data.table)\n",
    "library(ggplot2)\n",
    "library(ggprism)\n",
    "library(ggforce)\n",
    "library(ggetho)\n",
    "library(ggsignif)\n",
    "library(zoo)\n",
    "theme_set(theme_prism(base_size=20))\n",
    "options(repr.plot.width=15, repr.plot.height=15)\n",
    "source(\"R/plot.R\")\n",
    "source(\"R/Cbind.R\")\n",
    "source(\"R/link_idoc_metadata.R\")\n",
    "source(\"R/library.R\")"
   ]
  },
  {
   "cell_type": "markdown",
   "id": "1918fe93-1272-48af-9723-ab909ddb40bd",
   "metadata": {},
   "source": [
    "This notebook reads the IDOC results stored in \"IDOC_METHODS_PAPER_METADATA.xlsx\" and produces a csv file with the data in tidy format\n",
    "\n",
    "* Fly_group_experiment_treatment: experimental information of the fly \n",
    "* fly_name_reference: unique animal identifier, built as follows: date_time(scientist_suffix)_ROI_X\n",
    "* experiment: type of memory evaluated (20min STM, 1h STM, LTM, LTM CHX, ...)\n",
    "* id\n",
    "* test: (PI is read PRE or POST conditioning)\n",
    "* PI: (value of PI)\n",
    "* Training_session: how many times CS-US pairing is presented\n",
    "* Genotype: genotype of the fly\n",
    "* interval: NONE, or ZTX-ZTY if the fly was SD'd between ZT X and ZT Y\n",
    "* ZT4,ZT4.5,ZT5,ZT5.5,ZT6,ZT6.5,ZT7,ZT7.5,ZT8,ZT8.5,ZT9,ZT9.5,ZT10,ZT10.5,ZT11,ZT11.5,ZT12,ZT12.5,ZT13,ZT13.5,ZT14,ZT14.5,ZT15,ZT15.5,ZT16,ZT16.5,ZT17,ZT17.5,ZT18,ZT18.5,ZT19,ZT19.5,ZT20,ZT20.5,ZT21,ZT21.5,ZT22,ZT22.5,ZT23,ZT23.5,ZT24,ZT24.5,ZT25,ZT25.5,ZT26,ZT26.5,ZT27,ZT27.5,ZT28,ZT28.5,ZT29,ZT29.5,ZT30\n",
    "* ZT4_interactions,ZT4.5_interactions,ZT5_interactions,ZT5.5_interactions,ZT6_interactions,ZT6.5_interactions,ZT7_interactions,ZT7.5_interactions,ZT8_interactions,ZT8.5_interactions,ZT9_interactions,ZT9.5_interactions,ZT10_interactions,ZT10.5_interactions,ZT11_interactions,ZT11.5_interactions,ZT12_interactions,ZT12.5_interactions,ZT13_interactions,ZT13.5_interactions,ZT14_interactions,ZT14.5_interactions,ZT15_interactions,ZT15.5_interactions,ZT16_interactions,ZT16.5_interactions,ZT17_interactions,ZT17.5_interactions,ZT18_interactions,ZT18.5_interactions,ZT19_interactions,ZT19.5_interactions,ZT20_interactions,ZT20.5_interactions,ZT21_interactions,ZT21.5_interactions,ZT22_interactions,ZT22.5_interactions,ZT23_interactions,ZT23.5_interactions,ZT24_interactions,ZT24.5_interactions,ZT25_interactions,ZT25.5_interactions,ZT26_interactions,ZT26.5_interactions,ZT27_interactions,ZT27.5_interactions,ZT28_interactions,ZT28.5_interactions,ZT29_interactions,ZT29.5_interactions,ZT30_interactions\n",
    "User\n"
   ]
  },
  {
   "cell_type": "code",
   "execution_count": 158,
   "id": "670a11cc-63b6-4a63-bd41-9ea2d1f63003",
   "metadata": {},
   "outputs": [],
   "source": [
    "database <- \"IDOC_metadata_AOJ - metadata.csv\"\n",
    "metadata_aoj <- data.table::fread(database)[fly_name_reference != \"\" & comment==\"OK\",]\n",
    "metadata_aoj<-metadata_aoj[keep==TRUE,]\n",
    "metadata_aoj<-metadata_aoj[Training%in%c(\"1X\", \"6X_Spaced\", \"6X_Massed\"),]\n",
    "\n",
    "metadata_etho_aoj <- data.table::fread(\"IDOC_metadata_AOJ - ethoscope_LTM.csv\")\n",
    "metadata_aoj <- merge(\n",
    "    metadata_aoj,\n",
    "    metadata_etho_aoj[, .(PRE_ROI, POST_ROI, Files, region_id, date, machine_name, schedule, SD_quality, SD_quality_second_eye, interactor, interactor_time_window, food)],\n",
    "    by=c(\"PRE_ROI\", \"POST_ROI\", \"Files\"),\n",
    "    all=TRUE\n",
    ")\n",
    "metadata_aoj[is.na(food), food := \"NONE\"]"
   ]
  },
  {
   "cell_type": "code",
   "execution_count": 159,
   "id": "2abe1234-3151-492e-970e-8047b085916f",
   "metadata": {},
   "outputs": [
    {
     "data": {
      "text/html": [
       "<table class=\"dataframe\">\n",
       "<caption>A data.table: 8 × 2</caption>\n",
       "<thead>\n",
       "\t<tr><th scope=col>Files</th><th scope=col>N</th></tr>\n",
       "\t<tr><th scope=col>&lt;chr&gt;</th><th scope=col>&lt;int&gt;</th></tr>\n",
       "</thead>\n",
       "<tbody>\n",
       "\t<tr><td>2024-10-09_14-14-49_AOJ_ET_6X_spaced_24hrLTM</td><td>17</td></tr>\n",
       "\t<tr><td>2024-10-12_14-35-24_AOJ_6X_spaced_24hrLTM   </td><td>20</td></tr>\n",
       "\t<tr><td>2024-10-15_14-30-17_AOJ_dnc                 </td><td>20</td></tr>\n",
       "\t<tr><td>2024-10-27_14-09-02_AOJ_Dnc_2U_STM          </td><td>20</td></tr>\n",
       "\t<tr><td>2024-10-24_15-00-38_ET_2U_STM               </td><td>17</td></tr>\n",
       "\t<tr><td>2024-10-25_14-29-40_ET_Dnc_2U_STM           </td><td>15</td></tr>\n",
       "\t<tr><td>2024-10-07_14-42-08_AOJ_6X_spaced_24hrLTM   </td><td>10</td></tr>\n",
       "\t<tr><td>2024-10-23_14-00-48_ET_STM_1xEshock         </td><td>10</td></tr>\n",
       "</tbody>\n",
       "</table>\n"
      ],
      "text/latex": [
       "A data.table: 8 × 2\n",
       "\\begin{tabular}{ll}\n",
       " Files & N\\\\\n",
       " <chr> & <int>\\\\\n",
       "\\hline\n",
       "\t 2024-10-09\\_14-14-49\\_AOJ\\_ET\\_6X\\_spaced\\_24hrLTM & 17\\\\\n",
       "\t 2024-10-12\\_14-35-24\\_AOJ\\_6X\\_spaced\\_24hrLTM    & 20\\\\\n",
       "\t 2024-10-15\\_14-30-17\\_AOJ\\_dnc                  & 20\\\\\n",
       "\t 2024-10-27\\_14-09-02\\_AOJ\\_Dnc\\_2U\\_STM           & 20\\\\\n",
       "\t 2024-10-24\\_15-00-38\\_ET\\_2U\\_STM                & 17\\\\\n",
       "\t 2024-10-25\\_14-29-40\\_ET\\_Dnc\\_2U\\_STM            & 15\\\\\n",
       "\t 2024-10-07\\_14-42-08\\_AOJ\\_6X\\_spaced\\_24hrLTM    & 10\\\\\n",
       "\t 2024-10-23\\_14-00-48\\_ET\\_STM\\_1xEshock          & 10\\\\\n",
       "\\end{tabular}\n"
      ],
      "text/markdown": [
       "\n",
       "A data.table: 8 × 2\n",
       "\n",
       "| Files &lt;chr&gt; | N &lt;int&gt; |\n",
       "|---|---|\n",
       "| 2024-10-09_14-14-49_AOJ_ET_6X_spaced_24hrLTM | 17 |\n",
       "| 2024-10-12_14-35-24_AOJ_6X_spaced_24hrLTM    | 20 |\n",
       "| 2024-10-15_14-30-17_AOJ_dnc                  | 20 |\n",
       "| 2024-10-27_14-09-02_AOJ_Dnc_2U_STM           | 20 |\n",
       "| 2024-10-24_15-00-38_ET_2U_STM                | 17 |\n",
       "| 2024-10-25_14-29-40_ET_Dnc_2U_STM            | 15 |\n",
       "| 2024-10-07_14-42-08_AOJ_6X_spaced_24hrLTM    | 10 |\n",
       "| 2024-10-23_14-00-48_ET_STM_1xEshock          | 10 |\n",
       "\n"
      ],
      "text/plain": [
       "  Files                                        N \n",
       "1 2024-10-09_14-14-49_AOJ_ET_6X_spaced_24hrLTM 17\n",
       "2 2024-10-12_14-35-24_AOJ_6X_spaced_24hrLTM    20\n",
       "3 2024-10-15_14-30-17_AOJ_dnc                  20\n",
       "4 2024-10-27_14-09-02_AOJ_Dnc_2U_STM           20\n",
       "5 2024-10-24_15-00-38_ET_2U_STM                17\n",
       "6 2024-10-25_14-29-40_ET_Dnc_2U_STM            15\n",
       "7 2024-10-07_14-42-08_AOJ_6X_spaced_24hrLTM    10\n",
       "8 2024-10-23_14-00-48_ET_STM_1xEshock          10"
      ]
     },
     "metadata": {},
     "output_type": "display_data"
    }
   ],
   "source": [
    "metadata_aoj[, .N, by=Files]"
   ]
  },
  {
   "cell_type": "code",
   "execution_count": 160,
   "id": "5badf0ae-2713-42e6-89ed-f193b49c6c03",
   "metadata": {},
   "outputs": [
    {
     "name": "stderr",
     "output_type": "stream",
     "text": [
      "Warning message in doTryCatch(return(expr), name, parentenv, handler):\n",
      "“NAs introduced by coercion”\n"
     ]
    },
    {
     "name": "stdout",
     "output_type": "stream",
     "text": [
      "[1] 607\n",
      "[1] 456\n"
     ]
    }
   ],
   "source": [
    "database <- \"/idoc_data/paper/CHuiData.ods\"\n",
    "sheets <- readODS::list_ods_sheets(database)\n",
    "columns <- c(\n",
    "    \"Files\", \"Genotype\", \"PRE_ROI\", \"POST_ROI\", \"Gender\", \"Age\", \"ATR\", \"Training\",\n",
    "    \"Odor\", \"Sugar\", \"Electric shock\",  \"PRE\", \"PRE_1\", \"PRE_2\", \"POST\", \"POST_1\", \"POST_2\",\n",
    "    \"fly_name_reference\", \"experiment\", \"PRE_Count\", \"POST_Count\", \"PRE_Reason\", \"POST_Reason\"\n",
    ")\n",
    "metadata_ch <- read_idoc_metadata(file = database, sheets=sheets, columns = columns, backend=readODS::read_ods)\n",
    "metadata_ch$SD_quality <- \"NONE\"\n",
    "metadata_ch$SD_quality_second_eye <- \"NONE\"\n",
    "metadata_ch$interactor_time_window <- \"No_stimulator\"\n",
    "metadata_ch$interactor <- \"DefaultStimulator\"\n",
    "metadata_ch$`comment on SD` <- NA\n",
    "metadata_ch$User <- \"CH\"\n",
    "metadata_ch$region_id <- \"NONE\"\n",
    "metadata_ch$food <- \"cornmeal\"\n",
    "metadata_ch[!experiment %in% c(\"24hr LTM\", \"24hr LTM CHX\"), food := \"NONE\"]\n",
    "# metadata_ch<-metadata_ch[PRE_Count%in% c(\"V\", \"OK\") & POST_Count %in% c(\"V\", \"OK\"),]\n",
    "# metadata_ch[, PRE_Count:=NULL]\n",
    "# metadata_ch[, POST_Count:=NULL]\n",
    "print(nrow(metadata_ch))\n",
    "valid_comments <- c(\"?\", \"Human-override\", \"Machine-override\", \"AOJ-override\")\n",
    "metadata_ch<-metadata_ch[(is.na(PRE_Reason) | PRE_Reason %in% valid_comments) & (is.na(POST_Reason) | POST_Reason%in% valid_comments), ]\n",
    "print(nrow(metadata_ch))\n"
   ]
  },
  {
   "cell_type": "code",
   "execution_count": 161,
   "id": "47492f1f-dab6-45cb-b16e-268a2147c485",
   "metadata": {},
   "outputs": [
    {
     "data": {
      "text/html": [
       "<style>\n",
       ".list-inline {list-style: none; margin:0; padding: 0}\n",
       ".list-inline>li {display: inline-block}\n",
       ".list-inline>li:not(:last-child)::after {content: \"\\00b7\"; padding: 0 .5ex}\n",
       "</style>\n",
       "<ol class=list-inline><li>'KC_Odor_learning'</li><li>'KC_odor_learning_unpaired'</li><li>'KC_GFP_odor_learning'</li><li>'KC_Odor_LTM'</li><li>'Iso31_Odor_LTM'</li><li>'SPARC_KC_odor_CHX'</li><li>'ISO31_CHX_Odor'</li><li>'Orb2_odor_learning'</li><li>'orb2_mutant_odor_LTM'</li></ol>\n"
      ],
      "text/latex": [
       "\\begin{enumerate*}\n",
       "\\item 'KC\\_Odor\\_learning'\n",
       "\\item 'KC\\_odor\\_learning\\_unpaired'\n",
       "\\item 'KC\\_GFP\\_odor\\_learning'\n",
       "\\item 'KC\\_Odor\\_LTM'\n",
       "\\item 'Iso31\\_Odor\\_LTM'\n",
       "\\item 'SPARC\\_KC\\_odor\\_CHX'\n",
       "\\item 'ISO31\\_CHX\\_Odor'\n",
       "\\item 'Orb2\\_odor\\_learning'\n",
       "\\item 'orb2\\_mutant\\_odor\\_LTM'\n",
       "\\end{enumerate*}\n"
      ],
      "text/markdown": [
       "1. 'KC_Odor_learning'\n",
       "2. 'KC_odor_learning_unpaired'\n",
       "3. 'KC_GFP_odor_learning'\n",
       "4. 'KC_Odor_LTM'\n",
       "5. 'Iso31_Odor_LTM'\n",
       "6. 'SPARC_KC_odor_CHX'\n",
       "7. 'ISO31_CHX_Odor'\n",
       "8. 'Orb2_odor_learning'\n",
       "9. 'orb2_mutant_odor_LTM'\n",
       "\n",
       "\n"
      ],
      "text/plain": [
       "[1] \"KC_Odor_learning\"          \"KC_odor_learning_unpaired\"\n",
       "[3] \"KC_GFP_odor_learning\"      \"KC_Odor_LTM\"              \n",
       "[5] \"Iso31_Odor_LTM\"            \"SPARC_KC_odor_CHX\"        \n",
       "[7] \"ISO31_CHX_Odor\"            \"Orb2_odor_learning\"       \n",
       "[9] \"orb2_mutant_odor_LTM\"     "
      ]
     },
     "metadata": {},
     "output_type": "display_data"
    }
   ],
   "source": [
    "sheets"
   ]
  },
  {
   "cell_type": "code",
   "execution_count": 162,
   "id": "f381f12d-941a-4ba3-9e05-3787b28cdd1c",
   "metadata": {},
   "outputs": [
    {
     "data": {
      "text/plain": [
       "\n",
       "            20min STM    20min STM unpaired              24hr LTM \n",
       "                  148                    60                   120 \n",
       "         24hr LTM CHX 24hr LTM_inconsistent \n",
       "                  122                     6 "
      ]
     },
     "metadata": {},
     "output_type": "display_data"
    }
   ],
   "source": [
    "table(metadata_ch$experiment)"
   ]
  },
  {
   "cell_type": "code",
   "execution_count": 163,
   "id": "cbba2e53-e7b1-4c90-bf6b-2e9070b685f5",
   "metadata": {},
   "outputs": [],
   "source": [
    "database <- \"idoc_metadata.ods\"\n",
    "sheets <- c(\"20min_STM\", \"1hr_STM\", \"3hr_STM\")\n",
    "columns <- c(\n",
    "    \"Files\", \"Genotype\", \"PRE_ROI\", \"POST_ROI\", \"User\", \"fly_name_reference\", \"Gender\", \"Age\", \"ATR\", \"Training\",\n",
    "    \"Odor\", \"Sugar\", \"Electric shock\",  \"PRE\", \"PRE_1\", \"PRE_2\", \"POST\", \"POST_1\", \"POST_2\", \"Keep\",\n",
    "    \"SD_quality\", \"SD_quality_second_eye\", \"interactor_time_window\", \"interactor\", \"comment on SD\", \"experiment\",\n",
    "    \"PRE_Reason\", \"POST_Reason\"\n",
    ")"
   ]
  },
  {
   "cell_type": "markdown",
   "id": "c05faa56-eba9-4067-b9cd-9b6a26a1a302",
   "metadata": {},
   "source": [
    "## Read STM experiments"
   ]
  },
  {
   "cell_type": "code",
   "execution_count": 164,
   "id": "845b6888-24d8-45ad-a6cd-1dbf7fe9a495",
   "metadata": {
    "scrolled": true
   },
   "outputs": [
    {
     "name": "stderr",
     "output_type": "stream",
     "text": [
      "Warning message in doTryCatch(return(expr), name, parentenv, handler):\n",
      "“Deleting 21 42 63 82 103 124 145 166 rows from metadata”\n",
      "Warning message in doTryCatch(return(expr), name, parentenv, handler):\n",
      "“Deleting 21 42 63 rows from metadata”\n",
      "Warning message in doTryCatch(return(expr), name, parentenv, handler):\n",
      "“Deleting 21 42 63 84 105 126 rows from metadata”\n"
     ]
    }
   ],
   "source": [
    "metadata_stm <- read_idoc_metadata(file = database, sheets=sheets, columns = columns, backend=readODS::read_ods)\n",
    "# STM flies don't go to the ethoscope, so region_id is NONE\n",
    "metadata_stm$region_id <- \"NONE\"\n",
    "metadata_stm$food<-\"NONE\"\n"
   ]
  },
  {
   "cell_type": "code",
   "execution_count": 165,
   "id": "fd4a52e1-2f0b-4fc6-8d0f-2d5fd89e6035",
   "metadata": {},
   "outputs": [
    {
     "name": "stderr",
     "output_type": "stream",
     "text": [
      "Warning message in doTryCatch(return(expr), name, parentenv, handler):\n",
      "“NAs introduced by coercion”\n",
      "Warning message in doTryCatch(return(expr), name, parentenv, handler):\n",
      "“NAs introduced by coercion”\n",
      "Warning message in doTryCatch(return(expr), name, parentenv, handler):\n",
      "“Deleting 20 38 58 79 100 117 128 139 150 161 172 183 194 205 216 227 238 249 259 270 281 292 303 304 305 306 307 308 309 310 311 312 313 314 315 316 317 318 319 320 321 322 323 324 325 326 327 328 329 330 331 332 333 334 335 336 337 338 339 340 341 342 343 344 345 346 357 368 379 390 401 rows from metadata”\n"
     ]
    }
   ],
   "source": [
    "metadata_ltm <- read_idoc_metadata(file = database, sheets=c(\"24hr_LTM\"), columns = c(columns, \"date\", \"machine_name\", \"region_id\"), backend=readODS::read_ods)\n",
    "# keep either NS or good SD flies, (discard bad SD flies) \n",
    "metadata_ltm <- metadata_ltm[SD_quality %in% c(\"No_sleep_depriver\", \"good\") & SD_quality_second_eye %in% c(\"No_sleep_depriver\", \"good\"),]\n",
    "metadata_ltm[SD_quality==\"No_sleep_depriver\", SD_quality := \"NONE\"]\n",
    "metadata_ltm[SD_quality_second_eye==\"No_sleep_depriver\", SD_quality_second_eye := \"NONE\"]\n",
    "metadata_ltm$food<-\"sucrose\""
   ]
  },
  {
   "cell_type": "code",
   "execution_count": 166,
   "id": "888b5c2e-7253-4488-99fe-692d405381b2",
   "metadata": {},
   "outputs": [
    {
     "name": "stderr",
     "output_type": "stream",
     "text": [
      "Warning message in doTryCatch(return(expr), name, parentenv, handler):\n",
      "“NAs introduced by coercion”\n",
      "Warning message in doTryCatch(return(expr), name, parentenv, handler):\n",
      "“NAs introduced by coercion”\n",
      "Warning message in doTryCatch(return(expr), name, parentenv, handler):\n",
      "“Deleting 11 22 33 44 55 66 rows from metadata”\n"
     ]
    }
   ],
   "source": [
    "metadata_gtacr <- read_idoc_metadata(file = database, sheets=c(\"24hr_LTM_GTACR\"), columns =  c(columns, \"date\", \"machine_name\", \"region_id\"), backend=readODS::read_ods)\n",
    "metadata_gtacr[SD_quality==\"No_sleep_depriver\", SD_quality := \"NONE\"]\n",
    "metadata_gtacr[SD_quality_second_eye==\"No_sleep_depriver\", SD_quality_second_eye := \"NONE\"]\n",
    "metadata_gtacr$food<-\"sucrose\""
   ]
  },
  {
   "cell_type": "code",
   "execution_count": 167,
   "id": "270d1fd5-a3e2-4f8a-805f-2f5a24cb6c69",
   "metadata": {},
   "outputs": [],
   "source": [
    "metadata <- rbind(\n",
    "    metadata_stm[, .(PRE_Reason, POST_Reason, fly_name_reference, date=NA_character_, reference_hour=NA_real_, machine_name=NA_character_, food, region_id=NA, Files, PRE_ROI, POST_ROI, Genotype, Gender, Age, interactor, interactor_time_window, Training, SD_quality, SD_quality_second_eye, `comment on SD`, User, experiment, PRE_1, PRE_2, PRE, POST_1, POST_2, POST)],\n",
    "    metadata_ltm[, .(PRE_Reason, POST_Reason, fly_name_reference, date=as.character(date), reference_hour=11, machine_name, food, region_id, Files, PRE_ROI, POST_ROI, Genotype, Gender, Age, interactor, interactor_time_window, Training, SD_quality, SD_quality_second_eye, `comment on SD`, User, experiment, PRE_1, PRE_2, PRE, POST_1, POST_2, POST)],\n",
    "    metadata_gtacr[, .(PRE_Reason, POST_Reason, fly_name_reference, date=as.character(date), reference_hour=NA_real_, machine_name, food, region_id, Files, PRE_ROI, POST_ROI, Genotype, Gender, Age, interactor, interactor_time_window, Training, SD_quality, SD_quality_second_eye, `comment on SD`, User, experiment, PRE_1, PRE_2, PRE, POST_1, POST_2, POST)],\n",
    "    metadata_ch[, .(PRE_Reason, POST_Reason, fly_name_reference, date=NA_character_, reference_hour=11, machine_name=NA_character_, food, region_id=NA, Files, PRE_ROI, POST_ROI, Genotype, Gender, Age, interactor, interactor_time_window, Training, SD_quality, SD_quality_second_eye, `comment on SD`, User, experiment, PRE_1, PRE_2, PRE, POST_1, POST_2, POST)],\n",
    "    metadata_aoj[, .(PRE_Reason, POST_Reason, fly_name_reference, date=as.character(date), reference_hour, machine_name, region_id, food, Files, PRE_ROI, POST_ROI, Genotype, Gender, Age, interactor, interactor_time_window, Training, SD_quality, SD_quality_second_eye, `comment on SD`=\"NONE\", User, experiment, PRE_1, PRE_2, PRE, POST_1, POST_2, POST)]\n",
    ")"
   ]
  },
  {
   "cell_type": "code",
   "execution_count": 168,
   "id": "2f2082db-6aa1-4e3e-86c6-da687b6d9e48",
   "metadata": {},
   "outputs": [],
   "source": [
    "metadata[experiment==\"24hr LTM CHX\", experiment := \"24hr LTM CXM\"]"
   ]
  },
  {
   "cell_type": "code",
   "execution_count": 169,
   "id": "99251d58-7030-4cae-bd21-e3435efc99c9",
   "metadata": {},
   "outputs": [],
   "source": [
    "# format interactor time window so it is either NONE or one of the ZTs\n",
    "# generate the column SD_status to summarise SD_quality and SD_quality_second_eye\n",
    "metadata[, SD_status := \"NONE\"]\n",
    "metadata[interactor_time_window!=\"No_stimulator\" & !(SD_quality == \"good\" & SD_quality_second_eye == \"good\"), SD_status := \"bad\"]\n",
    "metadata[SD_quality == \"good\" & SD_quality_second_eye == \"good\", SD_status := \"good\"]\n",
    "# unknown = gtacr flies\n",
    "metadata[SD_quality == \"unknown\" & SD_quality_second_eye == \"unknown\", SD_status := \"unknown\"]\n",
    "\n",
    "metadata[ , interval := interactor_time_window]\n",
    "metadata[ , interactor_time_window := NULL]\n",
    "metadata[, SD_quality := NULL]\n",
    "metadata[, SD_quality_second_eye := NULL]"
   ]
  },
  {
   "cell_type": "code",
   "execution_count": 170,
   "id": "b680b86c-bc32-45c0-9133-1f3c3c81534b",
   "metadata": {},
   "outputs": [],
   "source": [
    "data.table::fwrite(x = metadata, file=\"metadata.csv\")"
   ]
  },
  {
   "cell_type": "code",
   "execution_count": 171,
   "id": "5c1bd4b6-3a09-45e4-b28f-9f6513e29c8b",
   "metadata": {},
   "outputs": [
    {
     "name": "stderr",
     "output_type": "stream",
     "text": [
      "Warning message in doTryCatch(return(expr), name, parentenv, handler):\n",
      "“NAs introduced by coercion”\n",
      "Warning message in doTryCatch(return(expr), name, parentenv, handler):\n",
      "“NAs introduced by coercion”\n",
      "Warning message in doTryCatch(return(expr), name, parentenv, handler):\n",
      "“Deleting 20 38 58 79 100 117 128 139 150 161 172 183 194 205 216 227 238 249 259 270 281 292 303 304 305 306 307 308 309 310 311 312 313 314 315 316 317 318 319 320 321 322 323 324 325 326 327 328 329 330 331 332 333 334 335 336 337 338 339 340 341 342 343 344 345 346 357 368 379 390 401 rows from metadata”\n"
     ]
    }
   ],
   "source": [
    "metadata_etho <- read_idoc_metadata(file = database, sheets=c(\"24hr_LTM\"), columns = c(columns, \"date\", \"machine_name\", \"region_id\"), backend=readODS::read_ods)\n",
    "metadata_etho <- metadata_etho[is.na(PRE_ROI),]"
   ]
  },
  {
   "cell_type": "code",
   "execution_count": 172,
   "id": "0cad8056-5f63-436d-873e-cd75363b3deb",
   "metadata": {},
   "outputs": [],
   "source": [
    "metadata_etho[, reference_hour := 11]\n",
    "metadata_etho[, Genotype := \"Iso31\"]"
   ]
  },
  {
   "cell_type": "code",
   "execution_count": 173,
   "id": "4848257e-c87d-4f31-8c41-6603108a4fca",
   "metadata": {},
   "outputs": [],
   "source": [
    "data.table::fwrite(x = metadata_etho, file=\"metadata_etho.csv\")"
   ]
  },
  {
   "cell_type": "code",
   "execution_count": null,
   "id": "e00cf98b-c5c8-455a-8147-db9e81689ab9",
   "metadata": {},
   "outputs": [],
   "source": []
  },
  {
   "cell_type": "code",
   "execution_count": 174,
   "id": "f304164a-d84a-4d7d-8439-9da8409d6cbf",
   "metadata": {},
   "outputs": [
    {
     "data": {
      "text/plain": [
       "\n",
       "                                               \n",
       "                                           115 \n",
       "                                             ? \n",
       "                                             3 \n",
       "                                  AOJ-override \n",
       "                                             3 \n",
       "                discard due to LTM not working \n",
       "                                            20 \n",
       "                    discard due to LTM working \n",
       "                                            16 \n",
       "                                Human-override \n",
       "                                            51 \n",
       "                       Human-override; discard \n",
       "                                             3 \n",
       "Human-override; discard due to LTM not working \n",
       "                                             1 \n",
       "                                     Left-bias \n",
       "                                             2 \n",
       "                              Machine-override \n",
       "                                            84 \n",
       "                                    Right-bias \n",
       "                                             1 "
      ]
     },
     "metadata": {},
     "output_type": "display_data"
    }
   ],
   "source": [
    "table(metadata$POST_Reason)"
   ]
  },
  {
   "cell_type": "code",
   "execution_count": 175,
   "id": "5231a39c-c3cf-449a-b75b-8b48b74542a3",
   "metadata": {},
   "outputs": [
    {
     "data": {
      "text/html": [
       "1030"
      ],
      "text/latex": [
       "1030"
      ],
      "text/markdown": [
       "1030"
      ],
      "text/plain": [
       "[1] 1030"
      ]
     },
     "metadata": {},
     "output_type": "display_data"
    }
   ],
   "source": [
    "sum(is.na(metadata$POST_Reason))"
   ]
  },
  {
   "cell_type": "code",
   "execution_count": null,
   "id": "dc6e6e93-cc3c-42a2-bc6b-a54c9b4941fc",
   "metadata": {},
   "outputs": [],
   "source": []
  },
  {
   "cell_type": "code",
   "execution_count": null,
   "id": "739ec56d-8277-4797-b434-1ac4d828b46e",
   "metadata": {},
   "outputs": [],
   "source": []
  },
  {
   "cell_type": "code",
   "execution_count": null,
   "id": "0bcb5396-fe2c-4619-81a1-2de82c1f3845",
   "metadata": {},
   "outputs": [],
   "source": []
  }
 ],
 "metadata": {
  "kernelspec": {
   "display_name": "R42",
   "language": "R",
   "name": "r42"
  },
  "language_info": {
   "codemirror_mode": "r",
   "file_extension": ".r",
   "mimetype": "text/x-r-source",
   "name": "R",
   "pygments_lexer": "r",
   "version": "4.3.3"
  }
 },
 "nbformat": 4,
 "nbformat_minor": 5
}
