{
 "cells": [
  {
   "cell_type": "code",
   "execution_count": 1,
   "id": "0f8fcedf-0683-4157-8e36-9c9ee2b46746",
   "metadata": {},
   "outputs": [
    {
     "name": "stderr",
     "output_type": "stream",
     "text": [
      "Loading required package: behavr\n",
      "\n",
      "\n",
      "Attaching package: ‘zoo’\n",
      "\n",
      "\n",
      "The following objects are masked from ‘package:base’:\n",
      "\n",
      "    as.Date, as.Date.numeric\n",
      "\n",
      "\n"
     ]
    }
   ],
   "source": [
    "library(readxl)\n",
    "library(data.table)\n",
    "library(ggplot2)\n",
    "library(ggprism)\n",
    "library(ggforce)\n",
    "library(ggetho)\n",
    "library(ggsignif)\n",
    "library(zoo)\n",
    "library(tidyxl)\n",
    "library(magrittr)\n",
    "theme_set(theme_prism(base_size=20))\n",
    "options(repr.plot.width=15, repr.plot.height=15)"
   ]
  },
  {
   "cell_type": "code",
   "execution_count": 2,
   "id": "cbba2e53-e7b1-4c90-bf6b-2e9070b685f5",
   "metadata": {},
   "outputs": [],
   "source": [
    "idoc_dir <- \"/idoc_data/results/IDOC_001/\"\n",
    "xlsx_file <- \"/idoc_data/poster/IDOC Experiment.xlsx\""
   ]
  },
  {
   "cell_type": "code",
   "execution_count": 3,
   "id": "4781acc6-cd4a-4051-b37c-8c1041a94f94",
   "metadata": {},
   "outputs": [],
   "source": [
    "chui_sheets <- readxl::excel_sheets(xlsx_file)"
   ]
  },
  {
   "cell_type": "code",
   "execution_count": 4,
   "id": "a30d84da-ad2c-4e4f-9ece-3b90ac1106a6",
   "metadata": {},
   "outputs": [],
   "source": [
    "chui_sheets <- chui_sheets[2:length(chui_sheets)]"
   ]
  },
  {
   "cell_type": "code",
   "execution_count": 1113,
   "id": "e5e7c775-d863-4706-9c4c-f87838193b63",
   "metadata": {},
   "outputs": [],
   "source": [
    "# chui_sheets <- c(\"ISO31 CHX Odor\", \"Iso31 Odor LTM\", \"KC GFP odor learning\", \"KC Odor learning\", \"KC odor learning unpaired\", \"KC Odor LTM\", \"orb2 mutant odor LTM\", \"Orb2 odor learning\", \"SPARC KC odor CHX\")"
   ]
  },
  {
   "cell_type": "code",
   "execution_count": 1114,
   "id": "95e61509-8aea-4686-b803-d9fbd327e011",
   "metadata": {},
   "outputs": [],
   "source": [
    "# chui_sheets <- \"Arc1 esm18\""
   ]
  },
  {
   "cell_type": "code",
   "execution_count": 1115,
   "id": "471c0ec1-1c9b-4a55-95fc-5716d53136fc",
   "metadata": {
    "tags": []
   },
   "outputs": [],
   "source": [
    "# for (sheet in chui_sheets) {\n",
    "#     if (length(grep(pattern = \"Odor|odor|Odour|odour\", x = sheet)) > 0) {\n",
    "#         print(paste0(\"Odor -> \", sheet))\n",
    "#     } else if (length(grep(pattern = \"LED|led\", x = sheet)) > 0) {\n",
    "#         print(paste0(\"LED -> \", sheet))\n",
    "#     } else {\n",
    "#         print(paste0(\"Unknown -> \", sheet))\n",
    "#     }\n",
    "# }"
   ]
  },
  {
   "cell_type": "code",
   "execution_count": 1116,
   "id": "e8f632ce-37ed-4c14-b795-352649bba2fb",
   "metadata": {},
   "outputs": [],
   "source": [
    "columns <- c(\"Files\", \"Genotype\", \"ROI\", \"Gender\", \"Age\", \"ATR\", \"Training\", \"Light (627nm)\", \"Drug\", \"Odor\", \"Sugar\", \"Electric shock\", \"Fasting\", \"sheet\", \"row_number\", \"PRE\", \"POST\")"
   ]
  },
  {
   "cell_type": "code",
   "execution_count": 1117,
   "id": "abff85fb-dda8-4226-be38-2f0fd3ae3754",
   "metadata": {},
   "outputs": [],
   "source": [
    "rm(chui_metadata)"
   ]
  },
  {
   "cell_type": "code",
   "execution_count": 1118,
   "id": "abc8abf5-8db2-4251-875c-07609f81e348",
   "metadata": {
    "tags": []
   },
   "outputs": [
    {
     "name": "stderr",
     "output_type": "stream",
     "text": [
      "Warning message in doTryCatch(return(expr), name, parentenv, handler):\n",
      "“NAs introduced by coercion”\n",
      "Warning message in doTryCatch(return(expr), name, parentenv, handler):\n",
      "“NAs introduced by coercion”\n",
      "Warning message:\n",
      "“Expecting numeric in A2 / R2C1: got a date”\n",
      "Warning message:\n",
      "“Expecting numeric in A22 / R22C1: got a date”\n"
     ]
    },
    {
     "name": "stdout",
     "output_type": "stream",
     "text": [
      "<simpleError in FUN(X[[i]], ...): dt[ROI == 1, sum(is.na(Files)) == 0] is not TRUE>\n",
      "[1] \"R45H04 SPACED STM COLD\"\n"
     ]
    }
   ],
   "source": [
    "chui_metadata <- lapply(\n",
    "    chui_sheets,\n",
    "    function(sheet) {\n",
    "        dt <- tryCatch({\n",
    "            dt <- suppressMessages(readxl::read_xlsx(xlsx_file, sheet = sheet))\n",
    "            \n",
    "            first_cell <- unname(unlist(dt[1,1]))\n",
    "\n",
    "            if(!is.na(first_cell) & first_cell  == \"Files\") {\n",
    "                colnames(dt) <- unname(unlist(dt[1,]))                \n",
    "                dt <- dt[2:nrow(dt), ]\n",
    "            }\n",
    "            dt$sheet <- sheet\n",
    "            dt$Files <- as.character(dt$Files)\n",
    "            dt$row_number <- 1:nrow(dt)\n",
    "            dt[which(dt$Files == \"Learning\"),]\n",
    "            dt[which(dt$Files == \"Learning\"), \"Files\"] <- NA\n",
    "            dt <- as.data.table(dt)\n",
    "            \n",
    "            stopifnot(dt[ROI==1, sum(is.na(Files)) == 0])\n",
    "            stopifnot(all(rle(dt$Files)$length < 20))\n",
    "            \n",
    "            dt[, Files := na.locf(Files)]\n",
    "   \n",
    "            \n",
    "            if (all(is.na(dt$Genotype))) {\n",
    "                dt[, Genotype := sheet]\n",
    "            }\n",
    "            dt[, Genotype := na.locf(Genotype)]\n",
    "            \n",
    "            selected_cols <- which(sapply(colnames(dt), function(x) {substr(x, 1, 7) == \"Counted\"}))\n",
    "            dt <- dt[(\n",
    "                sapply(dt[[names(selected_cols[1])]], function(x) x %in% c(\"V\", \"OK\")) &\n",
    "                sapply(dt[[names(selected_cols[2])]], function(x) x %in% c(\"V\", \"OK\"))\n",
    "                    ), ]\n",
    "\n",
    "            pi_cols <- sort(which(sapply(colnames(dt), function(x) {substr(x, 1, 7) == \"Average\"})))\n",
    "            stopifnot(length(pi_cols)==2)\n",
    "            colnames(dt)[pi_cols[1]] <- \"PRE\"\n",
    "            colnames(dt)[pi_cols[2]] <- \"POST\"\n",
    "            dt$POST <- as.numeric(dt$POST)\n",
    "            dt$PRE <- as.numeric(dt$PRE)\n",
    "            dt    \n",
    "            \n",
    "            \n",
    "        }, error = function(e) {\n",
    "            print(e)\n",
    "            print(sheet)\n",
    "            NULL\n",
    "        })\n",
    "        dt\n",
    "        \n",
    "    }\n",
    ")\n"
   ]
  },
  {
   "cell_type": "code",
   "execution_count": 1119,
   "id": "bbe109d4-6211-4292-9f98-029c7570a5b9",
   "metadata": {},
   "outputs": [],
   "source": [
    "names(chui_metadata) <- chui_sheets"
   ]
  },
  {
   "cell_type": "code",
   "execution_count": 1120,
   "id": "e113c384-3614-4928-a68b-46946ca60f39",
   "metadata": {},
   "outputs": [],
   "source": [
    "out0 <- Reduce(x = chui_metadata, f = function(x, y) {\n",
    "    if (is.null(y)) {\n",
    "        x\n",
    "    } else if (nrow(y) == 0) {\n",
    "        x\n",
    "    } else if (\"data.frame\" %in% class(y)) {\n",
    "        new_cols_y <- setdiff(colnames(y), colnames(x))\n",
    "        new_cols_x <- setdiff(colnames(x), colnames(y))\n",
    "        new_header <- unique(c(colnames(x), colnames(y)))\n",
    "\n",
    "        for (col in new_cols_x) {\n",
    "             y[[col]] <- NA\n",
    "        }\n",
    "        for (col in new_cols_y) {\n",
    "             x[[col]] <- NA\n",
    "        }\n",
    "        rbind(x, y)\n",
    "    } else {\n",
    "        x\n",
    "    }\n",
    "})"
   ]
  },
  {
   "cell_type": "code",
   "execution_count": 1121,
   "id": "4c30f496-ed1e-4d64-9a4f-78882c409462",
   "metadata": {},
   "outputs": [],
   "source": [
    "out <- as.data.table(out0[, columns[columns%in%colnames(out0)], with=F])"
   ]
  },
  {
   "cell_type": "code",
   "execution_count": null,
   "id": "9e098d6e-f29d-4f89-bd05-eda1d1cb4dff",
   "metadata": {},
   "outputs": [],
   "source": []
  },
  {
   "cell_type": "code",
   "execution_count": 1122,
   "id": "9c235575-3378-4b41-b966-ce59d98c010c",
   "metadata": {
    "tags": []
   },
   "outputs": [
    {
     "data": {
      "text/html": [
       "44473"
      ],
      "text/latex": [
       "44473"
      ],
      "text/markdown": [
       "44473"
      ],
      "text/plain": [
       "[1] 44473"
      ]
     },
     "metadata": {},
     "output_type": "display_data"
    }
   ],
   "source": [
    "out[Files == \"44597\", \"Files\"] <- as.character(as.Date(44597, origin = \"1899-12-30\"))\n",
    "out[Files == \"44594\", \"Files\"] <- as.character(as.Date(44594, origin = \"1899-12-30\"))\n",
    "out[Files == \"44581\", \"Files\"] <- as.character(as.Date(44581, origin = \"1899-12-30\"))\n",
    "out[Files == \"44565\", \"Files\"] <- as.character(as.Date(44565, origin = \"1899-12-30\"))\n",
    "out[Files == \"44564\", \"Files\"] <- as.character(as.Date(44564, origin = \"1899-12-30\"))\n",
    "out[Files == \"44547\", \"Files\"] <- as.character(as.Date(44547, origin = \"1899-12-30\"))\n",
    "out[Files == \"44538\", \"Files\"] <- as.character(as.Date(44538, origin = \"1899-12-30\"))\n",
    "out[Files == \"44535\", \"Files\"] <- as.character(as.Date(44535, origin = \"1899-12-30\"))\n",
    "out[Files == \"44533\", \"Files\"] <- as.character(as.Date(44533, origin = \"1899-12-30\"))\n",
    "out[Files == \"44200\", \"Files\"] <- as.character(as.Date(44200, origin = \"1899-12-30\"))\n",
    "out[Files == \"44527\", \"Files\"] <- as.character(as.Date(44527, origin = \"1899-12-30\"))\n",
    "out[Files == \"44528\", \"Files\"] <- as.character(as.Date(44528, origin = \"1899-12-30\"))\n",
    "out[Files == \"44532\", \"Files\"] <- as.character(as.Date(44532, origin = \"1899-12-30\"))\n",
    "out[Files == \"44553\", \"Files\"] <- as.character(as.Date(44553, origin = \"1899-12-30\"))\n",
    "out[Files == \"44558\", \"Files\"] <- as.character(as.Date(44558, origin = \"1899-12-30\"))\n",
    "out[Files == \"44503\", \"Files\"] <- as.character(as.Date(44503, origin = \"1899-12-30\"))\n",
    "out[Files == \"44508\", \"Files\"] <- as.character(as.Date(44508, origin = \"1899-12-30\"))\n",
    "\n",
    "out[Files == \"44474\", \"Files\"] <- as.character(as.Date(44474, origin = \"1899-12-30\"))\n",
    "out[Files == \"44475\", \"Files\"] <- as.character(as.Date(44475, origin = \"1899-12-30\"))\n",
    "out[Files == \"44476\", \"Files\"] <- as.character(as.Date(44476, origin = \"1899-12-30\"))\n",
    "out[Files == \"44504\", \"Files\"] <- as.character(as.Date(44504, origin = \"1899-12-30\"))\n",
    "out[Files == \"44498\", \"Files\"] <- as.character(as.Date(44498, origin = \"1899-12-30\"))\n",
    "out[Files == \"44501\", \"Files\"] <- as.character(as.Date(44501, origin = \"1899-12-30\"))\n",
    "\n",
    "out[Files == \"44457\", \"Files\"] <- as.character(as.Date(44457, origin = \"1899-12-30\"))\n",
    "out[Files == \"44552\", \"Files\"] <- as.character(as.Date(44552, origin = \"1899-12-30\"))\n",
    "\n",
    "out[Files == \"44458\", \"Files\"] <- as.character(as.Date(44458, origin = \"1899-12-30\"))\n",
    "out[Files == \"44470\", \"Files\"] <- as.character(as.Date(44470, origin = \"1899-12-30\"))\n",
    "out[Files == \"44473\", \"Files\"] <- as.character(as.Date(44473, origin = \"1899-12-30\"))\n",
    "44473\n",
    "\n",
    "out[Files == \"20220122\", \"Files\"] <- \"2022-01-22\"\n",
    "out[Files == \"2022/0513\", \"Files\"] <- \"2022-05-13\"\n",
    "out[Files == \"2022/0416\", \"Files\"] <- \"2022-04-16\"\n"
   ]
  },
  {
   "cell_type": "code",
   "execution_count": 1123,
   "id": "350157c2-2df4-4598-947a-a2d21f701a6e",
   "metadata": {},
   "outputs": [],
   "source": [
    "metadata <-data.table::copy(out)"
   ]
  },
  {
   "cell_type": "code",
   "execution_count": 1124,
   "id": "cd5196d2-3513-46fe-b4ee-f3838e90394d",
   "metadata": {
    "tags": []
   },
   "outputs": [
    {
     "data": {
      "text/html": [
       "<style>\n",
       ".list-inline {list-style: none; margin:0; padding: 0}\n",
       ".list-inline>li {display: inline-block}\n",
       ".list-inline>li:not(:last-child)::after {content: \"\\00b7\"; padding: 0 .5ex}\n",
       "</style>\n",
       "<ol class=list-inline><li>'2021-11-27 (CH1)'</li><li>'2021-11-28'</li><li>'2021-11-30 (CH)'</li><li>'2021-12-02'</li><li>'2021-12-17 (CH)'</li><li>'2021-12-23'</li><li>'2021-12-28 (CH)'</li></ol>\n"
      ],
      "text/latex": [
       "\\begin{enumerate*}\n",
       "\\item '2021-11-27 (CH1)'\n",
       "\\item '2021-11-28'\n",
       "\\item '2021-11-30 (CH)'\n",
       "\\item '2021-12-02'\n",
       "\\item '2021-12-17 (CH)'\n",
       "\\item '2021-12-23'\n",
       "\\item '2021-12-28 (CH)'\n",
       "\\end{enumerate*}\n"
      ],
      "text/markdown": [
       "1. '2021-11-27 (CH1)'\n",
       "2. '2021-11-28'\n",
       "3. '2021-11-30 (CH)'\n",
       "4. '2021-12-02'\n",
       "5. '2021-12-17 (CH)'\n",
       "6. '2021-12-23'\n",
       "7. '2021-12-28 (CH)'\n",
       "\n",
       "\n"
      ],
      "text/plain": [
       "[1] \"2021-11-27 (CH1)\" \"2021-11-28\"       \"2021-11-30 (CH)\"  \"2021-12-02\"      \n",
       "[5] \"2021-12-17 (CH)\"  \"2021-12-23\"       \"2021-12-28 (CH)\" "
      ]
     },
     "metadata": {},
     "output_type": "display_data"
    }
   ],
   "source": [
    "metadata[sheet == \"ISO31 CHX Odor\", unique(Files)]"
   ]
  },
  {
   "cell_type": "code",
   "execution_count": 1125,
   "id": "da2c4d95-90eb-4b8d-b603-a50935ac8576",
   "metadata": {},
   "outputs": [],
   "source": [
    "metadata <- metadata[-grep(x = metadata$sheet, pattern=\"LED|led\"),]\n",
    "metadata <- metadata[!(sheet == \"Sheet1\"),]\n",
    "metadata <- metadata[!(sheet == \"KC Learning\"),]\n",
    "metadata <- metadata[is.na(`Light (627nm)`) | `Light (627nm)` == \"N\", ]\n",
    "metadata[, `Light (627nm)` := NULL]\n",
    "# metadata <- metadata[is.na(ATR) | ATR == \"N\", ]\n",
    "# metadata[, ATR := NULL]\n",
    "metadata <- metadata[is.na(Sugar) | Sugar == \"N\", ]\n",
    "metadata[, Sugar := NULL]\n",
    "metadata <- metadata[is.na(Fasting) | Fasting == \"N\", ]\n",
    "metadata[, Fasting := NULL]\n",
    "metadata[, `Electric shock` := NULL]\n",
    "metadata[Training==\"Spaced x 6\", Training := \"6X\"]\n",
    "\n",
    "\n",
    "metadata<-metadata[Genotype != \"010B CREB LTM Heat\",]\n",
    "metadata<-metadata[Genotype != \"010B CREB-2b LTM RT\",]\n",
    "metadata<-metadata[Genotype!=\"Radish\",]\n",
    "colnames(metadata)[colnames(metadata) == \"Training\"] <- \"Training_session\"\n",
    "metadata[grep(pattern = \"Orb|orb\", x = Genotype), Genotype := \"orb2\"]"
   ]
  },
  {
   "cell_type": "code",
   "execution_count": 1126,
   "id": "7406d50c-1ee3-47fb-9640-041097f3a17f",
   "metadata": {},
   "outputs": [],
   "source": [
    "metadata<-metadata[!(Files==\"2021-12-17\" & Genotype == \"orb2\"),]"
   ]
  },
  {
   "cell_type": "code",
   "execution_count": 1127,
   "id": "3d3743e7-a9ed-49c7-8165-7f7bf39d3c78",
   "metadata": {},
   "outputs": [],
   "source": [
    "link_idoc_metadata <- function(metadata, result_dir) {\n",
    "\n",
    "    metadata <- data.table::copy(metadata)\n",
    "    metadata <- metadata[order(sheet, Files),]\n",
    "    \n",
    "    metadata[, folder__ := Files]\n",
    "    metadata[, sheet__ := sheet]\n",
    "    \n",
    "    metadata_unique <- metadata[, .SD[1], by=.(Files, sheet)]\n",
    "    \n",
    "    metadata_unique$idoc_folder <- NA_character_\n",
    "    metadata_unique <- metadata_unique[, link_idoc_file(.SD, result_dir=result_dir), by=.(Files, sheet)]\n",
    "\n",
    "    \n",
    "    metadata_linked <- merge(metadata, metadata_unique[, .(Files, sheet, idoc_folder)], by=c(\"Files\", \"sheet\"))\n",
    "\n",
    "    return(metadata_linked)\n",
    "}\n",
    "\n",
    "link_idoc_file <- function(metadata, result_dir) {\n",
    "    # print(paste0(metadata[, .(sheet__, folder__)], collapse=\" \"))\n",
    "    \n",
    "    year <- substr(metadata$folder__, 1, 4)\n",
    "    if (!(year %in% c(\"2021\", \"2022\"))) {\n",
    "        return(NULL)\n",
    "    }\n",
    "    if (year != \"2021\") {\n",
    "        print(metadata)\n",
    "    }\n",
    "    \n",
    "    month <- substr(metadata$folder__, 6, 7)\n",
    "    month_folder <- paste0(year, \"-\", month, \"-idoc_data\")\n",
    "    \n",
    "\n",
    "\n",
    "    x <- file.path(result_dir, month_folder)\n",
    "    month_folders <- list.files(x, full.names = TRUE)\n",
    "    hits <- c()\n",
    "    for (folder in month_folders) {\n",
    "        if (metadata$folder__ == basename(folder)) {\n",
    "            hits <- c(folder)\n",
    "            break\n",
    "        }\n",
    "        \n",
    "        if (length(grep(pattern = metadata$folder__, x = folder)) > 0) {\n",
    "            hits <- c(hits, folder)\n",
    "        }\n",
    "        \n",
    "    }\n",
    "    \n",
    "    out <- data.table::copy(metadata)\n",
    "    \n",
    "    if (length(hits) == 1) {\n",
    "        message(paste0(\"1 hit found for \", metadata$sheet_, \"/\", metadata$folder__))\n",
    "        out[, idoc_folder := hits[1]]\n",
    "    } else if (length(hits) == 0) {\n",
    "        message(paste0(\"0 hits found for \", metadata$sheet_, \"/\",  metadata$folder__))\n",
    "        out[, idoc_folder := NA_character_]\n",
    "    } else {\n",
    "        message(paste0(length(hits), \" hits found for \", metadata$sheet_, \"/\",  metadata$folder__))\n",
    "        print(metadata[, .(sheet__, folder__)])\n",
    "        print(paste0(metadata$folder__, \": \", paste0(hits, collapse=\", \")))\n",
    "        out[, idoc_folder := NA_character_]        \n",
    "    }\n",
    "    return(out)\n",
    "}"
   ]
  },
  {
   "cell_type": "code",
   "execution_count": 1128,
   "id": "0404c49b-d456-4de8-a420-db1a0116ed91",
   "metadata": {},
   "outputs": [
    {
     "data": {
      "text/plain": [
       "Files\n",
       "2021-11-24 2022-06-23 \n",
       "         7         14 "
      ]
     },
     "metadata": {},
     "output_type": "display_data"
    }
   ],
   "source": [
    "metadata[sheet==\"Orb2 odor learning\", table(Files)]"
   ]
  },
  {
   "cell_type": "code",
   "execution_count": 1129,
   "id": "1705524b-e2da-40fd-8bec-ae8dfd0ea56d",
   "metadata": {
    "tags": []
   },
   "outputs": [
    {
     "name": "stderr",
     "output_type": "stream",
     "text": [
      "1 hit found for ISO31 CHX Odor/2021-11-27 (CH1)\n",
      "\n",
      "1 hit found for ISO31 CHX Odor/2021-11-28\n",
      "\n",
      "1 hit found for ISO31 CHX Odor/2021-11-30 (CH)\n",
      "\n",
      "1 hit found for ISO31 CHX Odor/2021-12-02\n",
      "\n",
      "1 hit found for ISO31 CHX Odor/2021-12-17 (CH)\n",
      "\n",
      "0 hits found for ISO31 CHX Odor/2021-12-23\n",
      "\n",
      "1 hit found for ISO31 CHX Odor/2021-12-28 (CH)\n",
      "\n",
      "1 hit found for Iso31 Odor LTM/2021-11-03 (CH1)\n",
      "\n",
      "1 hit found for Iso31 Odor LTM/2021-11-08\n",
      "\n",
      "1 hit found for Iso31 Odor LTM/2021-11-17 (CH)\n",
      "\n",
      "1 hit found for Iso31 Odor LTM/2021-11-17 (CH1)\n",
      "\n",
      "1 hit found for KC GFP odor learning/2021-10-02 (CH)\n",
      "\n",
      "1 hit found for KC GFP odor learning/2021-10-02 (CH1)\n",
      "\n",
      "1 hit found for KC GFP odor learning/2021-10-06 (CH)\n",
      "\n",
      "1 hit found for KC Odor LTM/2021-10-05\n",
      "\n",
      "1 hit found for KC Odor LTM/2021-10-06 (CH)\n",
      "\n",
      "1 hit found for KC Odor LTM/2021-10-06 (CH1)\n",
      "\n",
      "1 hit found for KC Odor LTM/2021-10-07\n",
      "\n",
      "1 hit found for KC Odor LTM/2021-10-27 (CH1)\n",
      "\n",
      "1 hit found for KC Odor LTM/2021-11-04\n",
      "\n",
      "1 hit found for KC Odor learning/2021-09-30 (CH)\n",
      "\n",
      "1 hit found for KC Odor learning/2021-09-30 (CH1)\n",
      "\n",
      "1 hit found for KC Odor learning/2021-10-01 (CH)\n",
      "\n",
      "1 hit found for KC Odor learning/2021-10-01 (CH1)\n",
      "\n",
      "1 hit found for KC Odor learning/2021-10-01 (CH2)\n",
      "\n",
      "1 hit found for KC odor learning unpaired/2021-10-03 (CH)\n",
      "\n",
      "1 hit found for KC odor learning unpaired/2021-10-03 (CH1)\n",
      "\n",
      "1 hit found for KC odor learning unpaired/2021-10-03 (CH2)\n",
      "\n",
      "1 hit found for KC odor learning unpaired/2021-10-04 (CH)\n",
      "\n",
      "1 hit found for KC odor learning unpaired/2021-10-04 (CH1)\n",
      "\n",
      "1 hit found for Orb2 odor learning/2021-11-24\n",
      "\n"
     ]
    },
    {
     "name": "stdout",
     "output_type": "stream",
     "text": [
      "   Genotype ROI Gender Age ATR Training_session Drug Odor row_number   PRE POST\n",
      "1:     orb2   1      F   4   N               1X <NA>  OCT         11 0.125    0\n",
      "     folder__            sheet__ idoc_folder\n",
      "1: 2022-06-23 Orb2 odor learning        <NA>\n"
     ]
    },
    {
     "name": "stderr",
     "output_type": "stream",
     "text": [
      "3 hits found for Orb2 odor learning/2022-06-23\n",
      "\n"
     ]
    },
    {
     "name": "stdout",
     "output_type": "stream",
     "text": [
      "              sheet__   folder__\n",
      "1: Orb2 odor learning 2022-06-23\n",
      "[1] \"2022-06-23: /idoc_data/IDOC/2022-06-idoc_data/2022-06-23_00-00-00(CH), /idoc_data/IDOC/2022-06-idoc_data/2022-06-23_11-59-19(ESB1), /idoc_data/IDOC/2022-06-idoc_data/2022-06-23_13-57-14(ESB2)\"\n"
     ]
    },
    {
     "name": "stderr",
     "output_type": "stream",
     "text": [
      "1 hit found for SPARC KC odor CHX/2021-10-27 (CH)\n",
      "\n",
      "1 hit found for SPARC KC odor CHX/2021-10-29\n",
      "\n",
      "1 hit found for SPARC KC odor CHX/2021-11-01 (CH)\n",
      "\n",
      "1 hit found for SPARC KC odor CHX/2021-11-01 (CH1)\n",
      "\n",
      "1 hit found for orb2 mutant odor LTM/2021-12-03 (CH)\n",
      "\n",
      "1 hit found for orb2 mutant odor LTM/2021-12-05 (CH)\n",
      "\n",
      "1 hit found for orb2 mutant odor LTM/2021-12-08 (CH)\n",
      "\n",
      "1 hit found for orb2 mutant odor LTM/2021-12-22 (CH1)\n",
      "\n"
     ]
    },
    {
     "name": "stdout",
     "output_type": "stream",
     "text": [
      "   Genotype ROI Gender Age ATR Training_session Drug Odor row_number PRE POST\n",
      "1:     orb2   4      F   4   N               6X    N  OCT         61   0 -0.3\n",
      "     folder__              sheet__ idoc_folder\n",
      "1: 2022-01-03 orb2 mutant odor LTM        <NA>\n"
     ]
    },
    {
     "name": "stderr",
     "output_type": "stream",
     "text": [
      "3 hits found for orb2 mutant odor LTM/2022-01-03\n",
      "\n"
     ]
    },
    {
     "name": "stdout",
     "output_type": "stream",
     "text": [
      "                sheet__   folder__\n",
      "1: orb2 mutant odor LTM 2022-01-03\n",
      "[1] \"2022-01-03: /idoc_data/IDOC/2022-01-idoc_data/2022-01-03 (CH), /idoc_data/IDOC/2022-01-idoc_data/2022-01-03 (CH1), /idoc_data/IDOC/2022-01-idoc_data/2022-01-03 (CH2)\"\n"
     ]
    }
   ],
   "source": [
    "metadata_linked <- link_idoc_metadata(metadata, result_dir=\"/idoc_data/IDOC\")"
   ]
  },
  {
   "cell_type": "code",
   "execution_count": 1130,
   "id": "7f9e022a-149a-44d5-a497-5b66a6441727",
   "metadata": {
    "tags": []
   },
   "outputs": [],
   "source": [
    "# the folder is missing but we have the PIs in CH spreadsheet\n",
    "# I assign an idoc_folder here manually to prevent it from being removed\n",
    "# All other flies without a matching IDOC folder will be removed\n",
    "metadata_linked[Files == \"2021-12-23\", idoc_folder := \"2021-12-23\"]\n",
    "metadata_linked[Files == \"2021-11-28\", idoc_folder := \"2021-11-28\"]\n"
   ]
  },
  {
   "cell_type": "code",
   "execution_count": 1131,
   "id": "4bc7290a-fac2-493a-9168-2e4054d5fc90",
   "metadata": {},
   "outputs": [
    {
     "data": {
      "text/html": [
       "0.0658307210031348"
      ],
      "text/latex": [
       "0.0658307210031348"
      ],
      "text/markdown": [
       "0.0658307210031348"
      ],
      "text/plain": [
       "[1] 0.06583072"
      ]
     },
     "metadata": {},
     "output_type": "display_data"
    }
   ],
   "source": [
    "mean(is.na(metadata_linked$idoc_folder))"
   ]
  },
  {
   "cell_type": "code",
   "execution_count": 1132,
   "id": "c229df73-2af8-46f5-9d10-5c9bf0f49ab2",
   "metadata": {},
   "outputs": [],
   "source": [
    "# metadata_linked <- metadata_linked[!is.na(idoc_folder),]"
   ]
  },
  {
   "cell_type": "code",
   "execution_count": 1133,
   "id": "53a9a4f1-105c-4894-971c-ac799c05729d",
   "metadata": {
    "tags": []
   },
   "outputs": [
    {
     "data": {
      "text/plain": [
       "sheet\n",
       "           ISO31 CHX Odor            Iso31 Odor LTM      KC GFP odor learning \n",
       "                       38                        31                        38 \n",
       "         KC Odor learning KC odor learning unpaired               KC Odor LTM \n",
       "                       60                        54                        31 \n",
       "     orb2 mutant odor LTM        Orb2 odor learning         SPARC KC odor CHX \n",
       "                       21                        21                        25 "
      ]
     },
     "metadata": {},
     "output_type": "display_data"
    }
   ],
   "source": [
    "metadata_linked[, table(sheet)]"
   ]
  },
  {
   "cell_type": "code",
   "execution_count": null,
   "id": "01c6953a-5ca9-4c79-b26a-f932ddd75be2",
   "metadata": {},
   "outputs": [],
   "source": []
  },
  {
   "cell_type": "code",
   "execution_count": 1134,
   "id": "2b39590c-518e-4c28-835a-6c9fc8e49a65",
   "metadata": {},
   "outputs": [],
   "source": [
    "metadata_linked[, experiment := NA_character_]"
   ]
  },
  {
   "cell_type": "code",
   "execution_count": 1135,
   "id": "f5cceef2-9d2a-473f-aab1-c0e33403b9de",
   "metadata": {},
   "outputs": [],
   "source": [
    "metadata_linked[grep(x = sheet, pattern=\"LTM\"), experiment := \"LTM\"]"
   ]
  },
  {
   "cell_type": "code",
   "execution_count": 1136,
   "id": "2cb8f53f-1649-4407-9a80-1ac7824202cd",
   "metadata": {},
   "outputs": [],
   "source": [
    "metadata_linked[grep(x = sheet, pattern=\"CHX\"), experiment := \"LTM CHX\"]"
   ]
  },
  {
   "cell_type": "code",
   "execution_count": 1137,
   "id": "04354644-6e23-48ba-ba95-ed3e7d066fb6",
   "metadata": {},
   "outputs": [],
   "source": [
    "metadata_linked[grep(x = sheet, pattern=\"learning\"), experiment := \"20min STM\"]\n",
    "metadata_linked$Pairing <- \"Paired\"\n",
    "metadata_linked[grep(x = sheet, pattern=\"learning unpaired\"), experiment := \"20min STM unpaired\"]\n",
    "metadata_linked[grep(x = sheet, pattern=\"learning unpaired\"), Pairing := \"unpaired\"]"
   ]
  },
  {
   "cell_type": "code",
   "execution_count": 1138,
   "id": "8d93b81e-cac6-4c9b-b52e-35e8d35a6b2d",
   "metadata": {},
   "outputs": [
    {
     "data": {
      "text/plain": [
       "\n",
       "         20min STM 20min STM unpaired                LTM            LTM CHX \n",
       "               119                 54                 83                 63 "
      ]
     },
     "metadata": {},
     "output_type": "display_data"
    }
   ],
   "source": [
    "table(metadata_linked$experiment)"
   ]
  },
  {
   "cell_type": "code",
   "execution_count": 1139,
   "id": "54230715-dbaf-4b7b-9432-4f167cb0f831",
   "metadata": {},
   "outputs": [
    {
     "data": {
      "text/html": [
       "0"
      ],
      "text/latex": [
       "0"
      ],
      "text/markdown": [
       "0"
      ],
      "text/plain": [
       "[1] 0"
      ]
     },
     "metadata": {},
     "output_type": "display_data"
    }
   ],
   "source": [
    "mean(is.na(metadata_linked$experiment))"
   ]
  },
  {
   "cell_type": "code",
   "execution_count": 1140,
   "id": "36741020-aa80-4a69-b385-8329ff6bc6e8",
   "metadata": {},
   "outputs": [
    {
     "data": {
      "text/plain": [
       "\n",
       "                        Iso31 MB010B.(II)SPARC-Chrimson ISO \n",
       "                           69                           170 \n",
       "     MB010B.(II)SPARC-GFP ISO                          orb2 \n",
       "                           38                            42 "
      ]
     },
     "metadata": {},
     "output_type": "display_data"
    }
   ],
   "source": [
    "table(metadata_linked$Genotype)"
   ]
  },
  {
   "cell_type": "code",
   "execution_count": 1141,
   "id": "4eb1b7a2-07e3-4cbb-a6a4-b46fd14cf2eb",
   "metadata": {},
   "outputs": [
    {
     "data": {
      "text/html": [
       "0"
      ],
      "text/latex": [
       "0"
      ],
      "text/markdown": [
       "0"
      ],
      "text/plain": [
       "[1] 0"
      ]
     },
     "metadata": {},
     "output_type": "display_data"
    }
   ],
   "source": [
    "mean(is.na(metadata_linked$Genotype))"
   ]
  },
  {
   "cell_type": "code",
   "execution_count": 1142,
   "id": "43839427-f138-43bc-a2fd-dedf3b2c0a12",
   "metadata": {},
   "outputs": [],
   "source": [
    "metadata_linked[, fly_name_reference := paste0(basename(idoc_folder), \"_ROI_\", ROI)]"
   ]
  },
  {
   "cell_type": "code",
   "execution_count": 1143,
   "id": "2a152369-5fe4-4499-a0f7-fde39451307d",
   "metadata": {},
   "outputs": [],
   "source": [
    "metadata_linked[, Fly_group_experiment_treatment := paste0(Genotype, experiment, \"_\", Odor, \"_Csplus_EShock_US_\", Pairing, \"_\", Training_session, \"_ETHOSCOPE_NO\")]"
   ]
  },
  {
   "cell_type": "code",
   "execution_count": 1144,
   "id": "b07aae7c-be66-460f-ab79-a704f4aa01a1",
   "metadata": {},
   "outputs": [
    {
     "data": {
      "text/html": [
       "<style>\n",
       ".list-inline {list-style: none; margin:0; padding: 0}\n",
       ".list-inline>li {display: inline-block}\n",
       ".list-inline>li:not(:last-child)::after {content: \"\\00b7\"; padding: 0 .5ex}\n",
       "</style>\n",
       "<ol class=list-inline><li>'Files'</li><li>'sheet'</li><li>'Genotype'</li><li>'ROI'</li><li>'Gender'</li><li>'Age'</li><li>'ATR'</li><li>'Training_session'</li><li>'Drug'</li><li>'Odor'</li><li>'row_number'</li><li>'PRE'</li><li>'POST'</li><li>'folder__'</li><li>'sheet__'</li><li>'idoc_folder'</li><li>'experiment'</li><li>'Pairing'</li><li>'fly_name_reference'</li><li>'Fly_group_experiment_treatment'</li></ol>\n"
      ],
      "text/latex": [
       "\\begin{enumerate*}\n",
       "\\item 'Files'\n",
       "\\item 'sheet'\n",
       "\\item 'Genotype'\n",
       "\\item 'ROI'\n",
       "\\item 'Gender'\n",
       "\\item 'Age'\n",
       "\\item 'ATR'\n",
       "\\item 'Training\\_session'\n",
       "\\item 'Drug'\n",
       "\\item 'Odor'\n",
       "\\item 'row\\_number'\n",
       "\\item 'PRE'\n",
       "\\item 'POST'\n",
       "\\item 'folder\\_\\_'\n",
       "\\item 'sheet\\_\\_'\n",
       "\\item 'idoc\\_folder'\n",
       "\\item 'experiment'\n",
       "\\item 'Pairing'\n",
       "\\item 'fly\\_name\\_reference'\n",
       "\\item 'Fly\\_group\\_experiment\\_treatment'\n",
       "\\end{enumerate*}\n"
      ],
      "text/markdown": [
       "1. 'Files'\n",
       "2. 'sheet'\n",
       "3. 'Genotype'\n",
       "4. 'ROI'\n",
       "5. 'Gender'\n",
       "6. 'Age'\n",
       "7. 'ATR'\n",
       "8. 'Training_session'\n",
       "9. 'Drug'\n",
       "10. 'Odor'\n",
       "11. 'row_number'\n",
       "12. 'PRE'\n",
       "13. 'POST'\n",
       "14. 'folder__'\n",
       "15. 'sheet__'\n",
       "16. 'idoc_folder'\n",
       "17. 'experiment'\n",
       "18. 'Pairing'\n",
       "19. 'fly_name_reference'\n",
       "20. 'Fly_group_experiment_treatment'\n",
       "\n",
       "\n"
      ],
      "text/plain": [
       " [1] \"Files\"                          \"sheet\"                         \n",
       " [3] \"Genotype\"                       \"ROI\"                           \n",
       " [5] \"Gender\"                         \"Age\"                           \n",
       " [7] \"ATR\"                            \"Training_session\"              \n",
       " [9] \"Drug\"                           \"Odor\"                          \n",
       "[11] \"row_number\"                     \"PRE\"                           \n",
       "[13] \"POST\"                           \"folder__\"                      \n",
       "[15] \"sheet__\"                        \"idoc_folder\"                   \n",
       "[17] \"experiment\"                     \"Pairing\"                       \n",
       "[19] \"fly_name_reference\"             \"Fly_group_experiment_treatment\""
      ]
     },
     "metadata": {},
     "output_type": "display_data"
    }
   ],
   "source": [
    "colnames(metadata_linked)"
   ]
  },
  {
   "cell_type": "code",
   "execution_count": 1145,
   "id": "2a41551e-dac5-47e4-97b3-2264727fe86d",
   "metadata": {
    "tags": []
   },
   "outputs": [],
   "source": [
    "read_pi <- function(path, roi) {\n",
    "   pis <- data.table::fread(path)[aversive + apetitive >= 3,]\n",
    "   pi <- pis[region_id == roi, preference_index]\n",
    "   if (length(pi) == 0) {\n",
    "       pi <- NA\n",
    "   }\n",
    "   return(pi)\n",
    "    \n",
    "}\n",
    "\n",
    "load_chui_data <- function(metadata, ncores=1) {\n",
    "    data <- do.call(rbind, parallel::mclapply(1:nrow(metadata), function(i) {\n",
    "       meta <- metadata[i, ]\n",
    "       region_id <- meta$ROI\n",
    "       subexperiments <- sort(list.files(meta$idoc_folder, full.names = TRUE))\n",
    "       pre_data <- subexperiments[1]\n",
    "       post_data <- subexperiments[length(subexperiments)]\n",
    "       pre_pi_file <- list.files(pre_data, pattern = \"_PI.csv\", full.names = TRUE)\n",
    "       post_pi_file <- list.files(post_data, pattern = \"_PI.csv\", full.names = TRUE)\n",
    "       \n",
    "       if (length(pre_pi_file) != 1) {\n",
    "           warning(paste0(\"Cannot find PRE for \", meta$idoc_folder, \"_ROI_\", region_id))\n",
    "           return(NULL)\n",
    "       }\n",
    "       if (length(post_pi_file) != 1) {\n",
    "           warning(paste0(\"Cannot find POST for \", meta$idoc_folder, \"_ROI_\", region_id))\n",
    "           return(NULL)\n",
    "       }\n",
    "                \n",
    "       meta$PRE <- read_pi(pre_pi_file, region_id)\n",
    "       meta$POST <- read_pi(post_pi_file, region_id)\n",
    "       meta\n",
    "    }, mc.cores=ncores))\n",
    "    return(data)    \n",
    "}"
   ]
  },
  {
   "cell_type": "code",
   "execution_count": 1146,
   "id": "0f0d58ea-f100-4996-9c88-1ac40af5a8e3",
   "metadata": {},
   "outputs": [],
   "source": [
    "metadata_linked$Training_session <- gsub(pattern = \"6X\", replacement = \"6X_Spaced\", x = metadata_linked$Training_session)"
   ]
  },
  {
   "cell_type": "code",
   "execution_count": 1147,
   "id": "13c9e3da-2b14-4443-9cb5-f31d403a61f2",
   "metadata": {},
   "outputs": [
    {
     "data": {
      "text/plain": [
       "\n",
       "           ISO31 CHX Odor            Iso31 Odor LTM      KC GFP odor learning \n",
       "                       38                        31                        38 \n",
       "         KC Odor learning KC odor learning unpaired               KC Odor LTM \n",
       "                       60                        54                        31 \n",
       "     orb2 mutant odor LTM        Orb2 odor learning         SPARC KC odor CHX \n",
       "                       21                        21                        25 "
      ]
     },
     "metadata": {},
     "output_type": "display_data"
    }
   ],
   "source": [
    "table(metadata_linked$sheet)"
   ]
  },
  {
   "cell_type": "code",
   "execution_count": 1148,
   "id": "cc9b55df-fc61-4006-b076-b8c812868557",
   "metadata": {
    "tags": []
   },
   "outputs": [],
   "source": [
    "# metadata_linked[Genotype==\"orb2\" & experiment == \"LTM\",]"
   ]
  },
  {
   "cell_type": "code",
   "execution_count": 1149,
   "id": "d34d8d3f-a2ec-4993-b2bc-f4a01a584c42",
   "metadata": {},
   "outputs": [
    {
     "data": {
      "text/plain": [
       "sheet\n",
       "Iso31 Odor LTM \n",
       "            31 "
      ]
     },
     "metadata": {},
     "output_type": "display_data"
    }
   ],
   "source": [
    "metadata_linked[Genotype==\"Iso31\" & experiment == \"LTM\", table(sheet)]"
   ]
  },
  {
   "cell_type": "code",
   "execution_count": 1150,
   "id": "097b68df-b117-4a6e-bf48-7d3dcefc6a20",
   "metadata": {},
   "outputs": [
    {
     "data": {
      "text/plain": [
       "sheet\n",
       "ISO31 CHX Odor \n",
       "            38 "
      ]
     },
     "metadata": {},
     "output_type": "display_data"
    }
   ],
   "source": [
    "metadata_linked[Genotype==\"Iso31\" & experiment == \"LTM CHX\", table(sheet)]"
   ]
  },
  {
   "cell_type": "code",
   "execution_count": 1151,
   "id": "7010bf64-9b88-45ce-8bee-af554a293ed7",
   "metadata": {
    "tags": []
   },
   "outputs": [],
   "source": [
    "# use raw csv\n",
    "# data <- load_chui_data(metadata_linked)\n",
    "# use chui annotation in excel file\n",
    "data <- data.table::copy(metadata_linked)"
   ]
  },
  {
   "cell_type": "code",
   "execution_count": 1152,
   "id": "cd19cac4-2895-4ce0-8819-91a4b8774603",
   "metadata": {},
   "outputs": [],
   "source": [
    "data <- data[!is.na(PRE) & !is.na(POST),] "
   ]
  },
  {
   "cell_type": "code",
   "execution_count": 1153,
   "id": "3d5d1399-249b-4f07-925f-3d1b6545c4bc",
   "metadata": {},
   "outputs": [
    {
     "data": {
      "text/html": [
       "318"
      ],
      "text/latex": [
       "318"
      ],
      "text/markdown": [
       "318"
      ],
      "text/plain": [
       "[1] 318"
      ]
     },
     "metadata": {},
     "output_type": "display_data"
    }
   ],
   "source": [
    "nrow(data)"
   ]
  },
  {
   "cell_type": "code",
   "execution_count": 1154,
   "id": "69365091-883f-43b0-81fa-f4a5ca541beb",
   "metadata": {},
   "outputs": [],
   "source": [
    "#data <- data[abs(PRE) < 0.2,]"
   ]
  },
  {
   "cell_type": "code",
   "execution_count": 1155,
   "id": "b1a19fa3-3e0f-4b33-a145-4a533c4d1742",
   "metadata": {},
   "outputs": [
    {
     "data": {
      "text/html": [
       "318"
      ],
      "text/latex": [
       "318"
      ],
      "text/markdown": [
       "318"
      ],
      "text/plain": [
       "[1] 318"
      ]
     },
     "metadata": {},
     "output_type": "display_data"
    }
   ],
   "source": [
    "nrow(data)"
   ]
  },
  {
   "cell_type": "code",
   "execution_count": 1156,
   "id": "97cee849-c669-4632-8ded-43c6bdc8c8fa",
   "metadata": {},
   "outputs": [],
   "source": [
    "zts <- paste0(\"ZT\", seq(4, 30, 0.5))\n",
    "for (zt in zts) {\n",
    "    data[[zt]] <- NA\n",
    "}\n",
    "for (zt in zts) {\n",
    "    data[[paste0(zt, \"_interactions\")]] <- NA\n",
    "}"
   ]
  },
  {
   "cell_type": "code",
   "execution_count": 1157,
   "id": "a95e7be0-70bc-4e1a-9ffb-e1f80110a820",
   "metadata": {},
   "outputs": [],
   "source": [
    "data$id <- 1:nrow(data)"
   ]
  },
  {
   "cell_type": "code",
   "execution_count": 1158,
   "id": "04c55ee3-5e55-4489-b4b5-8c36d3ad3aba",
   "metadata": {},
   "outputs": [],
   "source": [
    "data$interval <- \"NONE\""
   ]
  },
  {
   "cell_type": "code",
   "execution_count": 1159,
   "id": "6c25f1ba-6319-41de-915e-452f5a9f4c11",
   "metadata": {},
   "outputs": [],
   "source": [
    "data <- melt(data, value.name = \"PI\", measure.vars = c(\"PRE\", \"POST\"), variable.name = \"test\")"
   ]
  },
  {
   "cell_type": "code",
   "execution_count": 1160,
   "id": "ac9f2ffc-4e03-43d4-b5d2-fb3b0da772e1",
   "metadata": {},
   "outputs": [
    {
     "name": "stderr",
     "output_type": "stream",
     "text": [
      "Warning message in cbind(parts$left, chars$ellip_h, parts$right, deparse.level = 0L):\n",
      "“number of rows of result is not a multiple of vector length (arg 2)”\n",
      "Warning message in cbind(parts$left, chars$ellip_h, parts$right, deparse.level = 0L):\n",
      "“number of rows of result is not a multiple of vector length (arg 2)”\n",
      "Warning message in cbind(parts$left, chars$ellip_h, parts$right, deparse.level = 0L):\n",
      "“number of rows of result is not a multiple of vector length (arg 2)”\n",
      "Warning message in cbind(parts$left, chars$ellip_h, parts$right, deparse.level = 0L):\n",
      "“number of rows of result is not a multiple of vector length (arg 2)”\n"
     ]
    },
    {
     "data": {
      "text/html": [
       "<table class=\"dataframe\">\n",
       "<caption>A data.table: 0 × 128</caption>\n",
       "<thead>\n",
       "\t<tr><th scope=col>Files</th><th scope=col>sheet</th><th scope=col>Genotype</th><th scope=col>ROI</th><th scope=col>Gender</th><th scope=col>Age</th><th scope=col>ATR</th><th scope=col>Training_session</th><th scope=col>Drug</th><th scope=col>Odor</th><th scope=col>⋯</th><th scope=col>ZT27.5_interactions</th><th scope=col>ZT28_interactions</th><th scope=col>ZT28.5_interactions</th><th scope=col>ZT29_interactions</th><th scope=col>ZT29.5_interactions</th><th scope=col>ZT30_interactions</th><th scope=col>id</th><th scope=col>interval</th><th scope=col>test</th><th scope=col>PI</th></tr>\n",
       "\t<tr><th scope=col>&lt;chr&gt;</th><th scope=col>&lt;chr&gt;</th><th scope=col>&lt;chr&gt;</th><th scope=col>&lt;dbl&gt;</th><th scope=col>&lt;chr&gt;</th><th scope=col>&lt;dbl&gt;</th><th scope=col>&lt;chr&gt;</th><th scope=col>&lt;chr&gt;</th><th scope=col>&lt;chr&gt;</th><th scope=col>&lt;chr&gt;</th><th scope=col>⋯</th><th scope=col>&lt;lgl&gt;</th><th scope=col>&lt;lgl&gt;</th><th scope=col>&lt;lgl&gt;</th><th scope=col>&lt;lgl&gt;</th><th scope=col>&lt;lgl&gt;</th><th scope=col>&lt;lgl&gt;</th><th scope=col>&lt;int&gt;</th><th scope=col>&lt;chr&gt;</th><th scope=col>&lt;fct&gt;</th><th scope=col>&lt;dbl&gt;</th></tr>\n",
       "</thead>\n",
       "<tbody>\n",
       "</tbody>\n",
       "</table>\n"
      ],
      "text/latex": [
       "A data.table: 0 × 128\n",
       "\\begin{tabular}{lllllllllllllllllllll}\n",
       " Files & sheet & Genotype & ROI & Gender & Age & ATR & Training\\_session & Drug & Odor & ⋯ & ZT27.5\\_interactions & ZT28\\_interactions & ZT28.5\\_interactions & ZT29\\_interactions & ZT29.5\\_interactions & ZT30\\_interactions & id & interval & test & PI\\\\\n",
       " <chr> & <chr> & <chr> & <dbl> & <chr> & <dbl> & <chr> & <chr> & <chr> & <chr> & ⋯ & <lgl> & <lgl> & <lgl> & <lgl> & <lgl> & <lgl> & <int> & <chr> & <fct> & <dbl>\\\\\n",
       "\\hline\n",
       "\\end{tabular}\n"
      ],
      "text/markdown": [
       "\n",
       "A data.table: 0 × 128\n",
       "\n",
       "| Files &lt;chr&gt; | sheet &lt;chr&gt; | Genotype &lt;chr&gt; | ROI &lt;dbl&gt; | Gender &lt;chr&gt; | Age &lt;dbl&gt; | ATR &lt;chr&gt; | Training_session &lt;chr&gt; | Drug &lt;chr&gt; | Odor &lt;chr&gt; | ⋯ ⋯ | ZT27.5_interactions &lt;lgl&gt; | ZT28_interactions &lt;lgl&gt; | ZT28.5_interactions &lt;lgl&gt; | ZT29_interactions &lt;lgl&gt; | ZT29.5_interactions &lt;lgl&gt; | ZT30_interactions &lt;lgl&gt; | id &lt;int&gt; | interval &lt;chr&gt; | test &lt;fct&gt; | PI &lt;dbl&gt; |\n",
       "|---|---|---|---|---|---|---|---|---|---|---|---|---|---|---|---|---|---|---|---|---|\n",
       "\n"
      ],
      "text/plain": [
       "     Files sheet Genotype ROI Gender Age ATR Training_session Drug Odor ⋯\n",
       "     ZT27.5_interactions ZT28_interactions ZT28.5_interactions\n",
       "     ZT29_interactions ZT29.5_interactions ZT30_interactions id interval test\n",
       "     PI"
      ]
     },
     "metadata": {},
     "output_type": "display_data"
    }
   ],
   "source": [
    "data[abs(PI)>1,]"
   ]
  },
  {
   "cell_type": "code",
   "execution_count": 1161,
   "id": "3b90c444-156b-4d8d-9311-c3112f71cedc",
   "metadata": {
    "tags": []
   },
   "outputs": [],
   "source": [
    "# panel1_data <- data[interval==\"NONE\" & experiment %in% c(\"20min STM\") & Genotype %in% c(\"Iso31\", \"MB010B.(II)SPARC-Chrimson ISO\", \"MB010B.(II)SPARC-GFP ISO\"),]\n",
    "# panel1_data <- panel1_data[Genotype == 'MB010B.(II)SPARC-Chrimson ISO',]\n",
    "# dcast(panel1_data[, .(fly_name_reference = substr(fly_name_reference, 1, 15), ROI, PI, test)], formula = fly_name_reference+ ROI ~ test, value.var = \"PI\")\n",
    "# source(\"library.R\", local = T)\n",
    "# options(repr.plot.width=3)\n",
    "# annotation_df <- make_annotation_df(panel1_data, \"experiment\", alternative=\"greater\")\n",
    "# panel1 <- ggplot(data=panel1_data, aes(x=test, y = PI, group=experiment)) +\n",
    "#     geom_point(size=5) +\n",
    "#     geom_line(aes(group=id)) + geom_pop_etho() +\n",
    "#     scale_y_continuous(breaks=seq(-1, 1, 0.5), limits=c(-1, 1)) +\n",
    "#     scale_x_discrete(expand = expansion(mult = c(0.1, 0.1))) +\n",
    "#     facet_grid(. ~ experiment)\n",
    "\n",
    "# panel1 <- panel1 + geom_text(data=annotation_df, y=-0.8, size=5, x=\"PRE\", hjust=-.5, mapping=aes(label = paste0(\"N = \", N/2))) +\n",
    "#     geom_signif(\n",
    "#         data = annotation_df, \n",
    "#         aes(annotations = annotations), xmin=\"PRE\", xmax=\"POST\",\n",
    "#         y_position = 0.8,\n",
    "#         manual = TRUE,  tip_length = 0\n",
    "#     )\n",
    "# panel1"
   ]
  },
  {
   "cell_type": "code",
   "execution_count": 1162,
   "id": "f55a6305-fbf2-4315-80df-20e64fcd9ead",
   "metadata": {},
   "outputs": [
    {
     "data": {
      "text/plain": [
       "experiment\n",
       "         20min STM 20min STM unpaired                LTM            LTM CHX \n",
       "               238                108                164                126 "
      ]
     },
     "metadata": {},
     "output_type": "display_data"
    },
    {
     "data": {
      "text/plain": [
       "sheet\n",
       "KC GFP odor learning     KC Odor learning   Orb2 odor learning \n",
       "                  76                  120                   42 "
      ]
     },
     "metadata": {},
     "output_type": "display_data"
    }
   ],
   "source": [
    "data[, table(experiment)]\n",
    "data[experiment == \"20min STM\", table(sheet)]"
   ]
  },
  {
   "cell_type": "code",
   "execution_count": 1163,
   "id": "ac428cdc-381c-4d8f-ba26-738d9ccc0379",
   "metadata": {},
   "outputs": [
    {
     "data": {
      "text/plain": [
       "experiment\n",
       "20min STM       LTM \n",
       "       42        42 "
      ]
     },
     "metadata": {},
     "output_type": "display_data"
    }
   ],
   "source": [
    "data[Genotype==\"orb2\", table(experiment)]"
   ]
  },
  {
   "cell_type": "code",
   "execution_count": 1164,
   "id": "95a0b7ad-17de-4b36-b6bf-5512ccd3783c",
   "metadata": {},
   "outputs": [],
   "source": [
    "data <- data[, c(\"Fly_group_experiment_treatment\", \"fly_name_reference\",\t\"experiment\", \"id\", \"test\", \"PI\", \"Training_session\", \"Genotype\", \"interval\", zts, paste0(zts, \"_interactions\")), with=F]"
   ]
  },
  {
   "cell_type": "code",
   "execution_count": 1165,
   "id": "39a8907b-8f46-4b39-a491-7c1737c69052",
   "metadata": {
    "tags": []
   },
   "outputs": [
    {
     "data": {
      "text/html": [
       "<style>\n",
       ".list-inline {list-style: none; margin:0; padding: 0}\n",
       ".list-inline>li {display: inline-block}\n",
       ".list-inline>li:not(:last-child)::after {content: \"\\00b7\"; padding: 0 .5ex}\n",
       "</style>\n",
       "<ol class=list-inline><li>'2021-11-03 (CH1)_ROI_1'</li><li>'2021-11-03 (CH1)_ROI_2'</li><li>'2021-11-03 (CH1)_ROI_3'</li><li>'2021-11-03 (CH1)_ROI_5'</li><li>'2021-11-03 (CH1)_ROI_6'</li><li>'2021-11-03 (CH1)_ROI_7'</li><li>'2021-11-03 (CH1)_ROI_8'</li><li>'2021-11-03 (CH1)_ROI_9'</li><li>'2021-11-08 (CH)_ROI_1'</li><li>'2021-11-08 (CH)_ROI_2'</li><li>'2021-11-08 (CH)_ROI_3'</li><li>'2021-11-08 (CH)_ROI_5'</li><li>'2021-11-08 (CH)_ROI_6'</li><li>'2021-11-08 (CH)_ROI_7'</li><li>'2021-11-08 (CH)_ROI_8'</li><li>'2021-11-08 (CH)_ROI_9'</li><li>'2021-11-08 (CH)_ROI_10'</li><li>'2021-11-17 (CH)_ROI_1'</li><li>'2021-11-17 (CH)_ROI_2'</li><li>'2021-11-17 (CH)_ROI_3'</li><li>'2021-11-17 (CH)_ROI_4'</li><li>'2021-11-17 (CH)_ROI_5'</li><li>'2021-11-17 (CH)_ROI_7'</li><li>'2021-11-17 (CH)_ROI_8'</li><li>'2021-11-17 (CH)_ROI_9'</li><li>'2021-11-17 (CH1)_ROI_3'</li><li>'2021-11-17 (CH1)_ROI_4'</li><li>'2021-11-17 (CH1)_ROI_5'</li><li>'2021-11-17 (CH1)_ROI_7'</li><li>'2021-11-17 (CH1)_ROI_8'</li><li>'2021-11-17 (CH1)_ROI_10'</li></ol>\n"
      ],
      "text/latex": [
       "\\begin{enumerate*}\n",
       "\\item '2021-11-03 (CH1)\\_ROI\\_1'\n",
       "\\item '2021-11-03 (CH1)\\_ROI\\_2'\n",
       "\\item '2021-11-03 (CH1)\\_ROI\\_3'\n",
       "\\item '2021-11-03 (CH1)\\_ROI\\_5'\n",
       "\\item '2021-11-03 (CH1)\\_ROI\\_6'\n",
       "\\item '2021-11-03 (CH1)\\_ROI\\_7'\n",
       "\\item '2021-11-03 (CH1)\\_ROI\\_8'\n",
       "\\item '2021-11-03 (CH1)\\_ROI\\_9'\n",
       "\\item '2021-11-08 (CH)\\_ROI\\_1'\n",
       "\\item '2021-11-08 (CH)\\_ROI\\_2'\n",
       "\\item '2021-11-08 (CH)\\_ROI\\_3'\n",
       "\\item '2021-11-08 (CH)\\_ROI\\_5'\n",
       "\\item '2021-11-08 (CH)\\_ROI\\_6'\n",
       "\\item '2021-11-08 (CH)\\_ROI\\_7'\n",
       "\\item '2021-11-08 (CH)\\_ROI\\_8'\n",
       "\\item '2021-11-08 (CH)\\_ROI\\_9'\n",
       "\\item '2021-11-08 (CH)\\_ROI\\_10'\n",
       "\\item '2021-11-17 (CH)\\_ROI\\_1'\n",
       "\\item '2021-11-17 (CH)\\_ROI\\_2'\n",
       "\\item '2021-11-17 (CH)\\_ROI\\_3'\n",
       "\\item '2021-11-17 (CH)\\_ROI\\_4'\n",
       "\\item '2021-11-17 (CH)\\_ROI\\_5'\n",
       "\\item '2021-11-17 (CH)\\_ROI\\_7'\n",
       "\\item '2021-11-17 (CH)\\_ROI\\_8'\n",
       "\\item '2021-11-17 (CH)\\_ROI\\_9'\n",
       "\\item '2021-11-17 (CH1)\\_ROI\\_3'\n",
       "\\item '2021-11-17 (CH1)\\_ROI\\_4'\n",
       "\\item '2021-11-17 (CH1)\\_ROI\\_5'\n",
       "\\item '2021-11-17 (CH1)\\_ROI\\_7'\n",
       "\\item '2021-11-17 (CH1)\\_ROI\\_8'\n",
       "\\item '2021-11-17 (CH1)\\_ROI\\_10'\n",
       "\\end{enumerate*}\n"
      ],
      "text/markdown": [
       "1. '2021-11-03 (CH1)_ROI_1'\n",
       "2. '2021-11-03 (CH1)_ROI_2'\n",
       "3. '2021-11-03 (CH1)_ROI_3'\n",
       "4. '2021-11-03 (CH1)_ROI_5'\n",
       "5. '2021-11-03 (CH1)_ROI_6'\n",
       "6. '2021-11-03 (CH1)_ROI_7'\n",
       "7. '2021-11-03 (CH1)_ROI_8'\n",
       "8. '2021-11-03 (CH1)_ROI_9'\n",
       "9. '2021-11-08 (CH)_ROI_1'\n",
       "10. '2021-11-08 (CH)_ROI_2'\n",
       "11. '2021-11-08 (CH)_ROI_3'\n",
       "12. '2021-11-08 (CH)_ROI_5'\n",
       "13. '2021-11-08 (CH)_ROI_6'\n",
       "14. '2021-11-08 (CH)_ROI_7'\n",
       "15. '2021-11-08 (CH)_ROI_8'\n",
       "16. '2021-11-08 (CH)_ROI_9'\n",
       "17. '2021-11-08 (CH)_ROI_10'\n",
       "18. '2021-11-17 (CH)_ROI_1'\n",
       "19. '2021-11-17 (CH)_ROI_2'\n",
       "20. '2021-11-17 (CH)_ROI_3'\n",
       "21. '2021-11-17 (CH)_ROI_4'\n",
       "22. '2021-11-17 (CH)_ROI_5'\n",
       "23. '2021-11-17 (CH)_ROI_7'\n",
       "24. '2021-11-17 (CH)_ROI_8'\n",
       "25. '2021-11-17 (CH)_ROI_9'\n",
       "26. '2021-11-17 (CH1)_ROI_3'\n",
       "27. '2021-11-17 (CH1)_ROI_4'\n",
       "28. '2021-11-17 (CH1)_ROI_5'\n",
       "29. '2021-11-17 (CH1)_ROI_7'\n",
       "30. '2021-11-17 (CH1)_ROI_8'\n",
       "31. '2021-11-17 (CH1)_ROI_10'\n",
       "\n",
       "\n"
      ],
      "text/plain": [
       " [1] \"2021-11-03 (CH1)_ROI_1\"  \"2021-11-03 (CH1)_ROI_2\" \n",
       " [3] \"2021-11-03 (CH1)_ROI_3\"  \"2021-11-03 (CH1)_ROI_5\" \n",
       " [5] \"2021-11-03 (CH1)_ROI_6\"  \"2021-11-03 (CH1)_ROI_7\" \n",
       " [7] \"2021-11-03 (CH1)_ROI_8\"  \"2021-11-03 (CH1)_ROI_9\" \n",
       " [9] \"2021-11-08 (CH)_ROI_1\"   \"2021-11-08 (CH)_ROI_2\"  \n",
       "[11] \"2021-11-08 (CH)_ROI_3\"   \"2021-11-08 (CH)_ROI_5\"  \n",
       "[13] \"2021-11-08 (CH)_ROI_6\"   \"2021-11-08 (CH)_ROI_7\"  \n",
       "[15] \"2021-11-08 (CH)_ROI_8\"   \"2021-11-08 (CH)_ROI_9\"  \n",
       "[17] \"2021-11-08 (CH)_ROI_10\"  \"2021-11-17 (CH)_ROI_1\"  \n",
       "[19] \"2021-11-17 (CH)_ROI_2\"   \"2021-11-17 (CH)_ROI_3\"  \n",
       "[21] \"2021-11-17 (CH)_ROI_4\"   \"2021-11-17 (CH)_ROI_5\"  \n",
       "[23] \"2021-11-17 (CH)_ROI_7\"   \"2021-11-17 (CH)_ROI_8\"  \n",
       "[25] \"2021-11-17 (CH)_ROI_9\"   \"2021-11-17 (CH1)_ROI_3\" \n",
       "[27] \"2021-11-17 (CH1)_ROI_4\"  \"2021-11-17 (CH1)_ROI_5\" \n",
       "[29] \"2021-11-17 (CH1)_ROI_7\"  \"2021-11-17 (CH1)_ROI_8\" \n",
       "[31] \"2021-11-17 (CH1)_ROI_10\""
      ]
     },
     "metadata": {},
     "output_type": "display_data"
    }
   ],
   "source": [
    "data[Genotype==\"Iso31\" & experiment == \"LTM\" & test == \"PRE\", fly_name_reference]"
   ]
  },
  {
   "cell_type": "code",
   "execution_count": null,
   "id": "84c40e98-2361-4882-b253-75849a935f5a",
   "metadata": {},
   "outputs": [],
   "source": []
  },
  {
   "cell_type": "code",
   "execution_count": 1166,
   "id": "2813d302-5d2d-4ab2-8efc-0ba60387f4a6",
   "metadata": {},
   "outputs": [],
   "source": [
    "data.table::fwrite(x = data, file = \"chui_tidy_data.csv\")"
   ]
  },
  {
   "cell_type": "code",
   "execution_count": 1167,
   "id": "60f074d5-fcd3-4277-b805-cc5f1cd22f33",
   "metadata": {},
   "outputs": [
    {
     "data": {
      "text/plain": [
       "\n",
       "         20min STM 20min STM unpaired                LTM            LTM CHX \n",
       "               238                108                164                126 "
      ]
     },
     "metadata": {},
     "output_type": "display_data"
    }
   ],
   "source": [
    "table(data$experiment)"
   ]
  },
  {
   "cell_type": "code",
   "execution_count": 1168,
   "id": "5f623852-0ad8-4505-9741-235c66c802d4",
   "metadata": {},
   "outputs": [
    {
     "data": {
      "text/plain": [
       "Genotype\n",
       "MB010B.(II)SPARC-Chrimson ISO      MB010B.(II)SPARC-GFP ISO \n",
       "                          120                            76 \n",
       "                         orb2 \n",
       "                           42 "
      ]
     },
     "metadata": {},
     "output_type": "display_data"
    }
   ],
   "source": [
    "data[experiment == \"20min STM\",table(Genotype)]"
   ]
  },
  {
   "cell_type": "code",
   "execution_count": 1169,
   "id": "bc98ebd8-ed9b-4f69-b1d3-508662593954",
   "metadata": {},
   "outputs": [
    {
     "data": {
      "text/plain": [
       "Genotype\n",
       "MB010B.(II)SPARC-Chrimson ISO      MB010B.(II)SPARC-GFP ISO \n",
       "                           60                            38 \n",
       "                         orb2 \n",
       "                           21 "
      ]
     },
     "metadata": {},
     "output_type": "display_data"
    }
   ],
   "source": [
    "data[experiment == \"20min STM\" & test == \"PRE\", table(Genotype)]"
   ]
  },
  {
   "cell_type": "code",
   "execution_count": 1170,
   "id": "8a54fee5-4078-4ce4-b351-f59fc1020a2d",
   "metadata": {},
   "outputs": [
    {
     "data": {
      "text/plain": [
       "experiment\n",
       "20min STM       LTM \n",
       "       42        42 "
      ]
     },
     "metadata": {},
     "output_type": "display_data"
    }
   ],
   "source": [
    "data[Genotype==\"orb2\", table(experiment)]"
   ]
  },
  {
   "cell_type": "code",
   "execution_count": null,
   "id": "7e9e239b-23e0-4181-876a-898bf3442e0a",
   "metadata": {},
   "outputs": [],
   "source": []
  },
  {
   "cell_type": "code",
   "execution_count": null,
   "id": "64a330a9-99cc-4fea-910a-dd082cd9d24c",
   "metadata": {},
   "outputs": [],
   "source": []
  },
  {
   "cell_type": "code",
   "execution_count": null,
   "id": "2eb8a3d7-cde0-4e15-8fec-d2e70f0e09a3",
   "metadata": {},
   "outputs": [],
   "source": []
  }
 ],
 "metadata": {
  "kernelspec": {
   "display_name": "R42",
   "language": "R",
   "name": "r42"
  },
  "language_info": {
   "codemirror_mode": "r",
   "file_extension": ".r",
   "mimetype": "text/x-r-source",
   "name": "R",
   "pygments_lexer": "r",
   "version": "4.2.3"
  }
 },
 "nbformat": 4,
 "nbformat_minor": 5
}
